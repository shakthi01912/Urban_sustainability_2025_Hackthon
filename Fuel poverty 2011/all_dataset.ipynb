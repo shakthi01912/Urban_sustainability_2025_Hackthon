{
 "cells": [
  {
   "cell_type": "markdown",
   "metadata": {},
   "source": [
    "###  ***Loading datasets***"
   ]
  },
  {
   "cell_type": "code",
   "execution_count": 4,
   "metadata": {},
   "outputs": [
    {
     "name": "stderr",
     "output_type": "stream",
     "text": [
      "/var/folders/5n/l1swydn11bg6c9v7_60kdfl00000gn/T/ipykernel_8853/2260447970.py:3: DtypeWarning: Columns (22,23,26,28,32,34,36,38,40,42) have mixed types. Specify dtype option on import or set low_memory=False.\n",
      "  energy_efficiency_df = pd.read_csv('/Users/shakthimaha/Downloads/Hackthon_KCL/Energy effieciency/LBSM_All_London.csv')\n"
     ]
    }
   ],
   "source": [
    "import pandas as pd\n",
    "\n",
    "energy_efficiency_df = pd.read_csv('/Users/shakthimaha/Downloads/Hackthon_KCL/Energy effieciency/LBSM_All_London.csv')\n",
    "fuel_poverty_df = pd.read_excel('/Users/shakthimaha/Downloads/Hackthon_KCL/FuelPoverty_2009-2011/fuel poverty.xlsx', sheet_name='LSOA 2009 - 2011')\n",
    "dwelling_type_df = pd.read_excel('/Users/shakthimaha/Downloads/Hackthon_KCL/built period + house types/dwelling-build-period and-property-type-2014-lsoa-msoa.xlsx', sheet_name='Table 2.4')\n",
    "dwelling_build_period_df = pd.read_excel('/Users/shakthimaha/Downloads/Hackthon_KCL/built period + house types/dwelling-build-period and-property-type-2014-lsoa-msoa.xlsx', sheet_name='Table 4.4')\n",
    "income_tax_payers_df = pd.read_excel('/Users/shakthimaha/Downloads/Hackthon_KCL/Income + Number of individiual/income-of-tax-payers.xlsx', sheet_name='Total Income')\n",
    "gas_consumption_df = pd.read_excel('/Users/shakthimaha/Downloads/Hackthon_KCL/Gas_Consumption_Domestic/LSOA_domestic_gas_2010-2023.xlsx', sheet_name='2011')\n",
    "elec_consumption_df = pd.read_excel('/Users/shakthimaha/Downloads/Hackthon_KCL/Electricity_Consumption_Domestic/LSOA_domestic_elec_2010-2023.xlsx', sheet_name='2011')\n",
    "zcored_data_df = pd.read_csv('/Users/shakthimaha/Downloads/Hackthon_KCL/zcored_data.csv')"
   ]
  },
  {
   "cell_type": "code",
   "execution_count": 5,
   "metadata": {},
   "outputs": [
    {
     "name": "stdout",
     "output_type": "stream",
     "text": [
      "Index([  'LSOA 2001 Code',   'LSOA 2001 Name',          'LA Name',\n",
      "                   2009.0,             2010.0, 'Fuelpoverty-2011'],\n",
      "      dtype='object', name=0)\n"
     ]
    }
   ],
   "source": [
    "fuel_poverty_df.columns = fuel_poverty_df.iloc[0]  # Set the first row as column names\n",
    "fuel_poverty_df = fuel_poverty_df[1:].reset_index(drop=True)  # Drop the first row and reset index\n",
    "print(fuel_poverty_df.columns)"
   ]
  },
  {
   "cell_type": "code",
   "execution_count": 6,
   "metadata": {},
   "outputs": [
    {
     "name": "stdout",
     "output_type": "stream",
     "text": [
      "Index(['Code', 'Area', 'Number of Individuals', 'Mean £', 'Median £',\n",
      "       'Number of Individuals', 'Mean £', 'Median £', 'Number of Individuals',\n",
      "       'Mean £', 'Median £', 'Number of Individuals', 'Mean £', 'Median £',\n",
      "       'Number of Individuals', 'Mean £', 'Median £', 'Number of Individuals',\n",
      "       'Mean £', 'Median £', 'Number of Individuals', 'Mean £', 'Median £',\n",
      "       'Number of Individuals', 'Mean £', 'Median £', 'Number of Individuals',\n",
      "       'Mean £', 'Median £', 'Number of Individuals', 'Mean £', 'Median £',\n",
      "       'Number of Individuals', 'Mean £', 'Median', 'Number of Individuals',\n",
      "       'Mean £', 'Median £ 2011-12', 'Number of Individuals2011-12', 'Mean £',\n",
      "       'Median £', 'Number of Individuals', 'Mean £', 'Median £',\n",
      "       'Number of Individuals', 'Mean £', 'Median £', 'Number of Individuals',\n",
      "       'Mean £', 'Median £', 'Number of Individuals', 'Mean £', 'Median £',\n",
      "       'Number of Individuals', 'Mean £', 'Median £', 'Number of Individuals',\n",
      "       'Mean £', 'Median £', 'Number of Individuals', 'Mean £', 'Median £',\n",
      "       'Number of Individuals', 'Mean £', 'Median £', 'Number of Individuals',\n",
      "       'Mean £', 'Median £', 'Number of Individuals', 'Mean £', 'Median £'],\n",
      "      dtype='object', name=0)\n"
     ]
    }
   ],
   "source": [
    "income_tax_payers_df.columns = income_tax_payers_df.iloc[0]  # Set the first row as column names\n",
    "income_tax_payers_df = income_tax_payers_df[1:].reset_index(drop=True)  # Drop the first row and reset index\n",
    "print(income_tax_payers_df.columns)"
   ]
  },
  {
   "cell_type": "code",
   "execution_count": 7,
   "metadata": {},
   "outputs": [
    {
     "data": {
      "text/plain": [
       "Index(['Local authority code', 'Local authority', 'MSOA code',\n",
       "       'Middle layer super output area', 'LSOA code',\n",
       "       'Lower layer super output area', 'Number\\nof meters\\n',\n",
       "       'Total \\nconsumption\\n(kWh)', 'Mean consumption',\n",
       "       'Median consumption (kWh per meter)'],\n",
       "      dtype='object')"
      ]
     },
     "execution_count": 7,
     "metadata": {},
     "output_type": "execute_result"
    }
   ],
   "source": [
    "gas_consumption_df.columns"
   ]
  },
  {
   "cell_type": "code",
   "execution_count": 8,
   "metadata": {},
   "outputs": [
    {
     "data": {
      "text/plain": [
       "Index(['Local authority code', 'Local authority', 'MSOA code',\n",
       "       'Middle layer super output area', 'LSOA code',\n",
       "       'Lower layer super output area', 'Number\\nof meters\\n',\n",
       "       'Total \\nconsumption\\n(kWh)', 'Mean consumption\\n',\n",
       "       'Median consumption (kWh per meter)'],\n",
       "      dtype='object')"
      ]
     },
     "execution_count": 8,
     "metadata": {},
     "output_type": "execute_result"
    }
   ],
   "source": [
    "elec_consumption_df.columns"
   ]
  },
  {
   "cell_type": "code",
   "execution_count": 9,
   "metadata": {},
   "outputs": [
    {
     "data": {
      "text/plain": [
       "Index(['LSOA11CD', 'LSOA11NM', 'geometry', 'Fuel_Poverty_2011',\n",
       "       'Mean_Elec_Consumption', 'Mean_Gas_Consumption', 'Avg_Build_Year',\n",
       "       'Median_Annual_household_income', 'Density_of_Households',\n",
       "       'households_with_resident_percentage',\n",
       "       'households_no_resident_percentage', 'whole_house_detached_percentage',\n",
       "       'whole_house_semi_detached_percentage',\n",
       "       'whole_house_terraced_percentage',\n",
       "       'flat_maisonette_apartment_percentage',\n",
       "       'Revised_Energy_Efficiency_Rating_Numeric',\n",
       "       'Revised_Energy_Efficiency'],\n",
       "      dtype='object')"
      ]
     },
     "execution_count": 9,
     "metadata": {},
     "output_type": "execute_result"
    }
   ],
   "source": [
    "zcored_data_df.columns\n"
   ]
  },
  {
   "cell_type": "code",
   "execution_count": 10,
   "metadata": {},
   "outputs": [],
   "source": [
    "\n",
    "# Rename LSOA column for consistency\n",
    "energy_efficiency_df.rename(columns={'LSOA': 'LSOA11CD'}, inplace=True)\n",
    "fuel_poverty_df.rename(columns={'LSOA 2001 Code': 'LSOA11CD'}, inplace=True)\n",
    "dwelling_type_df.rename(columns={'Area Code': 'LSOA11CD'}, inplace=True)\n",
    "dwelling_build_period_df.rename(columns={'Area Code3': 'LSOA11CD'}, inplace=True)\n",
    "income_tax_payers_df.rename(columns={'Code': 'LSOA11CD'}, inplace=True)\n",
    "gas_consumption_df.rename(columns={'LSOA code': 'LSOA11CD'}, inplace=True)\n",
    "elec_consumption_df.rename(columns={'LSOA code': 'LSOA11CD'}, inplace=True)"
   ]
  },
  {
   "cell_type": "code",
   "execution_count": 11,
   "metadata": {},
   "outputs": [],
   "source": [
    "for df_name, df in {\n",
    "    'energy_efficiency_df': energy_efficiency_df,\n",
    "    'fuel_poverty_df': fuel_poverty_df,\n",
    "    'dwelling_type': dwelling_type_df,\n",
    "    'dwelling_build_period_df': dwelling_build_period_df,\n",
    "    'income_tax_payers_df': income_tax_payers_df,\n",
    "    'gas_consumption_df': gas_consumption_df,\n",
    "    'elec_consumption_df': elec_consumption_df,\n",
    "    'zcored_data_df': zcored_data_df,\n",
    "}.items():\n",
    "    if 'LSOA11CD' not in df.columns:\n",
    "        print(f\"Warning: {df_name} does not contain 'LSOA11CD'\")"
   ]
  },
  {
   "cell_type": "code",
   "execution_count": 12,
   "metadata": {},
   "outputs": [
    {
     "name": "stdout",
     "output_type": "stream",
     "text": [
      "Number of unique LSOA codes: 4642\n"
     ]
    }
   ],
   "source": [
    "# Check the number of unique LSOA codes in the zcored_data_df\n",
    "num_lsoa_codes = zcored_data_df['LSOA11CD'].nunique()\n",
    "print(f\"Number of unique LSOA codes: {num_lsoa_codes}\")"
   ]
  },
  {
   "cell_type": "code",
   "execution_count": 13,
   "metadata": {},
   "outputs": [
    {
     "name": "stdout",
     "output_type": "stream",
     "text": [
      "Number of rows in the zcored_data_df: 4642\n"
     ]
    }
   ],
   "source": [
    "# Check the number of rows in the zcored_data_df\n",
    "num_rows = zcored_data_df.shape[0]\n",
    "print(f\"Number of rows in the zcored_data_df: {num_rows}\")"
   ]
  },
  {
   "cell_type": "markdown",
   "metadata": {},
   "source": [
    "### **Merging the dataset**\n"
   ]
  },
  {
   "cell_type": "code",
   "execution_count": 14,
   "metadata": {},
   "outputs": [
    {
     "name": "stdout",
     "output_type": "stream",
     "text": [
      "    LSOA11CD                   LSOA11NM  \\\n",
      "0  E01000001        City of London 001A   \n",
      "1  E01000002        City of London 001B   \n",
      "2  E01000003        City of London 001C   \n",
      "3  E01000005        City of London 001E   \n",
      "4  E01000006  Barking and Dagenham 016A   \n",
      "\n",
      "                                            geometry  \\\n",
      "0  POLYGON ((-0.097262816705372 51.52157881522085...   \n",
      "1  POLYGON ((-0.0881031757855782 51.5194123775888...   \n",
      "2  POLYGON ((-0.0967598383726936 51.5232512920432...   \n",
      "3  POLYGON ((-0.0732048670708826 51.5100037359235...   \n",
      "4  POLYGON ((0.0911789815733874 51.53908634564686...   \n",
      "\n",
      "   AGG_RVEPC_CURRENT_ENERGY_EFFICIENCY_BY_FLOORAREA  \\\n",
      "0                                              64.0   \n",
      "1                                              55.0   \n",
      "2                                               NaN   \n",
      "3                                              61.0   \n",
      "4                                               NaN   \n",
      "\n",
      "  AGG_RVEPC_CURRENT_ENERGY_RATING_BY_FLOORAREA Median £ 2011-12  \\\n",
      "0                                            D              NaN   \n",
      "1                                            E              NaN   \n",
      "2                                          NaN              NaN   \n",
      "3                                            D              NaN   \n",
      "4                                          NaN              NaN   \n",
      "\n",
      "  Number of Individuals2011-12 Fuelpoverty-2011 Flat/Maisonette Total  \\\n",
      "0                          NaN                4                  1040   \n",
      "1                          NaN              3.8                  1220   \n",
      "2                          NaN              4.6                   910   \n",
      "3                          NaN              3.3                   690   \n",
      "4                          NaN              8.9                   140   \n",
      "\n",
      "  House Terraced Total  ... 1945 to 1954 1955 to 1964 1965 to 1972  \\\n",
      "0                   10  ...            -            -          850   \n",
      "1                   50  ...            -           70          910   \n",
      "2                    -  ...            -           20          780   \n",
      "3                    -  ...            -          140          110   \n",
      "4                  380  ...           30            -            -   \n",
      "\n",
      "  1973 to 1982 1983 to 1992 1993 to 1999 2000 to 2009 2010 to 2012  \\\n",
      "0           10            -           50           80            -   \n",
      "1            -           10            -            -          280   \n",
      "2            -            -           60           40            -   \n",
      "3          160           80            -           10           80   \n",
      "4            -            -          130           10            -   \n",
      "\n",
      "  Median consumption (kWh per meter)_x Median consumption (kWh per meter)_y  \n",
      "0                               5444.0                               3790.6  \n",
      "1                              15651.0                               3732.7  \n",
      "2                               7530.0                               2150.8  \n",
      "3                               3871.5                               2211.4  \n",
      "4                              15512.5                               3934.4  \n",
      "\n",
      "[5 rows x 26 columns]\n",
      "Number of rows in merged dataset: 4642\n",
      "Merged data saved to /Users/shakthimaha/Downloads/Hackthon_KCL/merged_data.csv\n"
     ]
    }
   ],
   "source": [
    "import pandas as pd\n",
    "\n",
    "# Ensure there are no duplicates in each dataset before merging\n",
    "energy_efficiency_df = energy_efficiency_df.drop_duplicates(subset=['LSOA11CD'])\n",
    "income_tax_payers_df = income_tax_payers_df.drop_duplicates(subset=['LSOA11CD'])\n",
    "fuel_poverty_df = fuel_poverty_df.drop_duplicates(subset=['LSOA11CD'])\n",
    "dwelling_type_df = dwelling_type_df.drop_duplicates(subset=['LSOA11CD'])\n",
    "dwelling_build_period_df = dwelling_build_period_df.drop_duplicates(subset=['LSOA11CD'])\n",
    "gas_consumption_df = gas_consumption_df.drop_duplicates(subset=['LSOA11CD'])\n",
    "elec_consumption_df = elec_consumption_df.drop_duplicates(subset=['LSOA11CD'])\n",
    "zcored_data_df = zcored_data_df.drop_duplicates(subset=['LSOA11CD'])\n",
    "\n",
    "# Select relevant columns (keep this as before)\n",
    "energy_efficiency_df = energy_efficiency_df[['LSOA11CD', 'AGG_RVEPC_CURRENT_ENERGY_EFFICIENCY_BY_FLOORAREA', 'AGG_RVEPC_CURRENT_ENERGY_RATING_BY_FLOORAREA']]\n",
    "income_tax_payers_df = income_tax_payers_df[['LSOA11CD', 'Median £ 2011-12', 'Number of Individuals2011-12']]\n",
    "fuel_poverty_df = fuel_poverty_df[['LSOA11CD', 'Fuelpoverty-2011']]\n",
    "dwelling_type_df = dwelling_type_df[['LSOA11CD', 'Flat/Maisonette Total', 'House Terraced Total', 'House Semi-detached Total', 'House Detached Total']]\n",
    "dwelling_build_period_df = dwelling_build_period_df[['LSOA11CD', 'Pre 1900', '1900 to 1918', '1919 to 1929', '1930 to 1939', '1945 to 1954', '1955 to 1964', \n",
    "                              '1965 to 1972', '1973 to 1982', '1983 to 1992', '1993 to 1999', '2000 to 2009', '2010 to 2012']]\n",
    "gas_consumption_df = gas_consumption_df[['LSOA11CD', 'Median consumption (kWh per meter)']]\n",
    "elec_consumption_df = elec_consumption_df[['LSOA11CD', 'Median consumption (kWh per meter)']]\n",
    "zcored_data_df = zcored_data_df[['LSOA11CD', 'LSOA11NM', 'geometry']]\n",
    "\n",
    "# Merge all datasets on LSOA11CD (with left join to retain all rows from zcored_data_df)\n",
    "merged_df = zcored_data_df \\\n",
    "    .merge(energy_efficiency_df, on='LSOA11CD', how='left') \\\n",
    "    .merge(income_tax_payers_df, on='LSOA11CD', how='left') \\\n",
    "    .merge(fuel_poverty_df, on='LSOA11CD', how='left') \\\n",
    "    .merge(dwelling_type_df, on='LSOA11CD', how='left') \\\n",
    "    .merge(dwelling_build_period_df, on='LSOA11CD', how='left') \\\n",
    "    .merge(gas_consumption_df, on='LSOA11CD', how='left') \\\n",
    "    .merge(elec_consumption_df, on='LSOA11CD', how='left')\n",
    "\n",
    "# Display merged DataFrame to check the first few rows\n",
    "print(merged_df.head())\n",
    "\n",
    "# Check the shape of the merged dataset to confirm the number of rows\n",
    "print(f\"Number of rows in merged dataset: {merged_df.shape[0]}\")\n",
    "\n",
    "# Optionally, save the final merged dataset to a CSV\n",
    "output_file = '/Users/shakthimaha/Downloads/Hackthon_KCL/merged_data.csv'\n",
    "merged_df.to_csv(output_file, index=False)\n",
    "\n",
    "print(f\"Merged data saved to {output_file}\")"
   ]
  },
  {
   "cell_type": "markdown",
   "metadata": {},
   "source": [
    "### ***cleaning the merged dataset***"
   ]
  },
  {
   "cell_type": "code",
   "execution_count": 15,
   "metadata": {},
   "outputs": [
    {
     "name": "stdout",
     "output_type": "stream",
     "text": [
      "   Lsoa_code                  Lsoa_name  \\\n",
      "0  E01000001        City of London 001A   \n",
      "1  E01000002        City of London 001B   \n",
      "2  E01000003        City of London 001C   \n",
      "3  E01000005        City of London 001E   \n",
      "4  E01000006  Barking and Dagenham 016A   \n",
      "\n",
      "                                            Geometry  \\\n",
      "0  POLYGON ((-0.097262816705372 51.52157881522085...   \n",
      "1  POLYGON ((-0.0881031757855782 51.5194123775888...   \n",
      "2  POLYGON ((-0.0967598383726936 51.5232512920432...   \n",
      "3  POLYGON ((-0.0732048670708826 51.5100037359235...   \n",
      "4  POLYGON ((0.0911789815733874 51.53908634564686...   \n",
      "\n",
      "   energy_efficiency_floor_area energy_rating_floor_area  \\\n",
      "0                          64.0                        D   \n",
      "1                          55.0                        E   \n",
      "2                           NaN                      NaN   \n",
      "3                          61.0                        D   \n",
      "4                           NaN                      NaN   \n",
      "\n",
      "   median_income_2011_12  number_of_individuals_2011_12  fuel_poverty_2011  \\\n",
      "0                    NaN                            NaN                4.0   \n",
      "1                    NaN                            NaN                3.8   \n",
      "2                    NaN                            NaN                4.6   \n",
      "3                    NaN                            NaN                3.3   \n",
      "4                    NaN                            NaN                8.9   \n",
      "\n",
      "  flat_maisonette_total house_terraced_total  ... built_1945_1954  \\\n",
      "0                  1040                   10  ...               -   \n",
      "1                  1220                   50  ...               -   \n",
      "2                   910                    -  ...               -   \n",
      "3                   690                    -  ...               -   \n",
      "4                   140                  380  ...              30   \n",
      "\n",
      "  built_1955_1964 built_1965_1972 built_1973_1982 built_1983_1992  \\\n",
      "0               -             850              10               -   \n",
      "1              70             910               -              10   \n",
      "2              20             780               -               -   \n",
      "3             140             110             160              80   \n",
      "4               -               -               -               -   \n",
      "\n",
      "  built_1993_1999 built_2000_2009 built_2010_2012  \\\n",
      "0              50              80               -   \n",
      "1               -               -             280   \n",
      "2              60              40               -   \n",
      "3               -              10              80   \n",
      "4             130              10               -   \n",
      "\n",
      "  Gas median consumption (kwh) Electricity median_consumption (kwh)  \n",
      "0                       5444.0                               3790.6  \n",
      "1                      15651.0                               3732.7  \n",
      "2                       7530.0                               2150.8  \n",
      "3                       3871.5                               2211.4  \n",
      "4                      15512.5                               3934.4  \n",
      "\n",
      "[5 rows x 26 columns]\n"
     ]
    }
   ],
   "source": [
    "import geopandas as gpd\n",
    "import pandas as pd\n",
    "\n",
    "# Load dataset\n",
    "df = pd.read_csv(\"/Users/shakthimaha/Downloads/Hackthon_KCL/merged_data.csv\")\n",
    "\n",
    "# Define new column names\n",
    "new_column_names = {\n",
    "    \"LSOA11CD\": \"Lsoa_code\",\n",
    "    \"LSOA11NM\": \"Lsoa_name\",\n",
    "    \"geometry\": \"Geometry\",\n",
    "    \"AGG_RVEPC_CURRENT_ENERGY_EFFICIENCY_BY_FLOORAREA\": \"energy_efficiency_floor_area\",\n",
    "    \"AGG_RVEPC_CURRENT_ENERGY_RATING_BY_FLOORAREA\": \"energy_rating_floor_area\",\n",
    "    \"Median £ 2011-12\": \"median_income_2011_12\",\n",
    "    \"Number of Individuals2011-12\": \"number_of_individuals_2011_12\",\n",
    "    \"Fuelpoverty-2011\": \"fuel_poverty_2011\",\n",
    "    \"Flat/Maisonette Total\": \"flat_maisonette_total\",\n",
    "    \"House Terraced Total\": \"house_terraced_total\",\n",
    "    \"House Semi-detached Total\": \"house_semi_detached_total\",\n",
    "    \"House Detached Total\": \"house_detached_total\",\n",
    "    \"Pre 1900\": \"built_pre_1900\",\n",
    "    \"1900 to 1918\": \"built_1900_1918\",\n",
    "    \"1919 to 1929\": \"built_1919_1929\",\n",
    "    \"1930 to 1939\": \"built_1930_1939\",\n",
    "    \"1945 to 1954\": \"built_1945_1954\",\n",
    "    \"1955 to 1964\": \"built_1955_1964\",\n",
    "    \"1965 to 1972\": \"built_1965_1972\",\n",
    "    \"1973 to 1982\": \"built_1973_1982\",\n",
    "    \"1983 to 1992\": \"built_1983_1992\",\n",
    "    \"1993 to 1999\": \"built_1993_1999\",\n",
    "    \"2000 to 2009\": \"built_2000_2009\",\n",
    "    \"2010 to 2012\": \"built_2010_2012\",\n",
    "    \"Median consumption (kWh per meter)_x\": \"Gas median consumption (kwh)\",\n",
    "    \"Median consumption (kWh per meter)_y\": \"Electricity median_consumption (kwh)\",\n",
    "}\n",
    "\n",
    "# Rename columns\n",
    "df.rename(columns=new_column_names, inplace=True)\n",
    "\n",
    "# Display updated column names\n",
    "print(df.head())"
   ]
  },
  {
   "cell_type": "markdown",
   "metadata": {},
   "source": []
  },
  {
   "cell_type": "code",
   "execution_count": 17,
   "metadata": {},
   "outputs": [
    {
     "name": "stdout",
     "output_type": "stream",
     "text": [
      "Lsoa_code                                 0.000000\n",
      "Lsoa_name                                 0.000000\n",
      "Geometry                                  0.000000\n",
      "energy_efficiency_floor_area             42.007755\n",
      "energy_rating_floor_area                 42.007755\n",
      "median_income_2011_12                   100.000000\n",
      "number_of_individuals_2011_12           100.000000\n",
      "fuel_poverty_2011                         0.000000\n",
      "flat_maisonette_total                     0.000000\n",
      "house_terraced_total                      0.000000\n",
      "house_semi_detached_total                 0.000000\n",
      "house_detached_total                      0.000000\n",
      "built_pre_1900                            0.000000\n",
      "built_1900_1918                           0.000000\n",
      "built_1919_1929                           0.000000\n",
      "built_1930_1939                           0.000000\n",
      "built_1945_1954                           0.000000\n",
      "built_1955_1964                           0.000000\n",
      "built_1965_1972                           0.000000\n",
      "built_1973_1982                           0.000000\n",
      "built_1983_1992                           0.000000\n",
      "built_1993_1999                           0.000000\n",
      "built_2000_2009                           0.000000\n",
      "built_2010_2012                           0.000000\n",
      "Gas median consumption (kwh)              0.000000\n",
      "Electricity median_consumption (kwh)      0.000000\n",
      "dtype: float64\n"
     ]
    }
   ],
   "source": [
    "# Calculate the percentage of missing values in each column\n",
    "null_percentage = df.isnull().mean() * 100\n",
    "\n",
    "# Display the columns with their null percentage\n",
    "print(null_percentage)"
   ]
  }
 ],
 "metadata": {
  "kernelspec": {
   "display_name": "venv",
   "language": "python",
   "name": "python3"
  },
  "language_info": {
   "codemirror_mode": {
    "name": "ipython",
    "version": 3
   },
   "file_extension": ".py",
   "mimetype": "text/x-python",
   "name": "python",
   "nbconvert_exporter": "python",
   "pygments_lexer": "ipython3",
   "version": "3.12.8"
  }
 },
 "nbformat": 4,
 "nbformat_minor": 2
}

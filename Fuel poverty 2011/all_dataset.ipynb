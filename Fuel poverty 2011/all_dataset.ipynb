{
 "cells": [
  {
   "cell_type": "markdown",
   "metadata": {},
   "source": [
    "###  ***Loading datasets***"
   ]
  },
  {
   "cell_type": "code",
   "execution_count": 16,
   "metadata": {},
   "outputs": [],
   "source": [
    "import pandas as pd\n",
    "\n",
    "energy_efficiency_df = pd.read_csv('/Users/shakthimaha/Downloads/Hackthon_KCL/Energy effieciency/LBSM_All_London.csv', low_memory=False)\n",
    "all_house_holds_df = pd.read_excel('/Users/shakthimaha/Downloads/Hackthon_KCL/Income + Number of individiual/houshold income.xls', sheet_name='iadatasheet1')\n",
    "fuel_poverty_df = pd.read_excel('/Users/shakthimaha/Downloads/Hackthon_KCL/FuelPoverty_2009-2011/fuel poverty.xlsx', sheet_name='LSOA 2009 - 2011')\n",
    "dwelling_type_df = pd.read_excel('/Users/shakthimaha/Downloads/Hackthon_KCL/built period + house types/dwelling-build-period and-property-type-2014-lsoa-msoa.xlsx', sheet_name='Table 2.4')\n",
    "dwelling_build_period_df = pd.read_excel('/Users/shakthimaha/Downloads/Hackthon_KCL/built period + house types/dwelling-build-period and-property-type-2014-lsoa-msoa.xlsx', sheet_name='Table 4.4')\n",
    "income_df = pd.read_excel('/Users/shakthimaha/Downloads/Hackthon_KCL/Income + Number of individiual/houshold income.xls', sheet_name='iadatasheet2')\n",
    "gas_consumption_df = pd.read_excel('/Users/shakthimaha/Downloads/Hackthon_KCL/Gas_Consumption_Domestic/LSOA_domestic_gas_2010-2023.xlsx', sheet_name='2011')\n",
    "elec_consumption_df = pd.read_excel('/Users/shakthimaha/Downloads/Hackthon_KCL/Electricity_Consumption_Domestic/LSOA_domestic_elec_2010-2023.xlsx', sheet_name='2011')\n",
    "zcored_data_df = pd.read_csv('/Users/shakthimaha/Downloads/Hackthon_KCL/zcored_data.csv')"
   ]
  },
  {
   "cell_type": "code",
   "execution_count": 17,
   "metadata": {},
   "outputs": [
    {
     "name": "stdout",
     "output_type": "stream",
     "text": [
      "Index([  'LSOA 2001 Code',   'LSOA 2001 Name',          'LA Name',\n",
      "                   2009.0,             2010.0, 'Fuelpoverty-2011'],\n",
      "      dtype='object', name=0)\n"
     ]
    }
   ],
   "source": [
    "fuel_poverty_df.columns = fuel_poverty_df.iloc[0]  # Set the first row as column names\n",
    "fuel_poverty_df = fuel_poverty_df[1:].reset_index(drop=True)  # Drop the first row and reset index\n",
    "print(fuel_poverty_df.columns)"
   ]
  },
  {
   "cell_type": "code",
   "execution_count": 18,
   "metadata": {},
   "outputs": [
    {
     "data": {
      "text/plain": [
       "Index(['Local authority code', 'Local authority', 'MSOA code',\n",
       "       'Middle layer super output area', 'LSOA code',\n",
       "       'Lower layer super output area', 'Number\\nof meters\\n',\n",
       "       'Total \\nconsumption\\n(kWh)', 'Mean consumption',\n",
       "       'Median consumption (kWh per meter)'],\n",
       "      dtype='object')"
      ]
     },
     "execution_count": 18,
     "metadata": {},
     "output_type": "execute_result"
    }
   ],
   "source": [
    "gas_consumption_df.columns"
   ]
  },
  {
   "cell_type": "code",
   "execution_count": 19,
   "metadata": {},
   "outputs": [
    {
     "data": {
      "text/plain": [
       "Index(['Local authority code', 'Local authority', 'MSOA code',\n",
       "       'Middle layer super output area', 'LSOA code',\n",
       "       'Lower layer super output area', 'Number\\nof meters\\n',\n",
       "       'Total \\nconsumption\\n(kWh)', 'Mean consumption\\n',\n",
       "       'Median consumption (kWh per meter)'],\n",
       "      dtype='object')"
      ]
     },
     "execution_count": 19,
     "metadata": {},
     "output_type": "execute_result"
    }
   ],
   "source": [
    "elec_consumption_df.columns"
   ]
  },
  {
   "cell_type": "code",
   "execution_count": 20,
   "metadata": {},
   "outputs": [
    {
     "data": {
      "text/plain": [
       "Index(['LSOA11CD', 'LSOA11NM', 'geometry', 'Fuel_Poverty_2011',\n",
       "       'Mean_Elec_Consumption', 'Mean_Gas_Consumption', 'Avg_Build_Year',\n",
       "       'Median_Annual_household_income', 'Density_of_Households',\n",
       "       'households_with_resident_percentage',\n",
       "       'households_no_resident_percentage', 'whole_house_detached_percentage',\n",
       "       'whole_house_semi_detached_percentage',\n",
       "       'whole_house_terraced_percentage',\n",
       "       'flat_maisonette_apartment_percentage',\n",
       "       'Revised_Energy_Efficiency_Rating_Numeric',\n",
       "       'Revised_Energy_Efficiency'],\n",
       "      dtype='object')"
      ]
     },
     "execution_count": 20,
     "metadata": {},
     "output_type": "execute_result"
    }
   ],
   "source": [
    "zcored_data_df.columns\n"
   ]
  },
  {
   "cell_type": "code",
   "execution_count": 21,
   "metadata": {},
   "outputs": [],
   "source": [
    "\n",
    "# Rename LSOA column for consistency\n",
    "energy_efficiency_df.rename(columns={'LSOA': 'LSOA11CD'}, inplace=True)\n",
    "fuel_poverty_df.rename(columns={'LSOA 2001 Code': 'LSOA11CD'}, inplace=True)\n",
    "dwelling_type_df.rename(columns={'Area Code': 'LSOA11CD'}, inplace=True)\n",
    "dwelling_build_period_df.rename(columns={'Area Code3': 'LSOA11CD'}, inplace=True)\n",
    "income_df.rename(columns={'Codes': 'LSOA11CD'}, inplace=True)\n",
    "gas_consumption_df.rename(columns={'LSOA code': 'LSOA11CD'}, inplace=True)\n",
    "elec_consumption_df.rename(columns={'LSOA code': 'LSOA11CD'}, inplace=True)\n",
    "all_house_holds_df.rename(columns={'Codes': 'LSOA11CD'}, inplace=True)\n"
   ]
  },
  {
   "cell_type": "code",
   "execution_count": 22,
   "metadata": {},
   "outputs": [],
   "source": [
    "for df_name, df in {\n",
    "    'energy_efficiency_df': energy_efficiency_df,\n",
    "    'fuel_poverty_df': fuel_poverty_df,\n",
    "    'dwelling_type': dwelling_type_df,\n",
    "    'dwelling_build_period_df': dwelling_build_period_df,\n",
    "    'income_tax_payers_df': income_df,\n",
    "    'gas_consumption_df': gas_consumption_df,\n",
    "    'elec_consumption_df': elec_consumption_df,\n",
    "    'zcored_data_df': zcored_data_df,\n",
    "    'all_house_holds_df': all_house_holds_df,\n",
    "    \n",
    "}.items():\n",
    "    if 'LSOA11CD' not in df.columns:\n",
    "        print(f\"Warning: {df_name} does not contain 'LSOA11CD'\")"
   ]
  },
  {
   "cell_type": "code",
   "execution_count": 23,
   "metadata": {},
   "outputs": [
    {
     "name": "stdout",
     "output_type": "stream",
     "text": [
      "Number of unique LSOA codes: 4642\n"
     ]
    }
   ],
   "source": [
    "# Check the number of unique LSOA codes in the zcored_data_df\n",
    "num_lsoa_codes = zcored_data_df['LSOA11CD'].nunique()\n",
    "print(f\"Number of unique LSOA codes: {num_lsoa_codes}\")"
   ]
  },
  {
   "cell_type": "code",
   "execution_count": 24,
   "metadata": {},
   "outputs": [
    {
     "name": "stdout",
     "output_type": "stream",
     "text": [
      "Number of rows in the zcored_data_df: 4642\n"
     ]
    }
   ],
   "source": [
    "# Check the number of rows in the zcored_data_df\n",
    "num_rows = zcored_data_df.shape[0]\n",
    "print(f\"Number of rows in the zcored_data_df: {num_rows}\")"
   ]
  },
  {
   "cell_type": "markdown",
   "metadata": {},
   "source": [
    "### **Merging the dataset**\n"
   ]
  },
  {
   "cell_type": "code",
   "execution_count": 31,
   "metadata": {},
   "outputs": [
    {
     "name": "stdout",
     "output_type": "stream",
     "text": [
      "    LSOA11CD                   LSOA11NM  \\\n",
      "0  E01000001        City of London 001A   \n",
      "1  E01000002        City of London 001B   \n",
      "2  E01000003        City of London 001C   \n",
      "3  E01000005        City of London 001E   \n",
      "4  E01000006  Barking and Dagenham 016A   \n",
      "\n",
      "                                            geometry  \\\n",
      "0  POLYGON ((-0.097262816705372 51.52157881522085...   \n",
      "1  POLYGON ((-0.0881031757855782 51.5194123775888...   \n",
      "2  POLYGON ((-0.0967598383726936 51.5232512920432...   \n",
      "3  POLYGON ((-0.0732048670708826 51.5100037359235...   \n",
      "4  POLYGON ((0.0911789815733874 51.53908634564686...   \n",
      "\n",
      "   AGG_RVEPC_CURRENT_ENERGY_EFFICIENCY_BY_FLOORAREA  \\\n",
      "0                                              64.0   \n",
      "1                                              55.0   \n",
      "2                                               NaN   \n",
      "3                                              61.0   \n",
      "4                                               NaN   \n",
      "\n",
      "  AGG_RVEPC_CURRENT_ENERGY_RATING_BY_FLOORAREA  \\\n",
      "0                                            D   \n",
      "1                                            E   \n",
      "2                                          NaN   \n",
      "3                                            D   \n",
      "4                                          NaN   \n",
      "\n",
      "   Median Annual Household Income estimate (£)  Fuelpoverty-2011  \\\n",
      "0                                 58347.319025               4.0   \n",
      "1                                 57159.496482               3.8   \n",
      "2                                 34386.555699               4.6   \n",
      "3                                 23999.849951               3.3   \n",
      "4                                 39140.643333               8.9   \n",
      "\n",
      "   Flat/Maisonette Total  House Terraced Total  House Semi-detached Total  \\\n",
      "0                 1040.0                  10.0                        NaN   \n",
      "1                 1220.0                  50.0                        NaN   \n",
      "2                  910.0                   NaN                        NaN   \n",
      "3                  690.0                   NaN                        NaN   \n",
      "4                  140.0                 380.0                        NaN   \n",
      "\n",
      "   ...  1955 to 1964  1965 to 1972  1973 to 1982  1983 to 1992  1993 to 1999  \\\n",
      "0  ...           NaN         850.0          10.0           NaN          50.0   \n",
      "1  ...          70.0         910.0           NaN          10.0           NaN   \n",
      "2  ...          20.0         780.0           NaN           NaN          60.0   \n",
      "3  ...         140.0         110.0         160.0          80.0           NaN   \n",
      "4  ...           NaN           NaN           NaN           NaN         130.0   \n",
      "\n",
      "   2000 to 2009  2010 to 2012  Median consumption (kWh per meter)_x  \\\n",
      "0          80.0           NaN                                5444.0   \n",
      "1           NaN         280.0                               15651.0   \n",
      "2          40.0           NaN                                7530.0   \n",
      "3          10.0          80.0                                3871.5   \n",
      "4          10.0           NaN                               15512.5   \n",
      "\n",
      "   Median consumption (kWh per meter)_y  All households 2011  \n",
      "0                                3790.6                  876  \n",
      "1                                3732.7                  830  \n",
      "2                                2150.8                  817  \n",
      "3                                2211.4                  467  \n",
      "4                                3934.4                  543  \n",
      "\n",
      "[5 rows x 26 columns]\n",
      "Number of rows in merged dataset: 4642\n",
      "Merged data saved to /Users/shakthimaha/Downloads/Hackthon_KCL/merged_data.csv\n"
     ]
    },
    {
     "name": "stderr",
     "output_type": "stream",
     "text": [
      "/var/folders/5n/l1swydn11bg6c9v7_60kdfl00000gn/T/ipykernel_82837/1119302119.py:39: FutureWarning: Downcasting behavior in `replace` is deprecated and will be removed in a future version. To retain the old behavior, explicitly call `result.infer_objects(copy=False)`. To opt-in to the future behavior, set `pd.set_option('future.no_silent_downcasting', True)`\n",
      "  merged_df.replace('-', np.nan, inplace=True)\n"
     ]
    }
   ],
   "source": [
    "import pandas as pd\n",
    "import numpy as np\n",
    "\n",
    "# Ensure there are no duplicates in each dataset before merging\n",
    "energy_efficiency_df = energy_efficiency_df.drop_duplicates(subset=['LSOA11CD'])\n",
    "income_df = income_df.drop_duplicates(subset=['LSOA11CD'])\n",
    "fuel_poverty_df = fuel_poverty_df.drop_duplicates(subset=['LSOA11CD'])\n",
    "dwelling_type_df = dwelling_type_df.drop_duplicates(subset=['LSOA11CD'])\n",
    "dwelling_build_period_df = dwelling_build_period_df.drop_duplicates(subset=['LSOA11CD'])\n",
    "gas_consumption_df = gas_consumption_df.drop_duplicates(subset=['LSOA11CD'])\n",
    "elec_consumption_df = elec_consumption_df.drop_duplicates(subset=['LSOA11CD'])\n",
    "zcored_data_df = zcored_data_df.drop_duplicates(subset=['LSOA11CD'])\n",
    "all_house_holds_df = all_house_holds_df.drop_duplicates(subset=['LSOA11CD'])\n",
    "\n",
    "# Select relevant columns (keep this as before)\n",
    "energy_efficiency_df = energy_efficiency_df[['LSOA11CD', 'AGG_RVEPC_CURRENT_ENERGY_EFFICIENCY_BY_FLOORAREA', 'AGG_RVEPC_CURRENT_ENERGY_RATING_BY_FLOORAREA']]\n",
    "income_df = income_df[['LSOA11CD','Median Annual Household Income estimate (£)']]\n",
    "fuel_poverty_df = fuel_poverty_df[['LSOA11CD', 'Fuelpoverty-2011']]\n",
    "dwelling_type_df = dwelling_type_df[['LSOA11CD', 'Flat/Maisonette Total', 'House Terraced Total', 'House Semi-detached Total', 'House Detached Total']]\n",
    "dwelling_build_period_df = dwelling_build_period_df[['LSOA11CD', 'Pre 1900', '1900 to 1918', '1919 to 1929', '1930 to 1939', '1945 to 1954', '1955 to 1964', \n",
    "                              '1965 to 1972', '1973 to 1982', '1983 to 1992', '1993 to 1999', '2000 to 2009', '2010 to 2012']]\n",
    "gas_consumption_df = gas_consumption_df[['LSOA11CD', 'Median consumption (kWh per meter)']]\n",
    "elec_consumption_df = elec_consumption_df[['LSOA11CD', 'Median consumption (kWh per meter)']]\n",
    "zcored_data_df = zcored_data_df[['LSOA11CD', 'LSOA11NM', 'geometry']]\n",
    "all_house_holds_df = all_house_holds_df[['LSOA11CD', 'All households 2011']]\n",
    "\n",
    "# Merge all datasets on LSOA11CD with left join to retain all rows from zcored_data_df\n",
    "merged_df = zcored_data_df \\\n",
    "    .merge(energy_efficiency_df, on='LSOA11CD', how='left') \\\n",
    "    .merge(income_df, on='LSOA11CD', how='left') \\\n",
    "    .merge(fuel_poverty_df, on='LSOA11CD', how='left') \\\n",
    "    .merge(dwelling_type_df, on='LSOA11CD', how='left') \\\n",
    "    .merge(dwelling_build_period_df, on='LSOA11CD', how='left') \\\n",
    "    .merge(gas_consumption_df, on='LSOA11CD', how='left') \\\n",
    "    .merge(elec_consumption_df, on='LSOA11CD', how='left') \\\n",
    "    .merge(all_house_holds_df, on='LSOA11CD', how='left')  # Added the all_house_holds_df merge\n",
    "\n",
    "# Replace all dashes with NaN\n",
    "merged_df.replace('-', np.nan, inplace=True)\n",
    "\n",
    "# Display the first few rows of the merged DataFrame to check\n",
    "print(merged_df.head())\n",
    "\n",
    "# Check the shape of the merged dataset to confirm the number of rows\n",
    "print(f\"Number of rows in merged dataset: {merged_df.shape[0]}\")\n",
    "\n",
    "# Optionally, save the final merged dataset to a CSV\n",
    "output_file = '/Users/shakthimaha/Downloads/Hackthon_KCL/merged_data.csv'\n",
    "merged_df.to_csv(output_file, index=False)\n",
    "\n",
    "print(f\"Merged data saved to {output_file}\")"
   ]
  },
  {
   "cell_type": "markdown",
   "metadata": {},
   "source": [
    "### ***cleaning the merged dataset***"
   ]
  },
  {
   "cell_type": "code",
   "execution_count": 32,
   "metadata": {},
   "outputs": [
    {
     "name": "stdout",
     "output_type": "stream",
     "text": [
      "   Lsoa_code                  Lsoa_name  \\\n",
      "0  E01000001        City of London 001A   \n",
      "1  E01000002        City of London 001B   \n",
      "2  E01000003        City of London 001C   \n",
      "3  E01000005        City of London 001E   \n",
      "4  E01000006  Barking and Dagenham 016A   \n",
      "\n",
      "                                            Geometry  \\\n",
      "0  POLYGON ((-0.097262816705372 51.52157881522085...   \n",
      "1  POLYGON ((-0.0881031757855782 51.5194123775888...   \n",
      "2  POLYGON ((-0.0967598383726936 51.5232512920432...   \n",
      "3  POLYGON ((-0.0732048670708826 51.5100037359235...   \n",
      "4  POLYGON ((0.0911789815733874 51.53908634564686...   \n",
      "\n",
      "   energy_efficiency_floor_area energy_rating_floor_area  \\\n",
      "0                          64.0                        D   \n",
      "1                          55.0                        E   \n",
      "2                           NaN                      NaN   \n",
      "3                          61.0                        D   \n",
      "4                           NaN                      NaN   \n",
      "\n",
      "   Median Annual Household Income estimate (£)  Fuelpoverty-2011  \\\n",
      "0                                 58347.319025               4.0   \n",
      "1                                 57159.496482               3.8   \n",
      "2                                 34386.555699               4.6   \n",
      "3                                 23999.849951               3.3   \n",
      "4                                 39140.643333               8.9   \n",
      "\n",
      "   flat_maisonette_total  house_terraced_total  house_semi_detached_total  \\\n",
      "0                 1040.0                  10.0                        NaN   \n",
      "1                 1220.0                  50.0                        NaN   \n",
      "2                  910.0                   NaN                        NaN   \n",
      "3                  690.0                   NaN                        NaN   \n",
      "4                  140.0                 380.0                        NaN   \n",
      "\n",
      "   ...  built_1955_1964  built_1965_1972  built_1973_1982  built_1983_1992  \\\n",
      "0  ...              NaN            850.0             10.0              NaN   \n",
      "1  ...             70.0            910.0              NaN             10.0   \n",
      "2  ...             20.0            780.0              NaN              NaN   \n",
      "3  ...            140.0            110.0            160.0             80.0   \n",
      "4  ...              NaN              NaN              NaN              NaN   \n",
      "\n",
      "   built_1993_1999  built_2000_2009  built_2010_2012  \\\n",
      "0             50.0             80.0              NaN   \n",
      "1              NaN              NaN            280.0   \n",
      "2             60.0             40.0              NaN   \n",
      "3              NaN             10.0             80.0   \n",
      "4            130.0             10.0              NaN   \n",
      "\n",
      "   Gas median consumption (kwh)  Electricity median_consumption (kwh)  \\\n",
      "0                        5444.0                                3790.6   \n",
      "1                       15651.0                                3732.7   \n",
      "2                        7530.0                                2150.8   \n",
      "3                        3871.5                                2211.4   \n",
      "4                       15512.5                                3934.4   \n",
      "\n",
      "   All households 2011  \n",
      "0                  876  \n",
      "1                  830  \n",
      "2                  817  \n",
      "3                  467  \n",
      "4                  543  \n",
      "\n",
      "[5 rows x 26 columns]\n"
     ]
    }
   ],
   "source": [
    "import geopandas as gpd\n",
    "import pandas as pd\n",
    "\n",
    "# Load dataset\n",
    "df = pd.read_csv(\"/Users/shakthimaha/Downloads/Hackthon_KCL/merged_data.csv\")\n",
    "\n",
    "# Define new column names\n",
    "new_column_names = {\n",
    "    \"LSOA11CD\": \"Lsoa_code\",\n",
    "    \"LSOA11NM\": \"Lsoa_name\",\n",
    "    \"geometry\": \"Geometry\",\n",
    "    \"AGG_RVEPC_CURRENT_ENERGY_EFFICIENCY_BY_FLOORAREA\": \"energy_efficiency_floor_area\",\n",
    "    \"AGG_RVEPC_CURRENT_ENERGY_RATING_BY_FLOORAREA\": \"energy_rating_floor_area\",\n",
    "    \"Median £ 2011-12\": \"median_income_2011_12\",\n",
    "    \"Number of Individuals2011-12\": \"number_of_individuals_2011_12\",\n",
    "    \"Fuelpoverty-2011\": \"Fuelpoverty-2011\",\n",
    "    \"Flat/Maisonette Total\": \"flat_maisonette_total\",\n",
    "    \"House Terraced Total\": \"house_terraced_total\",\n",
    "    \"House Semi-detached Total\": \"house_semi_detached_total\",\n",
    "    \"House Detached Total\": \"house_detached_total\",\n",
    "    \"Pre 1900\": \"built_pre_1900\",\n",
    "    \"1900 to 1918\": \"built_1900_1918\",\n",
    "    \"1919 to 1929\": \"built_1919_1929\",\n",
    "    \"1930 to 1939\": \"built_1930_1939\",\n",
    "    \"1945 to 1954\": \"built_1945_1954\",\n",
    "    \"1955 to 1964\": \"built_1955_1964\",\n",
    "    \"1965 to 1972\": \"built_1965_1972\",\n",
    "    \"1973 to 1982\": \"built_1973_1982\",\n",
    "    \"1983 to 1992\": \"built_1983_1992\",\n",
    "    \"1993 to 1999\": \"built_1993_1999\",\n",
    "    \"2000 to 2009\": \"built_2000_2009\",\n",
    "    \"2010 to 2012\": \"built_2010_2012\",\n",
    "    \"Median consumption (kWh per meter)_x\": \"Gas median consumption (kwh)\",\n",
    "    \"Median consumption (kWh per meter)_y\": \"Electricity median_consumption (kwh)\",\n",
    "   \n",
    "}\n",
    "\n",
    "# Rename columns\n",
    "df.rename(columns=new_column_names, inplace=True)\n",
    "\n",
    "# Display updated column names\n",
    "print(df.head())"
   ]
  },
  {
   "cell_type": "markdown",
   "metadata": {},
   "source": []
  },
  {
   "cell_type": "code",
   "execution_count": 33,
   "metadata": {},
   "outputs": [
    {
     "name": "stdout",
     "output_type": "stream",
     "text": [
      "Lsoa_code                                       0.000000\n",
      "Lsoa_name                                       0.000000\n",
      "Geometry                                        0.000000\n",
      "energy_efficiency_floor_area                   42.007755\n",
      "energy_rating_floor_area                       42.007755\n",
      "Median Annual Household Income estimate (£)     0.000000\n",
      "Fuelpoverty-2011                                0.000000\n",
      "flat_maisonette_total                           2.003447\n",
      "house_terraced_total                            4.200776\n",
      "house_semi_detached_total                      21.154675\n",
      "house_detached_total                           48.276605\n",
      "built_pre_1900                                 29.707023\n",
      "built_1900_1918                                38.345541\n",
      "built_1919_1929                                44.054287\n",
      "built_1930_1939                                26.518742\n",
      "built_1945_1954                                39.918139\n",
      "built_1955_1964                                31.947436\n",
      "built_1965_1972                                42.115467\n",
      "built_1973_1982                                43.666523\n",
      "built_1983_1992                                43.731150\n",
      "built_1993_1999                                52.348126\n",
      "built_2000_2009                                34.640241\n",
      "built_2010_2012                                65.252047\n",
      "Gas median consumption (kwh)                    0.000000\n",
      "Electricity median_consumption (kwh)            0.000000\n",
      "All households 2011                             0.000000\n",
      "dtype: float64\n"
     ]
    }
   ],
   "source": [
    "# Calculate the percentage of missing values in each column\n",
    "null_percentage = df.isnull().mean() * 100\n",
    "\n",
    "# Display the columns with their null percentage\n",
    "print(null_percentage)"
   ]
  },
  {
   "cell_type": "code",
   "execution_count": 34,
   "metadata": {},
   "outputs": [
    {
     "name": "stdout",
     "output_type": "stream",
     "text": [
      "\n",
      "Columns dropped due to high missing values.\n",
      "\n",
      "\n",
      "Missing values handled successfully!\n",
      "\n"
     ]
    },
    {
     "name": "stderr",
     "output_type": "stream",
     "text": [
      "/var/folders/5n/l1swydn11bg6c9v7_60kdfl00000gn/T/ipykernel_15784/3003627802.py:10: FutureWarning: A value is trying to be set on a copy of a DataFrame or Series through chained assignment using an inplace method.\n",
      "The behavior will change in pandas 3.0. This inplace method will never work because the intermediate object on which we are setting values always behaves as a copy.\n",
      "\n",
      "For example, when doing 'df[col].method(value, inplace=True)', try using 'df.method({col: value}, inplace=True)' or df[col] = df[col].method(value) instead, to perform the operation inplace on the original object.\n",
      "\n",
      "\n",
      "  df[col].fillna(df[col].median(), inplace=True)  # Using median to handle skewed data\n",
      "/var/folders/5n/l1swydn11bg6c9v7_60kdfl00000gn/T/ipykernel_15784/3003627802.py:10: FutureWarning: A value is trying to be set on a copy of a DataFrame or Series through chained assignment using an inplace method.\n",
      "The behavior will change in pandas 3.0. This inplace method will never work because the intermediate object on which we are setting values always behaves as a copy.\n",
      "\n",
      "For example, when doing 'df[col].method(value, inplace=True)', try using 'df.method({col: value}, inplace=True)' or df[col] = df[col].method(value) instead, to perform the operation inplace on the original object.\n",
      "\n",
      "\n",
      "  df[col].fillna(df[col].median(), inplace=True)  # Using median to handle skewed data\n",
      "/var/folders/5n/l1swydn11bg6c9v7_60kdfl00000gn/T/ipykernel_15784/3003627802.py:10: FutureWarning: A value is trying to be set on a copy of a DataFrame or Series through chained assignment using an inplace method.\n",
      "The behavior will change in pandas 3.0. This inplace method will never work because the intermediate object on which we are setting values always behaves as a copy.\n",
      "\n",
      "For example, when doing 'df[col].method(value, inplace=True)', try using 'df.method({col: value}, inplace=True)' or df[col] = df[col].method(value) instead, to perform the operation inplace on the original object.\n",
      "\n",
      "\n",
      "  df[col].fillna(df[col].median(), inplace=True)  # Using median to handle skewed data\n",
      "/var/folders/5n/l1swydn11bg6c9v7_60kdfl00000gn/T/ipykernel_15784/3003627802.py:10: FutureWarning: A value is trying to be set on a copy of a DataFrame or Series through chained assignment using an inplace method.\n",
      "The behavior will change in pandas 3.0. This inplace method will never work because the intermediate object on which we are setting values always behaves as a copy.\n",
      "\n",
      "For example, when doing 'df[col].method(value, inplace=True)', try using 'df.method({col: value}, inplace=True)' or df[col] = df[col].method(value) instead, to perform the operation inplace on the original object.\n",
      "\n",
      "\n",
      "  df[col].fillna(df[col].median(), inplace=True)  # Using median to handle skewed data\n",
      "/var/folders/5n/l1swydn11bg6c9v7_60kdfl00000gn/T/ipykernel_15784/3003627802.py:10: FutureWarning: A value is trying to be set on a copy of a DataFrame or Series through chained assignment using an inplace method.\n",
      "The behavior will change in pandas 3.0. This inplace method will never work because the intermediate object on which we are setting values always behaves as a copy.\n",
      "\n",
      "For example, when doing 'df[col].method(value, inplace=True)', try using 'df.method({col: value}, inplace=True)' or df[col] = df[col].method(value) instead, to perform the operation inplace on the original object.\n",
      "\n",
      "\n",
      "  df[col].fillna(df[col].median(), inplace=True)  # Using median to handle skewed data\n",
      "/var/folders/5n/l1swydn11bg6c9v7_60kdfl00000gn/T/ipykernel_15784/3003627802.py:10: FutureWarning: A value is trying to be set on a copy of a DataFrame or Series through chained assignment using an inplace method.\n",
      "The behavior will change in pandas 3.0. This inplace method will never work because the intermediate object on which we are setting values always behaves as a copy.\n",
      "\n",
      "For example, when doing 'df[col].method(value, inplace=True)', try using 'df.method({col: value}, inplace=True)' or df[col] = df[col].method(value) instead, to perform the operation inplace on the original object.\n",
      "\n",
      "\n",
      "  df[col].fillna(df[col].median(), inplace=True)  # Using median to handle skewed data\n",
      "/var/folders/5n/l1swydn11bg6c9v7_60kdfl00000gn/T/ipykernel_15784/3003627802.py:10: FutureWarning: A value is trying to be set on a copy of a DataFrame or Series through chained assignment using an inplace method.\n",
      "The behavior will change in pandas 3.0. This inplace method will never work because the intermediate object on which we are setting values always behaves as a copy.\n",
      "\n",
      "For example, when doing 'df[col].method(value, inplace=True)', try using 'df.method({col: value}, inplace=True)' or df[col] = df[col].method(value) instead, to perform the operation inplace on the original object.\n",
      "\n",
      "\n",
      "  df[col].fillna(df[col].median(), inplace=True)  # Using median to handle skewed data\n",
      "/var/folders/5n/l1swydn11bg6c9v7_60kdfl00000gn/T/ipykernel_15784/3003627802.py:10: FutureWarning: A value is trying to be set on a copy of a DataFrame or Series through chained assignment using an inplace method.\n",
      "The behavior will change in pandas 3.0. This inplace method will never work because the intermediate object on which we are setting values always behaves as a copy.\n",
      "\n",
      "For example, when doing 'df[col].method(value, inplace=True)', try using 'df.method({col: value}, inplace=True)' or df[col] = df[col].method(value) instead, to perform the operation inplace on the original object.\n",
      "\n",
      "\n",
      "  df[col].fillna(df[col].median(), inplace=True)  # Using median to handle skewed data\n",
      "/var/folders/5n/l1swydn11bg6c9v7_60kdfl00000gn/T/ipykernel_15784/3003627802.py:10: FutureWarning: A value is trying to be set on a copy of a DataFrame or Series through chained assignment using an inplace method.\n",
      "The behavior will change in pandas 3.0. This inplace method will never work because the intermediate object on which we are setting values always behaves as a copy.\n",
      "\n",
      "For example, when doing 'df[col].method(value, inplace=True)', try using 'df.method({col: value}, inplace=True)' or df[col] = df[col].method(value) instead, to perform the operation inplace on the original object.\n",
      "\n",
      "\n",
      "  df[col].fillna(df[col].median(), inplace=True)  # Using median to handle skewed data\n",
      "/var/folders/5n/l1swydn11bg6c9v7_60kdfl00000gn/T/ipykernel_15784/3003627802.py:10: FutureWarning: A value is trying to be set on a copy of a DataFrame or Series through chained assignment using an inplace method.\n",
      "The behavior will change in pandas 3.0. This inplace method will never work because the intermediate object on which we are setting values always behaves as a copy.\n",
      "\n",
      "For example, when doing 'df[col].method(value, inplace=True)', try using 'df.method({col: value}, inplace=True)' or df[col] = df[col].method(value) instead, to perform the operation inplace on the original object.\n",
      "\n",
      "\n",
      "  df[col].fillna(df[col].median(), inplace=True)  # Using median to handle skewed data\n",
      "/var/folders/5n/l1swydn11bg6c9v7_60kdfl00000gn/T/ipykernel_15784/3003627802.py:10: FutureWarning: A value is trying to be set on a copy of a DataFrame or Series through chained assignment using an inplace method.\n",
      "The behavior will change in pandas 3.0. This inplace method will never work because the intermediate object on which we are setting values always behaves as a copy.\n",
      "\n",
      "For example, when doing 'df[col].method(value, inplace=True)', try using 'df.method({col: value}, inplace=True)' or df[col] = df[col].method(value) instead, to perform the operation inplace on the original object.\n",
      "\n",
      "\n",
      "  df[col].fillna(df[col].median(), inplace=True)  # Using median to handle skewed data\n",
      "/var/folders/5n/l1swydn11bg6c9v7_60kdfl00000gn/T/ipykernel_15784/3003627802.py:10: FutureWarning: A value is trying to be set on a copy of a DataFrame or Series through chained assignment using an inplace method.\n",
      "The behavior will change in pandas 3.0. This inplace method will never work because the intermediate object on which we are setting values always behaves as a copy.\n",
      "\n",
      "For example, when doing 'df[col].method(value, inplace=True)', try using 'df.method({col: value}, inplace=True)' or df[col] = df[col].method(value) instead, to perform the operation inplace on the original object.\n",
      "\n",
      "\n",
      "  df[col].fillna(df[col].median(), inplace=True)  # Using median to handle skewed data\n",
      "/var/folders/5n/l1swydn11bg6c9v7_60kdfl00000gn/T/ipykernel_15784/3003627802.py:10: FutureWarning: A value is trying to be set on a copy of a DataFrame or Series through chained assignment using an inplace method.\n",
      "The behavior will change in pandas 3.0. This inplace method will never work because the intermediate object on which we are setting values always behaves as a copy.\n",
      "\n",
      "For example, when doing 'df[col].method(value, inplace=True)', try using 'df.method({col: value}, inplace=True)' or df[col] = df[col].method(value) instead, to perform the operation inplace on the original object.\n",
      "\n",
      "\n",
      "  df[col].fillna(df[col].median(), inplace=True)  # Using median to handle skewed data\n",
      "/var/folders/5n/l1swydn11bg6c9v7_60kdfl00000gn/T/ipykernel_15784/3003627802.py:10: FutureWarning: A value is trying to be set on a copy of a DataFrame or Series through chained assignment using an inplace method.\n",
      "The behavior will change in pandas 3.0. This inplace method will never work because the intermediate object on which we are setting values always behaves as a copy.\n",
      "\n",
      "For example, when doing 'df[col].method(value, inplace=True)', try using 'df.method({col: value}, inplace=True)' or df[col] = df[col].method(value) instead, to perform the operation inplace on the original object.\n",
      "\n",
      "\n",
      "  df[col].fillna(df[col].median(), inplace=True)  # Using median to handle skewed data\n",
      "/var/folders/5n/l1swydn11bg6c9v7_60kdfl00000gn/T/ipykernel_15784/3003627802.py:10: FutureWarning: A value is trying to be set on a copy of a DataFrame or Series through chained assignment using an inplace method.\n",
      "The behavior will change in pandas 3.0. This inplace method will never work because the intermediate object on which we are setting values always behaves as a copy.\n",
      "\n",
      "For example, when doing 'df[col].method(value, inplace=True)', try using 'df.method({col: value}, inplace=True)' or df[col] = df[col].method(value) instead, to perform the operation inplace on the original object.\n",
      "\n",
      "\n",
      "  df[col].fillna(df[col].median(), inplace=True)  # Using median to handle skewed data\n",
      "/var/folders/5n/l1swydn11bg6c9v7_60kdfl00000gn/T/ipykernel_15784/3003627802.py:10: FutureWarning: A value is trying to be set on a copy of a DataFrame or Series through chained assignment using an inplace method.\n",
      "The behavior will change in pandas 3.0. This inplace method will never work because the intermediate object on which we are setting values always behaves as a copy.\n",
      "\n",
      "For example, when doing 'df[col].method(value, inplace=True)', try using 'df.method({col: value}, inplace=True)' or df[col] = df[col].method(value) instead, to perform the operation inplace on the original object.\n",
      "\n",
      "\n",
      "  df[col].fillna(df[col].median(), inplace=True)  # Using median to handle skewed data\n",
      "/var/folders/5n/l1swydn11bg6c9v7_60kdfl00000gn/T/ipykernel_15784/3003627802.py:10: FutureWarning: A value is trying to be set on a copy of a DataFrame or Series through chained assignment using an inplace method.\n",
      "The behavior will change in pandas 3.0. This inplace method will never work because the intermediate object on which we are setting values always behaves as a copy.\n",
      "\n",
      "For example, when doing 'df[col].method(value, inplace=True)', try using 'df.method({col: value}, inplace=True)' or df[col] = df[col].method(value) instead, to perform the operation inplace on the original object.\n",
      "\n",
      "\n",
      "  df[col].fillna(df[col].median(), inplace=True)  # Using median to handle skewed data\n",
      "/var/folders/5n/l1swydn11bg6c9v7_60kdfl00000gn/T/ipykernel_15784/3003627802.py:10: FutureWarning: A value is trying to be set on a copy of a DataFrame or Series through chained assignment using an inplace method.\n",
      "The behavior will change in pandas 3.0. This inplace method will never work because the intermediate object on which we are setting values always behaves as a copy.\n",
      "\n",
      "For example, when doing 'df[col].method(value, inplace=True)', try using 'df.method({col: value}, inplace=True)' or df[col] = df[col].method(value) instead, to perform the operation inplace on the original object.\n",
      "\n",
      "\n",
      "  df[col].fillna(df[col].median(), inplace=True)  # Using median to handle skewed data\n",
      "/var/folders/5n/l1swydn11bg6c9v7_60kdfl00000gn/T/ipykernel_15784/3003627802.py:10: FutureWarning: A value is trying to be set on a copy of a DataFrame or Series through chained assignment using an inplace method.\n",
      "The behavior will change in pandas 3.0. This inplace method will never work because the intermediate object on which we are setting values always behaves as a copy.\n",
      "\n",
      "For example, when doing 'df[col].method(value, inplace=True)', try using 'df.method({col: value}, inplace=True)' or df[col] = df[col].method(value) instead, to perform the operation inplace on the original object.\n",
      "\n",
      "\n",
      "  df[col].fillna(df[col].median(), inplace=True)  # Using median to handle skewed data\n",
      "/var/folders/5n/l1swydn11bg6c9v7_60kdfl00000gn/T/ipykernel_15784/3003627802.py:10: FutureWarning: A value is trying to be set on a copy of a DataFrame or Series through chained assignment using an inplace method.\n",
      "The behavior will change in pandas 3.0. This inplace method will never work because the intermediate object on which we are setting values always behaves as a copy.\n",
      "\n",
      "For example, when doing 'df[col].method(value, inplace=True)', try using 'df.method({col: value}, inplace=True)' or df[col] = df[col].method(value) instead, to perform the operation inplace on the original object.\n",
      "\n",
      "\n",
      "  df[col].fillna(df[col].median(), inplace=True)  # Using median to handle skewed data\n",
      "/var/folders/5n/l1swydn11bg6c9v7_60kdfl00000gn/T/ipykernel_15784/3003627802.py:16: FutureWarning: A value is trying to be set on a copy of a DataFrame or Series through chained assignment using an inplace method.\n",
      "The behavior will change in pandas 3.0. This inplace method will never work because the intermediate object on which we are setting values always behaves as a copy.\n",
      "\n",
      "For example, when doing 'df[col].method(value, inplace=True)', try using 'df.method({col: value}, inplace=True)' or df[col] = df[col].method(value) instead, to perform the operation inplace on the original object.\n",
      "\n",
      "\n",
      "  df[col].fillna(\"Unknown\", inplace=True)  # Creating an \"Unknown\" category for missing categorical data\n"
     ]
    }
   ],
   "source": [
    "# Drop columns with > 50% missing values (like 'built_2010_2012' in your case)\n",
    "threshold = 50  # You can adjust this threshold\n",
    "df = df.loc[:, null_percentage < threshold]\n",
    "print(\"\\nColumns dropped due to high missing values.\\n\")\n",
    "\n",
    "\n",
    "# Fill missing values for numerical columns\n",
    "numerical_cols = df.select_dtypes(include=['float64', 'int64']).columns\n",
    "for col in numerical_cols:\n",
    "    df[col].fillna(df[col].median(), inplace=True)  # Using median to handle skewed data\n",
    "    \n",
    "\n",
    "# Fill missing values for categorical columns\n",
    "categorical_cols = df.select_dtypes(include=['object']).columns\n",
    "for col in categorical_cols:\n",
    "    df[col].fillna(\"Unknown\", inplace=True)  # Creating an \"Unknown\" category for missing categorical data\n",
    "\n",
    "print(\"\\nMissing values handled successfully!\\n\")"
   ]
  },
  {
   "cell_type": "code",
   "execution_count": 35,
   "metadata": {},
   "outputs": [
    {
     "name": "stdout",
     "output_type": "stream",
     "text": [
      "Lsoa_code                                      0.0\n",
      "Lsoa_name                                      0.0\n",
      "Geometry                                       0.0\n",
      "energy_efficiency_floor_area                   0.0\n",
      "energy_rating_floor_area                       0.0\n",
      "Median Annual Household Income estimate (£)    0.0\n",
      "Fuelpoverty-2011                               0.0\n",
      "flat_maisonette_total                          0.0\n",
      "house_terraced_total                           0.0\n",
      "house_semi_detached_total                      0.0\n",
      "house_detached_total                           0.0\n",
      "built_pre_1900                                 0.0\n",
      "built_1900_1918                                0.0\n",
      "built_1919_1929                                0.0\n",
      "built_1930_1939                                0.0\n",
      "built_1945_1954                                0.0\n",
      "built_1955_1964                                0.0\n",
      "built_1965_1972                                0.0\n",
      "built_1973_1982                                0.0\n",
      "built_1983_1992                                0.0\n",
      "built_2000_2009                                0.0\n",
      "Gas median consumption (kwh)                   0.0\n",
      "Electricity median_consumption (kwh)           0.0\n",
      "All households 2011                            0.0\n",
      "dtype: float64\n"
     ]
    }
   ],
   "source": [
    "# Calculate the percentage of missing values in each column\n",
    "null_percentage = df.isnull().mean() * 100\n",
    "\n",
    "# Display the columns with their null percentage\n",
    "print(null_percentage)"
   ]
  },
  {
   "cell_type": "code",
   "execution_count": 36,
   "metadata": {},
   "outputs": [
    {
     "name": "stdout",
     "output_type": "stream",
     "text": [
      "Index(['Lsoa_code', 'Lsoa_name', 'Geometry', 'energy_efficiency_floor_area',\n",
      "       'energy_rating_floor_area',\n",
      "       'Median Annual Household Income estimate (£)', 'Fuelpoverty-2011',\n",
      "       'flat_maisonette_total', 'house_terraced_total',\n",
      "       'house_semi_detached_total', 'house_detached_total', 'built_pre_1900',\n",
      "       'built_1900_1918', 'built_1919_1929', 'built_1930_1939',\n",
      "       'built_1945_1954', 'built_1955_1964', 'built_1965_1972',\n",
      "       'built_1973_1982', 'built_1983_1992', 'built_2000_2009',\n",
      "       'Gas median consumption (kwh)', 'Electricity median_consumption (kwh)',\n",
      "       'All households 2011'],\n",
      "      dtype='object')\n"
     ]
    }
   ],
   "source": [
    "# List all column names to check for any formatting issues\n",
    "print(df.columns)"
   ]
  },
  {
   "cell_type": "code",
   "execution_count": 37,
   "metadata": {},
   "outputs": [],
   "source": [
    "# Strip any leading/trailing whitespaces in column names\n",
    "df.columns = df.columns.str.strip()"
   ]
  },
  {
   "cell_type": "markdown",
   "metadata": {},
   "source": [
    "##  visualize correlations specifically with fuel_poverty_2011"
   ]
  },
  {
   "cell_type": "code",
   "execution_count": 39,
   "metadata": {},
   "outputs": [
    {
     "name": "stdout",
     "output_type": "stream",
     "text": [
      "Fuelpoverty-2011                               1.000000\n",
      "Gas median consumption (kwh)                   0.208824\n",
      "Electricity median_consumption (kwh)           0.147429\n",
      "house_semi_detached_total                      0.117905\n",
      "built_1919_1929                                0.101902\n",
      "built_1930_1939                                0.095161\n",
      "house_detached_total                           0.077142\n",
      "built_1900_1918                                0.054141\n",
      "house_terraced_total                           0.050400\n",
      "Median Annual Household Income estimate (£)    0.033596\n",
      "energy_efficiency_floor_area                  -0.003514\n",
      "built_pre_1900                                -0.015278\n",
      "built_1945_1954                               -0.022140\n",
      "built_1955_1964                               -0.026111\n",
      "built_2000_2009                               -0.083319\n",
      "built_1965_1972                               -0.098774\n",
      "built_1973_1982                               -0.107054\n",
      "built_1983_1992                               -0.133239\n",
      "All households 2011                           -0.146097\n",
      "flat_maisonette_total                         -0.182259\n",
      "Name: Fuelpoverty-2011, dtype: float64\n"
     ]
    },
    {
     "name": "stderr",
     "output_type": "stream",
     "text": [
      "/var/folders/5n/l1swydn11bg6c9v7_60kdfl00000gn/T/ipykernel_15784/2338231531.py:19: FutureWarning: \n",
      "\n",
      "Passing `palette` without assigning `hue` is deprecated and will be removed in v0.14.0. Assign the `x` variable to `hue` and set `legend=False` for the same effect.\n",
      "\n",
      "  sns.barplot(x=correlation.index, y=correlation.values, palette=colors)\n"
     ]
    },
    {
     "data": {
      "image/png": "[encoded data removed]",
      "text/plain": [
       "<Figure size 1000x500 with 1 Axes>"
      ]
     },
     "metadata": {},
     "output_type": "display_data"
    }
   ],
   "source": [
    "import numpy as np\n",
    "import seaborn as sns\n",
    "import matplotlib.pyplot as plt\n",
    "\n",
    "# Select only numeric columns\n",
    "numeric_cols = df.select_dtypes(include=['number']).columns\n",
    "\n",
    "# Compute correlation with 'Fuelpoverty-2011'\n",
    "correlation = df[numeric_cols].corr()[\"Fuelpoverty-2011\"].sort_values(ascending=False)\n",
    "\n",
    "# Print the correlations\n",
    "print(correlation)\n",
    "\n",
    "# Create a custom color palette for positive and negative correlations\n",
    "colors = ['green' if val > 0 else 'red' for val in correlation.values]\n",
    "\n",
    "# Visualizing top correlations with different colors for positive and negative correlations\n",
    "plt.figure(figsize=(10,5))\n",
    "sns.barplot(x=correlation.index, y=correlation.values, palette=colors)\n",
    "plt.xticks(rotation=90)\n",
    "plt.title(\"Correlation of Features with Fuel Poverty\")\n",
    "plt.show()"
   ]
  },
  {
   "cell_type": "code",
   "execution_count": null,
   "metadata": {},
   "outputs": [],
   "source": []
  },
  {
   "cell_type": "code",
   "execution_count": null,
   "metadata": {},
   "outputs": [],
   "source": []
  }
 ],
 "metadata": {
  "kernelspec": {
   "display_name": "venv",
   "language": "python",
   "name": "python3"
  },
  "language_info": {
   "codemirror_mode": {
    "name": "ipython",
    "version": 3
   },
   "file_extension": ".py",
   "mimetype": "text/x-python",
   "name": "python",
   "nbconvert_exporter": "python",
   "pygments_lexer": "ipython3",
   "version": "3.12.8"
  }
 },
 "nbformat": 4,
 "nbformat_minor": 2
}

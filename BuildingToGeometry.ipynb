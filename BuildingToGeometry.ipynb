{
 "cells": [
  {
   "cell_type": "code",
   "execution_count": 2,
   "metadata": {},
   "outputs": [],
   "source": [
    "import pandas as pd\n",
    "\n",
    "# Load the Parquet file into a Pandas DataFrame\n",
    "df = pd.read_parquet(\"data/processed/lbsm_clean.parquet\")"
   ]
  },
  {
   "cell_type": "code",
   "execution_count": 3,
   "metadata": {},
   "outputs": [
    {
     "name": "stdout",
     "output_type": "stream",
     "text": [
      "           UPRN       OS_TOPO_TOID   EASTING  NORTHING   LATITUDE  LONGITUDE  \\\n",
      "0  200000071748  osgb1000005894760  532193.0  182074.0  51.522122  -0.095973   \n",
      "1  200000071808  osgb1000005894760  532193.0  182074.0  51.522122  -0.095973   \n",
      "2  200000071807  osgb1000005894760  532193.0  182074.0  51.522122  -0.095973   \n",
      "3  200000071718  osgb1000005894760  532193.0  182074.0  51.522122  -0.095973   \n",
      "4  200000071750  osgb1000005894760  532193.0  182074.0  51.522122  -0.095973   \n",
      "\n",
      "          OA       LSOA       MSOA  OAC  ...  \\\n",
      "0  E00000012  E01000003  E02000001  3B3  ...   \n",
      "1  E00000012  E01000003  E02000001  3B3  ...   \n",
      "2  E00000012  E01000003  E02000001  3B3  ...   \n",
      "3  E00000012  E01000003  E02000001  3B3  ...   \n",
      "4  E00000012  E01000003  E02000001  3B3  ...   \n",
      "\n",
      "  AGG_EPC_CURRENT_ENERGY_RATING_BY_FLOORAREA  \\\n",
      "0                                          D   \n",
      "1                                          D   \n",
      "2                                          D   \n",
      "3                                          D   \n",
      "4                                          D   \n",
      "\n",
      "  AGG_EPC_POTENTIAL_ENERGY_EFFICIENCY_BY_COUNT  \\\n",
      "0                                         71.0   \n",
      "1                                         71.0   \n",
      "2                                         71.0   \n",
      "3                                         71.0   \n",
      "4                                         71.0   \n",
      "\n",
      "  AGG_EPC_POTENTIAL_ENERGY_RATING_BY_COUNT  \\\n",
      "0                                        C   \n",
      "1                                        C   \n",
      "2                                        C   \n",
      "3                                        C   \n",
      "4                                        C   \n",
      "\n",
      "   AGG_EPC_POTENTIAL_ENERGY_EFFICIENCY_BY_FLOORAREA  \\\n",
      "0                                              70.0   \n",
      "1                                              70.0   \n",
      "2                                              70.0   \n",
      "3                                              70.0   \n",
      "4                                              70.0   \n",
      "\n",
      "   AGG_EPC_POTENTIAL_ENERGY_RATING_BY_FLOORAREA  \\\n",
      "0                                             C   \n",
      "1                                             C   \n",
      "2                                             C   \n",
      "3                                             C   \n",
      "4                                             C   \n",
      "\n",
      "   AGG_RVEPC_CURRENT_ENERGY_EFFICIENCY_BY_COUNT  \\\n",
      "0                                          63.0   \n",
      "1                                          63.0   \n",
      "2                                          63.0   \n",
      "3                                          63.0   \n",
      "4                                          63.0   \n",
      "\n",
      "   AGG_RVEPC_CURRENT_ENERGY_RATING_BY_COUNT  \\\n",
      "0                                         D   \n",
      "1                                         D   \n",
      "2                                         D   \n",
      "3                                         D   \n",
      "4                                         D   \n",
      "\n",
      "   AGG_RVEPC_CURRENT_ENERGY_EFFICIENCY_BY_FLOORAREA  \\\n",
      "0                                              63.0   \n",
      "1                                              63.0   \n",
      "2                                              63.0   \n",
      "3                                              63.0   \n",
      "4                                              63.0   \n",
      "\n",
      "   AGG_RVEPC_CURRENT_ENERGY_RATING_BY_FLOORAREA                   geometry  \n",
      "0                                             D  POINT (-0.09597 51.52212)  \n",
      "1                                             D  POINT (-0.09597 51.52212)  \n",
      "2                                             D  POINT (-0.09597 51.52212)  \n",
      "3                                             D  POINT (-0.09597 51.52212)  \n",
      "4                                             D  POINT (-0.09597 51.52212)  \n",
      "\n",
      "[5 rows x 34 columns]\n"
     ]
    }
   ],
   "source": [
    "import geopandas as gpd\n",
    "from shapely.geometry import Point\n",
    "\n",
    "# Assuming the DataFrame has 'latitude' and 'longitude' columns\n",
    "geometry = [Point(xy) for xy in zip(df['LONGITUDE'], df['LATITUDE'])]\n",
    "                             \n",
    "\n",
    "# Create a GeoDataFrame\n",
    "gdf = gpd.GeoDataFrame(df, geometry=geometry)\n",
    "\n",
    "# Now you have a GeoDataFrame\n",
    "print(gdf.head())"
   ]
  },
  {
   "cell_type": "code",
   "execution_count": 4,
   "metadata": {},
   "outputs": [
    {
     "name": "stdout",
     "output_type": "stream",
     "text": [
      "<class 'geopandas.geodataframe.GeoDataFrame'>\n",
      "RangeIndex: 2360477 entries, 0 to 2360476\n",
      "Data columns (total 34 columns):\n",
      " #   Column                                            Dtype   \n",
      "---  ------                                            -----   \n",
      " 0   UPRN                                              int64   \n",
      " 1   OS_TOPO_TOID                                      object  \n",
      " 2   EASTING                                           float64 \n",
      " 3   NORTHING                                          float64 \n",
      " 4   LATITUDE                                          float64 \n",
      " 5   LONGITUDE                                         float64 \n",
      " 6   OA                                                object  \n",
      " 7   LSOA                                              object  \n",
      " 8   MSOA                                              object  \n",
      " 9   OAC                                               object  \n",
      " 10  WARD_CODE                                         object  \n",
      " 11  WARD                                              object  \n",
      " 12  ADMINISTRATIVE_AREA                               object  \n",
      " 13  ESTIMATED_FLOOR_COUNT                             float64 \n",
      " 14  ESTIMATE_TOTAL_FLOOR_AREA_ALL                     float64 \n",
      " 15  SCU_FOOTPRINT                                     float64 \n",
      " 16  MEAN_OBJECT_HEIGHT_M                              float64 \n",
      " 17  MIX_CLASS                                         float64 \n",
      " 18  DEC_COUNT                                         int64   \n",
      " 19  EPC_RATING_COUNT_DOM                              int64   \n",
      " 20  EPC_RATING_COUNT_NONDOM                           int64   \n",
      " 21  AGG_EPC_CURRENT_ENERGY_EFFICIENCY_BY_COUNT        float64 \n",
      " 22  AGG_EPC_CURRENT_ENERGY_RATING_BY_COUNT            object  \n",
      " 23  AGG_EPC_CURRENT_ENERGY_EFFICIENCY_BY_FLOORAREA    float64 \n",
      " 24  AGG_EPC_CURRENT_ENERGY_RATING_BY_FLOORAREA        object  \n",
      " 25  AGG_EPC_POTENTIAL_ENERGY_EFFICIENCY_BY_COUNT      float64 \n",
      " 26  AGG_EPC_POTENTIAL_ENERGY_RATING_BY_COUNT          object  \n",
      " 27  AGG_EPC_POTENTIAL_ENERGY_EFFICIENCY_BY_FLOORAREA  float64 \n",
      " 28  AGG_EPC_POTENTIAL_ENERGY_RATING_BY_FLOORAREA      object  \n",
      " 29  AGG_RVEPC_CURRENT_ENERGY_EFFICIENCY_BY_COUNT      float64 \n",
      " 30  AGG_RVEPC_CURRENT_ENERGY_RATING_BY_COUNT          object  \n",
      " 31  AGG_RVEPC_CURRENT_ENERGY_EFFICIENCY_BY_FLOORAREA  float64 \n",
      " 32  AGG_RVEPC_CURRENT_ENERGY_RATING_BY_FLOORAREA      object  \n",
      " 33  geometry                                          geometry\n",
      "dtypes: float64(15), geometry(1), int64(4), object(14)\n",
      "memory usage: 612.3+ MB\n"
     ]
    },
    {
     "data": {
      "text/plain": [
       "0          POINT (-0.09597 51.52212)\n",
       "1          POINT (-0.09597 51.52212)\n",
       "2          POINT (-0.09597 51.52212)\n",
       "3          POINT (-0.09597 51.52212)\n",
       "4          POINT (-0.09597 51.52212)\n",
       "                     ...            \n",
       "2360472     POINT (-0.1605 51.53703)\n",
       "2360473     POINT (-0.1605 51.53703)\n",
       "2360474     POINT (-0.1605 51.53703)\n",
       "2360475     POINT (-0.1605 51.53703)\n",
       "2360476    POINT (-0.16054 51.53665)\n",
       "Name: geometry, Length: 2360477, dtype: geometry"
      ]
     },
     "execution_count": 4,
     "metadata": {},
     "output_type": "execute_result"
    }
   ],
   "source": [
    "gdf.info()\n",
    "gdf.geometry\n",
    "gdf[\"geometry\"]"
   ]
  },
  {
   "cell_type": "code",
   "execution_count": 5,
   "metadata": {},
   "outputs": [
    {
     "data": {
      "image/svg+xml": [
       "<svg xmlns=\"http://www.w3.org/2000/svg\" xmlns:xlink=\"http://www.w3.org/1999/xlink\" width=\"100.0\" height=\"100.0\" viewBox=\"-1.0959728 50.5221224 2.0 2.0\" preserveAspectRatio=\"xMinYMin meet\"><g transform=\"matrix(1,0,0,-1,0,103.0442448)\"><circle cx=\"-0.0959728\" cy=\"51.5221224\" r=\"0.06\" stroke=\"#555555\" stroke-width=\"0.02\" fill=\"#66cc99\" opacity=\"0.6\" /></g></svg>"
      ],
      "text/plain": [
       "<POINT (-0.096 51.522)>"
      ]
     },
     "execution_count": 5,
     "metadata": {},
     "output_type": "execute_result"
    }
   ],
   "source": [
    "gdf[\"geometry\"][0]\n"
   ]
  },
  {
   "cell_type": "code",
   "execution_count": 25,
   "metadata": {},
   "outputs": [
    {
     "data": {
      "text/plain": [
       "shapely.geometry.point.Point"
      ]
     },
     "execution_count": 25,
     "metadata": {},
     "output_type": "execute_result"
    }
   ],
   "source": [
    "type(gdf[\"geometry\"] [0])"
   ]
  },
  {
   "cell_type": "code",
   "execution_count": 26,
   "metadata": {},
   "outputs": [],
   "source": [
    "import geopandas as gpd\n",
    "from shapely.affinity import translate\n",
    "\n",
    "# Assuming 'gdf' is your GeoDataFrame and 'geometry' column contains polygons\n",
    "gdf['geometry'] = gdf['geometry'].apply(lambda x: translate(x, xoff=10, yoff=5))  # Shift by 10 units in x, 5 units in y"
   ]
  },
  {
   "cell_type": "code",
   "execution_count": null,
   "metadata": {},
   "outputs": [],
   "source": [
    "print(gdf.head())  \n",
    "print(gdf.dtypes)  \n",
    "print(gdf.geom_type.unique())  # Ensure the geometry types are what you expect  # Check what types of geometries are present  # Print the first polygon"
   ]
  },
  {
   "cell_type": "code",
   "execution_count": 1,
   "metadata": {},
   "outputs": [
    {
     "ename": "NameError",
     "evalue": "name 'gdf' is not defined",
     "output_type": "error",
     "traceback": [
      "\u001b[0;31m---------------------------------------------------------------------------\u001b[0m",
      "\u001b[0;31mNameError\u001b[0m                                 Traceback (most recent call last)",
      "Cell \u001b[0;32mIn[1], line 2\u001b[0m\n\u001b[1;32m      1\u001b[0m \u001b[38;5;28;01mfrom\u001b[39;00m\u001b[38;5;250m \u001b[39m\u001b[38;5;21;01mshapely\u001b[39;00m\u001b[38;5;21;01m.\u001b[39;00m\u001b[38;5;21;01mgeometry\u001b[39;00m\u001b[38;5;250m \u001b[39m\u001b[38;5;28;01mimport\u001b[39;00m Polygon\n\u001b[0;32m----> 2\u001b[0m polygon \u001b[38;5;241m=\u001b[39m Polygon(\u001b[43mgdf\u001b[49m[[\u001b[38;5;124m'\u001b[39m\u001b[38;5;124mLONGITUDE\u001b[39m\u001b[38;5;124m'\u001b[39m, \u001b[38;5;124m'\u001b[39m\u001b[38;5;124mLATITUDE\u001b[39m\u001b[38;5;124m'\u001b[39m]]\u001b[38;5;241m.\u001b[39mvalues)  \n",
      "\u001b[0;31mNameError\u001b[0m: name 'gdf' is not defined"
     ]
    }
   ],
   "source": [
    "from shapely.geometry import Polygon\n",
    "polygon = Polygon(gdf[['LONGITUDE', 'LATITUDE']].values)  "
   ]
  },
  {
   "cell_type": "code",
   "execution_count": 37,
   "metadata": {},
   "outputs": [
    {
     "name": "stdout",
     "output_type": "stream",
     "text": [
      "['Polygon']\n"
     ]
    }
   ],
   "source": [
    "gdf['geometry'] = polygon\n",
    "print(gdf.geom_type.unique())  # Now it should return ['Polygon']"
   ]
  },
  {
   "cell_type": "code",
   "execution_count": 38,
   "metadata": {},
   "outputs": [
    {
     "ename": "",
     "evalue": "",
     "output_type": "error",
     "traceback": [
      "\u001b[1;31mThe Kernel crashed while executing code in the current cell or a previous cell. \n",
      "\u001b[1;31mPlease review the code in the cell(s) to identify a possible cause of the failure. \n",
      "\u001b[1;31mClick <a href='https://aka.ms/vscodeJupyterKernelCrash'>here</a> for more info. \n",
      "\u001b[1;31mView Jupyter <a href='command:jupyter.viewOutput'>log</a> for further details."
     ]
    }
   ],
   "source": [
    "import matplotlib.pyplot as plt\n",
    "\n",
    "gdf.plot()\n",
    "plt.show()"
   ]
  }
 ],
 "metadata": {
  "kernelspec": {
   "display_name": "venv",
   "language": "python",
   "name": "python3"
  },
  "language_info": {
   "codemirror_mode": {
    "name": "ipython",
    "version": 3
   },
   "file_extension": ".py",
   "mimetype": "text/x-python",
   "name": "python",
   "nbconvert_exporter": "python",
   "pygments_lexer": "ipython3",
   "version": "3.12.8"
  }
 },
 "nbformat": 4,
 "nbformat_minor": 2
}

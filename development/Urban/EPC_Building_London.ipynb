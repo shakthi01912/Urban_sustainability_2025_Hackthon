{
 "cells": [
  {
   "cell_type": "code",
   "execution_count": 28,
   "metadata": {},
   "outputs": [],
   "source": [
    "import pandas as pd\n",
    "import numpy as np\n",
    "import matplotlib.pyplot as plt\n",
    "import seaborn as sns"
   ]
  },
  {
   "cell_type": "code",
   "execution_count": 29,
   "metadata": {},
   "outputs": [
    {
     "name": "stderr",
     "output_type": "stream",
     "text": [
      "/var/folders/5n/l1swydn11bg6c9v7_60kdfl00000gn/T/ipykernel_20534/2164135893.py:1: DtypeWarning: Columns (22,23,26,28,32,34,36,38,40,42) have mixed types. Specify dtype option on import or set low_memory=False.\n",
      "  df = pd.read_csv('/Users/shakthimaha/Downloads/Dataset/LBSM_All_London.csv')\n"
     ]
    }
   ],
   "source": [
    "df = pd.read_csv('/Users/shakthimaha/Downloads/Dataset/LBSM_All_London.csv')"
   ]
  },
  {
   "cell_type": "code",
   "execution_count": 30,
   "metadata": {},
   "outputs": [
    {
     "name": "stdout",
     "output_type": "stream",
     "text": [
      "Index(['UPRN', 'SCU_ID', 'OS_TOPO_TOID', 'EASTING', 'NORTHING', 'LATITUDE',\n",
      "       'LONGITUDE', 'OA', 'LSOA', 'MSOA', 'OAC', 'WARD_CODE', 'WARD',\n",
      "       'ADMINISTRATIVE_AREA', 'ESTIMATED_FLOOR_COUNT',\n",
      "       'ESTIMATE_TOTAL_FLOOR_AREA_ALL', 'SCU_FOOTPRINT',\n",
      "       'MEAN_OBJECT_HEIGHT_M', 'BASEMENT_FLOOR', 'COUNT_D_UPRNS',\n",
      "       'COUNT_ND_UPRNS', 'MIX_CLASS', 'DOMINANT_ND_ACTIVITY_BY_C2_FS',\n",
      "       'DOMINANT_ND_ACTIVITY_BY_C2_COUNT', 'DEC_COUNT',\n",
      "       'AGG_DEC_CURRENT_OPERATIONAL_RATING_BY_COUNT',\n",
      "       'AGG_DEC_CURRENT_OPERATIONAL_RATING_BAND_BY_COUNT',\n",
      "       'AGG_DEC_CURRENT_OPERATIONAL_RATING_BY_FLOORAREA',\n",
      "       'AGG_DEC_CURRENT_OPERATIONAL_RATING_BAND_BY_FLOORAREA',\n",
      "       'EPC_RATING_COUNT_DOM', 'EPC_RATING_COUNT_NONDOM',\n",
      "       'AGG_EPC_CURRENT_ENERGY_EFFICIENCY_BY_COUNT',\n",
      "       'AGG_EPC_CURRENT_ENERGY_RATING_BY_COUNT',\n",
      "       'AGG_EPC_CURRENT_ENERGY_EFFICIENCY_BY_FLOORAREA',\n",
      "       'AGG_EPC_CURRENT_ENERGY_RATING_BY_FLOORAREA',\n",
      "       'AGG_EPC_POTENTIAL_ENERGY_EFFICIENCY_BY_COUNT',\n",
      "       'AGG_EPC_POTENTIAL_ENERGY_RATING_BY_COUNT',\n",
      "       'AGG_EPC_POTENTIAL_ENERGY_EFFICIENCY_BY_FLOORAREA',\n",
      "       'AGG_EPC_POTENTIAL_ENERGY_RATING_BY_FLOORAREA',\n",
      "       'AGG_RVEPC_CURRENT_ENERGY_EFFICIENCY_BY_COUNT',\n",
      "       'AGG_RVEPC_CURRENT_ENERGY_RATING_BY_COUNT',\n",
      "       'AGG_RVEPC_CURRENT_ENERGY_EFFICIENCY_BY_FLOORAREA',\n",
      "       'AGG_RVEPC_CURRENT_ENERGY_RATING_BY_FLOORAREA'],\n",
      "      dtype='object')\n"
     ]
    }
   ],
   "source": [
    "print(df.columns)\n"
   ]
  },
  {
   "cell_type": "code",
   "execution_count": 31,
   "metadata": {},
   "outputs": [
    {
     "data": {
      "text/plain": [
       "Index(['ESTIMATED_FLOOR_COUNT', 'ESTIMATE_TOTAL_FLOOR_AREA_ALL',\n",
       "       'SCU_FOOTPRINT', 'AGG_EPC_CURRENT_ENERGY_EFFICIENCY_BY_COUNT',\n",
       "       'AGG_EPC_CURRENT_ENERGY_RATING_BY_COUNT', 'WARD', 'ADMINISTRATIVE_AREA',\n",
       "       'MIX_CLASS'],\n",
       "      dtype='object')"
      ]
     },
     "execution_count": 31,
     "metadata": {},
     "output_type": "execute_result"
    }
   ],
   "source": [
    "columns = [\n",
    "    'ESTIMATED_FLOOR_COUNT', 'ESTIMATE_TOTAL_FLOOR_AREA_ALL', 'SCU_FOOTPRINT',\n",
    "    'AGG_EPC_CURRENT_ENERGY_EFFICIENCY_BY_COUNT', 'AGG_EPC_CURRENT_ENERGY_RATING_BY_COUNT',\n",
    "    'WARD', 'ADMINISTRATIVE_AREA', 'MIX_CLASS'\n",
    "]\n",
    "\n",
    "df= df[columns] \n",
    "df.columns"
   ]
  },
  {
   "cell_type": "code",
   "execution_count": 32,
   "metadata": {},
   "outputs": [
    {
     "data": {
      "text/plain": [
       "Index(['FloorCount', 'TotalFloorArea', 'FootprintArea', 'EnergyEfficiency',\n",
       "       'EnergyRating', 'Ward', 'Borough', 'MixClass'],\n",
       "      dtype='object')"
      ]
     },
     "execution_count": 32,
     "metadata": {},
     "output_type": "execute_result"
    }
   ],
   "source": [
    "df.columns = ['FloorCount', 'TotalFloorArea', 'FootprintArea', 'EnergyEfficiency', 'EnergyRating', 'Ward', 'Borough', 'MixClass']\n",
    "df.columns"
   ]
  },
  {
   "cell_type": "code",
   "execution_count": 33,
   "metadata": {},
   "outputs": [
    {
     "name": "stdout",
     "output_type": "stream",
     "text": [
      "<class 'pandas.core.frame.DataFrame'>\n",
      "RangeIndex: 4710943 entries, 0 to 4710942\n",
      "Data columns (total 8 columns):\n",
      " #   Column            Dtype  \n",
      "---  ------            -----  \n",
      " 0   FloorCount        float64\n",
      " 1   TotalFloorArea    float64\n",
      " 2   FootprintArea     float64\n",
      " 3   EnergyEfficiency  float64\n",
      " 4   EnergyRating      object \n",
      " 5   Ward              object \n",
      " 6   Borough           object \n",
      " 7   MixClass          float64\n",
      "dtypes: float64(5), object(3)\n",
      "memory usage: 287.5+ MB\n",
      "None\n",
      "         FloorCount  TotalFloorArea  FootprintArea  EnergyEfficiency  \\\n",
      "count  4.040839e+06    4.077612e+06   4.077612e+06      2.530888e+06   \n",
      "mean   3.258466e+00    1.742062e+03   5.006609e+02      6.424351e+01   \n",
      "std    2.740113e+00    1.351462e+04   4.799278e+03      1.391911e+01   \n",
      "min    0.000000e+00    0.000000e+00   1.350000e+00     -1.039000e+03   \n",
      "25%    2.000000e+00    1.050000e+02   6.163000e+01      5.800000e+01   \n",
      "50%    2.000000e+00    1.790000e+02   9.412000e+01      6.600000e+01   \n",
      "75%    4.000000e+00    8.699300e+02   3.208500e+02      7.200000e+01   \n",
      "max    1.870000e+02    1.211826e+06   5.385512e+05      2.240000e+02   \n",
      "\n",
      "           MixClass  \n",
      "count  3.953077e+06  \n",
      "mean   8.475474e+00  \n",
      "std    2.065869e+00  \n",
      "min    1.000000e+00  \n",
      "25%    8.000000e+00  \n",
      "50%    9.000000e+00  \n",
      "75%    1.000000e+01  \n",
      "max    1.000000e+01  \n"
     ]
    }
   ],
   "source": [
    "print(df.info())\n",
    "print(df.describe())"
   ]
  },
  {
   "cell_type": "code",
   "execution_count": 34,
   "metadata": {},
   "outputs": [],
   "source": [
    "df = df.drop_duplicates()"
   ]
  },
  {
   "cell_type": "code",
   "execution_count": 35,
   "metadata": {},
   "outputs": [
    {
     "data": {
      "text/plain": [
       "FloorCount           0.771116\n",
       "TotalFloorArea       0.062791\n",
       "FootprintArea        0.062791\n",
       "EnergyEfficiency    55.382408\n",
       "EnergyRating        55.382408\n",
       "Ward                 0.007944\n",
       "Borough              0.000000\n",
       "MixClass             1.021569\n",
       "dtype: float64"
      ]
     },
     "execution_count": 35,
     "metadata": {},
     "output_type": "execute_result"
    }
   ],
   "source": [
    "(df.isnull().sum() / len(df)) * 100"
   ]
  },
  {
   "cell_type": "code",
   "execution_count": 36,
   "metadata": {},
   "outputs": [
    {
     "name": "stderr",
     "output_type": "stream",
     "text": [
      "/var/folders/5n/l1swydn11bg6c9v7_60kdfl00000gn/T/ipykernel_20534/4047221282.py:2: FutureWarning: A value is trying to be set on a copy of a DataFrame or Series through chained assignment using an inplace method.\n",
      "The behavior will change in pandas 3.0. This inplace method will never work because the intermediate object on which we are setting values always behaves as a copy.\n",
      "\n",
      "For example, when doing 'df[col].method(value, inplace=True)', try using 'df.method({col: value}, inplace=True)' or df[col] = df[col].method(value) instead, to perform the operation inplace on the original object.\n",
      "\n",
      "\n",
      "  df['EnergyEfficiency'].fillna(median_EE, inplace=True)\n"
     ]
    }
   ],
   "source": [
    "median_EE = df['EnergyEfficiency'].median()\n",
    "df['EnergyEfficiency'].fillna(median_EE, inplace=True)\n"
   ]
  },
  {
   "cell_type": "code",
   "execution_count": 37,
   "metadata": {},
   "outputs": [
    {
     "name": "stderr",
     "output_type": "stream",
     "text": [
      "/var/folders/5n/l1swydn11bg6c9v7_60kdfl00000gn/T/ipykernel_20534/3947877335.py:2: FutureWarning: A value is trying to be set on a copy of a DataFrame or Series through chained assignment using an inplace method.\n",
      "The behavior will change in pandas 3.0. This inplace method will never work because the intermediate object on which we are setting values always behaves as a copy.\n",
      "\n",
      "For example, when doing 'df[col].method(value, inplace=True)', try using 'df.method({col: value}, inplace=True)' or df[col] = df[col].method(value) instead, to perform the operation inplace on the original object.\n",
      "\n",
      "\n",
      "  df['EnergyRating'].fillna(mode_value, inplace=True)\n"
     ]
    }
   ],
   "source": [
    "\n",
    "mode_value = df['EnergyRating'].mode()[0] \n",
    "df['EnergyRating'].fillna(mode_value, inplace=True)\n"
   ]
  },
  {
   "cell_type": "code",
   "execution_count": 38,
   "metadata": {},
   "outputs": [
    {
     "name": "stderr",
     "output_type": "stream",
     "text": [
      "/var/folders/5n/l1swydn11bg6c9v7_60kdfl00000gn/T/ipykernel_20534/3045731509.py:1: FutureWarning: A value is trying to be set on a copy of a DataFrame or Series through chained assignment using an inplace method.\n",
      "The behavior will change in pandas 3.0. This inplace method will never work because the intermediate object on which we are setting values always behaves as a copy.\n",
      "\n",
      "For example, when doing 'df[col].method(value, inplace=True)', try using 'df.method({col: value}, inplace=True)' or df[col] = df[col].method(value) instead, to perform the operation inplace on the original object.\n",
      "\n",
      "\n",
      "  df['FloorCount'].fillna(df['FloorCount'].median(), inplace=True)\n",
      "/var/folders/5n/l1swydn11bg6c9v7_60kdfl00000gn/T/ipykernel_20534/3045731509.py:4: FutureWarning: A value is trying to be set on a copy of a DataFrame or Series through chained assignment using an inplace method.\n",
      "The behavior will change in pandas 3.0. This inplace method will never work because the intermediate object on which we are setting values always behaves as a copy.\n",
      "\n",
      "For example, when doing 'df[col].method(value, inplace=True)', try using 'df.method({col: value}, inplace=True)' or df[col] = df[col].method(value) instead, to perform the operation inplace on the original object.\n",
      "\n",
      "\n",
      "  df['TotalFloorArea'].fillna(df['TotalFloorArea'].median(), inplace=True)\n",
      "/var/folders/5n/l1swydn11bg6c9v7_60kdfl00000gn/T/ipykernel_20534/3045731509.py:7: FutureWarning: A value is trying to be set on a copy of a DataFrame or Series through chained assignment using an inplace method.\n",
      "The behavior will change in pandas 3.0. This inplace method will never work because the intermediate object on which we are setting values always behaves as a copy.\n",
      "\n",
      "For example, when doing 'df[col].method(value, inplace=True)', try using 'df.method({col: value}, inplace=True)' or df[col] = df[col].method(value) instead, to perform the operation inplace on the original object.\n",
      "\n",
      "\n",
      "  df['FootprintArea'].fillna(df['FootprintArea'].median(), inplace=True)\n",
      "/var/folders/5n/l1swydn11bg6c9v7_60kdfl00000gn/T/ipykernel_20534/3045731509.py:10: FutureWarning: A value is trying to be set on a copy of a DataFrame or Series through chained assignment using an inplace method.\n",
      "The behavior will change in pandas 3.0. This inplace method will never work because the intermediate object on which we are setting values always behaves as a copy.\n",
      "\n",
      "For example, when doing 'df[col].method(value, inplace=True)', try using 'df.method({col: value}, inplace=True)' or df[col] = df[col].method(value) instead, to perform the operation inplace on the original object.\n",
      "\n",
      "\n",
      "  df['MixClass'].fillna(df['MixClass'].median(), inplace=True)\n"
     ]
    }
   ],
   "source": [
    "df['FloorCount'].fillna(df['FloorCount'].median(), inplace=True)\n",
    "\n",
    "\n",
    "df['TotalFloorArea'].fillna(df['TotalFloorArea'].median(), inplace=True)\n",
    "\n",
    "\n",
    "df['FootprintArea'].fillna(df['FootprintArea'].median(), inplace=True)\n",
    "\n",
    "\n",
    "df['MixClass'].fillna(df['MixClass'].median(), inplace=True)"
   ]
  },
  {
   "cell_type": "code",
   "execution_count": 39,
   "metadata": {},
   "outputs": [
    {
     "name": "stdout",
     "output_type": "stream",
     "text": [
      "                 Data Type  Null Percentage\n",
      "FloorCount         float64         0.000000\n",
      "TotalFloorArea     float64         0.000000\n",
      "FootprintArea      float64         0.000000\n",
      "EnergyEfficiency   float64         0.000000\n",
      "EnergyRating        object         0.000000\n",
      "Ward                object         0.007944\n",
      "Borough             object         0.000000\n",
      "MixClass           float64         0.000000\n"
     ]
    }
   ],
   "source": [
    "null_percentage = (df.isnull().sum() / len(df)) * 100\n",
    "data_types = df.dtypes\n",
    "\n",
    "null_summary = pd.DataFrame({\"Data Type\": data_types, \"Null Percentage\": null_percentage})\n",
    "print(null_summary)"
   ]
  },
  {
   "cell_type": "code",
   "execution_count": 40,
   "metadata": {},
   "outputs": [
    {
     "data": {
      "text/html": [
       "<div>\n",
       "<style scoped>\n",
       "    .dataframe tbody tr th:only-of-type {\n",
       "        vertical-align: middle;\n",
       "    }\n",
       "\n",
       "    .dataframe tbody tr th {\n",
       "        vertical-align: top;\n",
       "    }\n",
       "\n",
       "    .dataframe thead th {\n",
       "        text-align: right;\n",
       "    }\n",
       "</style>\n",
       "<table border=\"1\" class=\"dataframe\">\n",
       "  <thead>\n",
       "    <tr style=\"text-align: right;\">\n",
       "      <th></th>\n",
       "      <th>FloorCount</th>\n",
       "      <th>TotalFloorArea</th>\n",
       "      <th>FootprintArea</th>\n",
       "      <th>EnergyEfficiency</th>\n",
       "      <th>MixClass</th>\n",
       "    </tr>\n",
       "  </thead>\n",
       "  <tbody>\n",
       "    <tr>\n",
       "      <th>count</th>\n",
       "      <td>1.963647e+06</td>\n",
       "      <td>1.963647e+06</td>\n",
       "      <td>1.963647e+06</td>\n",
       "      <td>1.963647e+06</td>\n",
       "      <td>1.963647e+06</td>\n",
       "    </tr>\n",
       "    <tr>\n",
       "      <th>mean</th>\n",
       "      <td>2.093803e+00</td>\n",
       "      <td>2.147115e+02</td>\n",
       "      <td>1.057881e+02</td>\n",
       "      <td>6.035334e+01</td>\n",
       "      <td>9.421197e+00</td>\n",
       "    </tr>\n",
       "    <tr>\n",
       "      <th>std</th>\n",
       "      <td>8.148320e-01</td>\n",
       "      <td>3.496904e+03</td>\n",
       "      <td>7.806566e+02</td>\n",
       "      <td>9.046637e+00</td>\n",
       "      <td>1.692132e+00</td>\n",
       "    </tr>\n",
       "    <tr>\n",
       "      <th>min</th>\n",
       "      <td>0.000000e+00</td>\n",
       "      <td>0.000000e+00</td>\n",
       "      <td>1.350000e+00</td>\n",
       "      <td>-1.039000e+03</td>\n",
       "      <td>1.000000e+00</td>\n",
       "    </tr>\n",
       "    <tr>\n",
       "      <th>25%</th>\n",
       "      <td>2.000000e+00</td>\n",
       "      <td>8.700000e+01</td>\n",
       "      <td>5.107000e+01</td>\n",
       "      <td>6.100000e+01</td>\n",
       "      <td>1.000000e+01</td>\n",
       "    </tr>\n",
       "    <tr>\n",
       "      <th>50%</th>\n",
       "      <td>2.000000e+00</td>\n",
       "      <td>1.090000e+02</td>\n",
       "      <td>6.622000e+01</td>\n",
       "      <td>6.100000e+01</td>\n",
       "      <td>1.000000e+01</td>\n",
       "    </tr>\n",
       "    <tr>\n",
       "      <th>75%</th>\n",
       "      <td>2.000000e+00</td>\n",
       "      <td>1.500000e+02</td>\n",
       "      <td>9.000000e+01</td>\n",
       "      <td>6.100000e+01</td>\n",
       "      <td>1.000000e+01</td>\n",
       "    </tr>\n",
       "    <tr>\n",
       "      <th>max</th>\n",
       "      <td>1.870000e+02</td>\n",
       "      <td>1.211826e+06</td>\n",
       "      <td>5.385512e+05</td>\n",
       "      <td>2.240000e+02</td>\n",
       "      <td>1.000000e+01</td>\n",
       "    </tr>\n",
       "  </tbody>\n",
       "</table>\n",
       "</div>"
      ],
      "text/plain": [
       "         FloorCount  TotalFloorArea  FootprintArea  EnergyEfficiency  \\\n",
       "count  1.963647e+06    1.963647e+06   1.963647e+06      1.963647e+06   \n",
       "mean   2.093803e+00    2.147115e+02   1.057881e+02      6.035334e+01   \n",
       "std    8.148320e-01    3.496904e+03   7.806566e+02      9.046637e+00   \n",
       "min    0.000000e+00    0.000000e+00   1.350000e+00     -1.039000e+03   \n",
       "25%    2.000000e+00    8.700000e+01   5.107000e+01      6.100000e+01   \n",
       "50%    2.000000e+00    1.090000e+02   6.622000e+01      6.100000e+01   \n",
       "75%    2.000000e+00    1.500000e+02   9.000000e+01      6.100000e+01   \n",
       "max    1.870000e+02    1.211826e+06   5.385512e+05      2.240000e+02   \n",
       "\n",
       "           MixClass  \n",
       "count  1.963647e+06  \n",
       "mean   9.421197e+00  \n",
       "std    1.692132e+00  \n",
       "min    1.000000e+00  \n",
       "25%    1.000000e+01  \n",
       "50%    1.000000e+01  \n",
       "75%    1.000000e+01  \n",
       "max    1.000000e+01  "
      ]
     },
     "execution_count": 40,
     "metadata": {},
     "output_type": "execute_result"
    }
   ],
   "source": [
    "df.describe()"
   ]
  }
 ],
 "metadata": {
  "kernelspec": {
   "display_name": "venv",
   "language": "python",
   "name": "python3"
  },
  "language_info": {
   "codemirror_mode": {
    "name": "ipython",
    "version": 3
   },
   "file_extension": ".py",
   "mimetype": "text/x-python",
   "name": "python",
   "nbconvert_exporter": "python",
   "pygments_lexer": "ipython3",
   "version": "3.12.8"
  }
 },
 "nbformat": 4,
 "nbformat_minor": 2
}

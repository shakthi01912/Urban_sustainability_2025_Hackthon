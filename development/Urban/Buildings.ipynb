{
 "cells": [
  {
   "cell_type": "code",
   "execution_count": null,
   "metadata": {},
   "outputs": [],
   "source": [
    "import zipfile\n",
    "import os\n",
    "\n",
    "# Define paths\n",
    "raw_data_path = \"data/raw/LBSM_All_London.zip\"\n",
    "extract_dir = \"data/raw/\"\n",
    "\n",
    "# Unzip the file\n",
    "with zipfile.ZipFile(raw_data_path, 'r') as zip_ref:\n",
    "    zip_ref.extractall(extract_dir)\n",
    "\n",
    "print(f\"Unzipped to: {extract_dir}\")"
   ]
  },
  {
   "cell_type": "code",
   "execution_count": null,
   "metadata": {},
   "outputs": [],
   "source": [
    "import pandas as pd\n",
    "\n",
    "# Define the CSV path\n",
    "csv_path = os.path.join(extract_dir, \"LBSM_All_London.csv\")\n",
    "\n",
    "# Load data (adjust chunksize if memory issues)\n",
    "try:\n",
    "    df = pd.read_csv(csv_path)\n",
    "    print(\"Data loaded successfully!\")\n",
    "except Exception as e:\n",
    "    print(f\"Error: {e}\")"
   ]
  },
  {
   "cell_type": "code",
   "execution_count": null,
   "metadata": {},
   "outputs": [],
   "source": [
    "df.describe()"
   ]
  },
  {
   "cell_type": "code",
   "execution_count": null,
   "metadata": {},
   "outputs": [],
   "source": [
    "df.isnull().sum()\n",
    "(df.isnull().sum() / len(df)) * 100\n",
    "\n"
   ]
  },
  {
   "cell_type": "code",
   "execution_count": null,
   "metadata": {},
   "outputs": [],
   "source": [
    "df = df.drop_duplicates()\n",
    "high_missing_cols = [\n",
    "    'BASEMENT_FLOOR',  # 93.1% missing\n",
    "    'AGG_DEC_CURRENT_OPERATIONAL_RATING_BY_COUNT',  # 99.6% missing\n",
    "    'AGG_DEC_CURRENT_OPERATIONAL_RATING_BAND_BY_COUNT',\n",
    "    'AGG_DEC_CURRENT_OPERATIONAL_RATING_BY_FLOORAREA',\n",
    "    'AGG_DEC_CURRENT_OPERATIONAL_RATING_BAND_BY_FLOORAREA',\n",
    "    'DOMINANT_ND_ACTIVITY_BY_C2_FS',  # 85.6% missing\n",
    "    'DOMINANT_ND_ACTIVITY_BY_C2_COUNT'  # 84.7% missing\n",
    "]\n",
    "df = df.drop(columns=high_missing_cols )\n",
    "\n"
   ]
  },
  {
   "cell_type": "code",
   "execution_count": null,
   "metadata": {},
   "outputs": [],
   "source": [
    "if df is None:\n",
    "    print(\"DataFrame is not loaded properly!\")\n",
    "else:\n",
    "    print(\"DataFrame loaded successfully!\")\n"
   ]
  },
  {
   "cell_type": "code",
   "execution_count": null,
   "metadata": {},
   "outputs": [],
   "source": [
    "df.head(5)  # View the first few rows\n",
    "df.info()  # View info about the DataFrame\n"
   ]
  },
  {
   "cell_type": "code",
   "execution_count": null,
   "metadata": {},
   "outputs": [],
   "source": [
    "numeric_cols = ['ESTIMATED_FLOOR_COUNT', 'ESTIMATE_TOTAL_FLOOR_AREA_ALL', 'MEAN_OBJECT_HEIGHT_M']\n",
    "for col in numeric_cols:\n",
    "    if col in df.columns:\n",
    "        median_val = df[col].median()\n",
    "        df[col] = df[col].fillna(median_val)\n",
    "    else:\n",
    "        print(f\"Column {col} not found in the DataFrame\")\n",
    "\n",
    "# For EPC data: Drop missing rows (if critical) OR impute\n",
    "df = df.dropna(subset=['AGG_EPC_CURRENT_ENERGY_EFFICIENCY_BY_COUNT'])"
   ]
  },
  {
   "cell_type": "code",
   "execution_count": null,
   "metadata": {},
   "outputs": [],
   "source": [
    "print(df.columns.tolist())\n",
    "# Drop negligible missing rows for OA/LSOA/MSOA\n",
    "\n",
    "df = df.drop(columns=['SCU_ID', 'COUNT_D_UPRNS', 'COUNT_ND_UPRNS'] )"
   ]
  },
  {
   "cell_type": "code",
   "execution_count": null,
   "metadata": {},
   "outputs": [],
   "source": [
    "df = df.dropna(subset=['OA', 'LSOA', 'MSOA'])"
   ]
  },
  {
   "cell_type": "code",
   "execution_count": null,
   "metadata": {},
   "outputs": [],
   "source": [
    "# Check remaining missing values\n",
    "missing_percent = (df.isnull().sum() / len(df)) * 100\n",
    "print(\"Remaining Missing Values (%):\")\n",
    "print(missing_percent[missing_percent > 0])\n",
    "\n",
    "# Save cleaned data\n"
   ]
  },
  {
   "cell_type": "code",
   "execution_count": 32,
   "metadata": {},
   "outputs": [],
   "source": [
    "cols_to_dropna = [\n",
    "    'MIX_CLASS',\n",
    "    'AGG_EPC_POTENTIAL_ENERGY_EFFICIENCY_BY_COUNT',\n",
    "    'AGG_EPC_POTENTIAL_ENERGY_RATING_BY_COUNT',\n",
    "    'AGG_EPC_POTENTIAL_ENERGY_EFFICIENCY_BY_FLOORAREA',\n",
    "    'AGG_EPC_POTENTIAL_ENERGY_RATING_BY_FLOORAREA'\n",
    "]\n",
    "df = df.dropna(subset=cols_to_dropna )"
   ]
  },
  {
   "cell_type": "code",
   "execution_count": 33,
   "metadata": {},
   "outputs": [],
   "source": [
    "cols_to_dropna_tiny = [\n",
    "    'AGG_EPC_CURRENT_ENERGY_EFFICIENCY_BY_FLOORAREA',\n",
    "    'AGG_EPC_CURRENT_ENERGY_RATING_BY_FLOORAREA',\n",
    "    'AGG_RVEPC_CURRENT_ENERGY_EFFICIENCY_BY_FLOORAREA',\n",
    "    'AGG_RVEPC_CURRENT_ENERGY_RATING_BY_FLOORAREA'\n",
    "]\n",
    "df = df.dropna(subset=cols_to_dropna_tiny)"
   ]
  },
  {
   "cell_type": "code",
   "execution_count": null,
   "metadata": {},
   "outputs": [],
   "source": [
    "missing_percent = (df.isnull().sum() / len(df)) * 100\n",
    "print(\"Remaining Missing Values (%):\")\n",
    "print(missing_percent[missing_percent > 0])"
   ]
  },
  {
   "cell_type": "code",
   "execution_count": 35,
   "metadata": {},
   "outputs": [],
   "source": [
    "df = df.reset_index(drop=True)"
   ]
  },
  {
   "cell_type": "code",
   "execution_count": 36,
   "metadata": {},
   "outputs": [],
   "source": [
    "df.to_parquet(\"data/processed/lbsm_clean.parquet\")"
   ]
  },
  {
   "cell_type": "code",
   "execution_count": null,
   "metadata": {},
   "outputs": [],
   "source": [
    "print(df.columns.tolist())\n",
    "     "
   ]
  },
  {
   "cell_type": "code",
   "execution_count": null,
   "metadata": {},
   "outputs": [],
   "source": [
    "df.columns_to_drop = [\n",
    "    'OA', 'LSOA', 'MSOA', 'OAC',  # Census codes (not critical for buildings)\n",
    "    'AGG_DEC_CURRENT_OPERATIONAL_RATING_BY_COUNT', \n",
    "    'AGG_DEC_CURRENT_OPERATIONAL_RATING_BAND_BY_COUNT',\n",
    "    'AGG_DEC_CURRENT_OPERATIONAL_RATING_BY_FLOORAREA',\n",
    "    'AGG_DEC_CURRENT_OPERATIONAL_RATING_BAND_BY_FLOORAREA',\n",
    "    'DEC_COUNT'  # DEC data (less critical)\n",
    "]\n"
   ]
  },
  {
   "cell_type": "code",
   "execution_count": null,
   "metadata": {},
   "outputs": [],
   "source": [
    "df.dtypes\n",
    "\n"
   ]
  },
  {
   "cell_type": "code",
   "execution_count": 40,
   "metadata": {},
   "outputs": [],
   "source": [
    "# List of columns that should be numeric\n",
    "columns_to_convert = [\n",
    "    'AGG_EPC_CURRENT_ENERGY_RATING_BY_COUNT', \n",
    "    'AGG_EPC_CURRENT_ENERGY_RATING_BY_FLOORAREA',\n",
    "    'AGG_EPC_POTENTIAL_ENERGY_RATING_BY_COUNT', \n",
    "    'AGG_EPC_POTENTIAL_ENERGY_RATING_BY_FLOORAREA',\n",
    "    'AGG_RVEPC_CURRENT_ENERGY_RATING_BY_COUNT',\n",
    "    'AGG_RVEPC_CURRENT_ENERGY_RATING_BY_FLOORAREA'\n",
    "]\n",
    "\n",
    "# Convert to numeric, forcing errors to NaN\n",
    "df[columns_to_convert] = df[columns_to_convert].apply(pd.to_numeric, errors='coerce')\n"
   ]
  },
  {
   "cell_type": "code",
   "execution_count": null,
   "metadata": {},
   "outputs": [],
   "source": [
    "# Check missing values\n",
    "print(df.isnull().sum())\n"
   ]
  }
 ],
 "metadata": {
  "kernelspec": {
   "display_name": "venv",
   "language": "python",
   "name": "python3"
  },
  "language_info": {
   "codemirror_mode": {
    "name": "ipython",
    "version": 3
   },
   "file_extension": ".py",
   "mimetype": "text/x-python",
   "name": "python",
   "nbconvert_exporter": "python",
   "pygments_lexer": "ipython3",
   "version": "3.12.8"
  }
 },
 "nbformat": 4,
 "nbformat_minor": 2
}

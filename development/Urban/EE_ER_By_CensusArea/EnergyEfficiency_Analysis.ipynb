{
 "cells": [
  {
   "cell_type": "code",
   "execution_count": 3,
   "metadata": {},
   "outputs": [],
   "source": [
    "import pandas as pd\n",
    "import numpy as np\n",
    "import matplotlib.pyplot as plt\n",
    "import seaborn as sns"
   ]
  },
  {
   "cell_type": "code",
   "execution_count": 4,
   "metadata": {},
   "outputs": [
    {
     "name": "stderr",
     "output_type": "stream",
     "text": [
      "/var/folders/5n/l1swydn11bg6c9v7_60kdfl00000gn/T/ipykernel_2349/2164135893.py:1: DtypeWarning: Columns (22,23,26,28,32,34,36,38,40,42) have mixed types. Specify dtype option on import or set low_memory=False.\n",
      "  df = pd.read_csv('/Users/shakthimaha/Downloads/Dataset/LBSM_All_London.csv')\n"
     ]
    }
   ],
   "source": [
    "df = pd.read_csv('/Users/shakthimaha/Downloads/Dataset/LBSM_All_London.csv')"
   ]
  },
  {
   "cell_type": "code",
   "execution_count": 5,
   "metadata": {},
   "outputs": [
    {
     "data": {
      "text/plain": [
       "Index(['UPRN', 'SCU_ID', 'OS_TOPO_TOID', 'EASTING', 'NORTHING', 'LATITUDE',\n",
       "       'LONGITUDE', 'OA', 'LSOA', 'MSOA', 'OAC', 'WARD_CODE', 'WARD',\n",
       "       'ADMINISTRATIVE_AREA', 'ESTIMATED_FLOOR_COUNT',\n",
       "       'ESTIMATE_TOTAL_FLOOR_AREA_ALL', 'SCU_FOOTPRINT',\n",
       "       'MEAN_OBJECT_HEIGHT_M', 'BASEMENT_FLOOR', 'COUNT_D_UPRNS',\n",
       "       'COUNT_ND_UPRNS', 'MIX_CLASS', 'DOMINANT_ND_ACTIVITY_BY_C2_FS',\n",
       "       'DOMINANT_ND_ACTIVITY_BY_C2_COUNT', 'DEC_COUNT',\n",
       "       'AGG_DEC_CURRENT_OPERATIONAL_RATING_BY_COUNT',\n",
       "       'AGG_DEC_CURRENT_OPERATIONAL_RATING_BAND_BY_COUNT',\n",
       "       'AGG_DEC_CURRENT_OPERATIONAL_RATING_BY_FLOORAREA',\n",
       "       'AGG_DEC_CURRENT_OPERATIONAL_RATING_BAND_BY_FLOORAREA',\n",
       "       'EPC_RATING_COUNT_DOM', 'EPC_RATING_COUNT_NONDOM',\n",
       "       'AGG_EPC_CURRENT_ENERGY_EFFICIENCY_BY_COUNT',\n",
       "       'AGG_EPC_CURRENT_ENERGY_RATING_BY_COUNT',\n",
       "       'AGG_EPC_CURRENT_ENERGY_EFFICIENCY_BY_FLOORAREA',\n",
       "       'AGG_EPC_CURRENT_ENERGY_RATING_BY_FLOORAREA',\n",
       "       'AGG_EPC_POTENTIAL_ENERGY_EFFICIENCY_BY_COUNT',\n",
       "       'AGG_EPC_POTENTIAL_ENERGY_RATING_BY_COUNT',\n",
       "       'AGG_EPC_POTENTIAL_ENERGY_EFFICIENCY_BY_FLOORAREA',\n",
       "       'AGG_EPC_POTENTIAL_ENERGY_RATING_BY_FLOORAREA',\n",
       "       'AGG_RVEPC_CURRENT_ENERGY_EFFICIENCY_BY_COUNT',\n",
       "       'AGG_RVEPC_CURRENT_ENERGY_RATING_BY_COUNT',\n",
       "       'AGG_RVEPC_CURRENT_ENERGY_EFFICIENCY_BY_FLOORAREA',\n",
       "       'AGG_RVEPC_CURRENT_ENERGY_RATING_BY_FLOORAREA'],\n",
       "      dtype='object')"
      ]
     },
     "execution_count": 5,
     "metadata": {},
     "output_type": "execute_result"
    }
   ],
   "source": [
    "df.columns"
   ]
  },
  {
   "cell_type": "code",
   "execution_count": 6,
   "metadata": {},
   "outputs": [
    {
     "name": "stdout",
     "output_type": "stream",
     "text": [
      "                 Column  Unique Count  Null Percentage\n",
      "0                  UPRN       4710943         0.000000\n",
      "1                SCU_ID       2015843        10.859991\n",
      "2          OS_TOPO_TOID       2255359         0.000000\n",
      "3               EASTING        487647         0.000000\n",
      "4              NORTHING        465229         0.000000\n",
      "5              LATITUDE       1658787         0.000000\n",
      "6             LONGITUDE       2009465         0.000000\n",
      "7                    OA         25133         0.096753\n",
      "8                  LSOA          4917         0.096753\n",
      "9                  MSOA          1039         0.096753\n",
      "10                  OAC            68         0.096753\n",
      "11            WARD_CODE           762         0.096753\n",
      "12                 WARD           750         0.096753\n",
      "13  ADMINISTRATIVE_AREA            33         0.000000\n"
     ]
    }
   ],
   "source": [
    "columns = ['UPRN', 'SCU_ID', 'OS_TOPO_TOID', 'EASTING', 'NORTHING', \n",
    "           'LATITUDE', 'LONGITUDE', 'OA', 'LSOA', 'MSOA', 'OAC', \n",
    "           'WARD_CODE', 'WARD', 'ADMINISTRATIVE_AREA']\n",
    "\n",
    "column_stats = []\n",
    "\n",
    "total_rows = len(df)\n",
    "\n",
    "for column in columns:\n",
    "    unique_count = df[column].nunique() \n",
    "    null_count = total_rows - df[column].count()  \n",
    "    null_percentage = (null_count / total_rows) * 100 \n",
    "    column_stats.append([column, unique_count, null_percentage])\n",
    "\n",
    "column_stats_df = pd.DataFrame(column_stats, columns=['Column', 'Unique Count', 'Null Percentage'])\n",
    "\n",
    "print(column_stats_df)"
   ]
  },
  {
   "cell_type": "code",
   "execution_count": 8,
   "metadata": {},
   "outputs": [
    {
     "name": "stdout",
     "output_type": "stream",
     "text": [
      "DEC_COUNT                                                0.000000\n",
      "AGG_DEC_CURRENT_OPERATIONAL_RATING_BY_COUNT             99.624109\n",
      "AGG_DEC_CURRENT_OPERATIONAL_RATING_BAND_BY_COUNT        99.624109\n",
      "AGG_DEC_CURRENT_OPERATIONAL_RATING_BY_FLOORAREA         99.624109\n",
      "AGG_DEC_CURRENT_OPERATIONAL_RATING_BAND_BY_FLOORAREA    99.624109\n",
      "EPC_RATING_COUNT_DOM                                     0.000000\n",
      "EPC_RATING_COUNT_NONDOM                                  0.000000\n",
      "AGG_EPC_CURRENT_ENERGY_EFFICIENCY_BY_COUNT              46.276404\n",
      "AGG_EPC_CURRENT_ENERGY_RATING_BY_COUNT                  46.276404\n",
      "AGG_EPC_CURRENT_ENERGY_EFFICIENCY_BY_FLOORAREA          46.555435\n",
      "AGG_EPC_CURRENT_ENERGY_RATING_BY_FLOORAREA              46.555435\n",
      "AGG_EPC_POTENTIAL_ENERGY_EFFICIENCY_BY_COUNT            48.029959\n",
      "AGG_EPC_POTENTIAL_ENERGY_RATING_BY_COUNT                48.029959\n",
      "AGG_EPC_POTENTIAL_ENERGY_EFFICIENCY_BY_FLOORAREA        48.313406\n",
      "AGG_EPC_POTENTIAL_ENERGY_RATING_BY_FLOORAREA            48.313406\n",
      "AGG_RVEPC_CURRENT_ENERGY_EFFICIENCY_BY_COUNT            14.901178\n",
      "AGG_RVEPC_CURRENT_ENERGY_RATING_BY_COUNT                14.901178\n",
      "AGG_RVEPC_CURRENT_ENERGY_EFFICIENCY_BY_FLOORAREA        43.442640\n",
      "AGG_RVEPC_CURRENT_ENERGY_RATING_BY_FLOORAREA            43.442640\n",
      "dtype: float64\n"
     ]
    }
   ],
   "source": [
    "\n",
    "columns = [\n",
    "    'DEC_COUNT', 'AGG_DEC_CURRENT_OPERATIONAL_RATING_BY_COUNT',\n",
    "    'AGG_DEC_CURRENT_OPERATIONAL_RATING_BAND_BY_COUNT',\n",
    "    'AGG_DEC_CURRENT_OPERATIONAL_RATING_BY_FLOORAREA',\n",
    "    'AGG_DEC_CURRENT_OPERATIONAL_RATING_BAND_BY_FLOORAREA',\n",
    "    'EPC_RATING_COUNT_DOM', 'EPC_RATING_COUNT_NONDOM',\n",
    "    'AGG_EPC_CURRENT_ENERGY_EFFICIENCY_BY_COUNT',\n",
    "    'AGG_EPC_CURRENT_ENERGY_RATING_BY_COUNT',\n",
    "    'AGG_EPC_CURRENT_ENERGY_EFFICIENCY_BY_FLOORAREA',\n",
    "    'AGG_EPC_CURRENT_ENERGY_RATING_BY_FLOORAREA',\n",
    "    'AGG_EPC_POTENTIAL_ENERGY_EFFICIENCY_BY_COUNT',\n",
    "    'AGG_EPC_POTENTIAL_ENERGY_RATING_BY_COUNT',\n",
    "    'AGG_EPC_POTENTIAL_ENERGY_EFFICIENCY_BY_FLOORAREA',\n",
    "    'AGG_EPC_POTENTIAL_ENERGY_RATING_BY_FLOORAREA',\n",
    "    'AGG_RVEPC_CURRENT_ENERGY_EFFICIENCY_BY_COUNT',\n",
    "    'AGG_RVEPC_CURRENT_ENERGY_RATING_BY_COUNT',\n",
    "    'AGG_RVEPC_CURRENT_ENERGY_EFFICIENCY_BY_FLOORAREA',\n",
    "    'AGG_RVEPC_CURRENT_ENERGY_RATING_BY_FLOORAREA'\n",
    "]\n",
    "\n",
    "df_filtered = df[columns]\n",
    "\n",
    "null_percentage = df_filtered.isnull().mean() * 100\n",
    "\n",
    "print(null_percentage)"
   ]
  },
  {
   "cell_type": "markdown",
   "metadata": {},
   "source": [
    "# Display Energy Efficiency  \n",
    "## The count of DECs in the SCU"
   ]
  },
  {
   "cell_type": "code",
   "execution_count": 9,
   "metadata": {},
   "outputs": [
    {
     "name": "stdout",
     "output_type": "stream",
     "text": [
      "Data Type of DEC_COUNT: int64\n",
      "Unique Values Count of DEC_COUNT: 14\n"
     ]
    }
   ],
   "source": [
    "data_type_dec = df['DEC_COUNT'].dtype\n",
    "\n",
    "unique_values_dec = df['DEC_COUNT'].nunique()\n",
    "\n",
    "print(\"Data Type of DEC_COUNT:\", data_type_dec)\n",
    "print(\"Unique Values Count of DEC_COUNT:\", unique_values_dec)"
   ]
  },
  {
   "cell_type": "markdown",
   "metadata": {},
   "source": [
    "# The count of domestic EPCs in the SCU "
   ]
  },
  {
   "cell_type": "code",
   "execution_count": 10,
   "metadata": {},
   "outputs": [
    {
     "name": "stdout",
     "output_type": "stream",
     "text": [
      "Data Type of EPC_RATING_COUNT_DOM: int64\n",
      "Unique Values Count of EPC_RATING_COUNT_DOM: 179\n"
     ]
    }
   ],
   "source": [
    "data_type_dom = df['EPC_RATING_COUNT_DOM'].dtype\n",
    "\n",
    "unique_values_dom = df['EPC_RATING_COUNT_DOM'].nunique()\n",
    "\n",
    "print(\"Data Type of EPC_RATING_COUNT_DOM:\", data_type_dom)\n",
    "print(\"Unique Values Count of EPC_RATING_COUNT_DOM:\", unique_values_dom)"
   ]
  },
  {
   "cell_type": "code",
   "execution_count": 16,
   "metadata": {},
   "outputs": [
    {
     "data": {
      "image/png": "[encoded data removed]",
      "text/plain": [
       "<Figure size 640x480 with 1 Axes>"
      ]
     },
     "metadata": {},
     "output_type": "display_data"
    }
   ],
   "source": [
    "\n",
    "import matplotlib.pyplot as plt\n",
    "\n",
    "\n",
    "plt.hist(df['EPC_RATING_COUNT_DOM'], bins=10, color='blue', edgecolor='black')\n",
    "\n",
    "plt.title('EPC_RATING_COUNT_DOM Distribution')\n",
    "plt.xlabel('EPC_RATING_COUNT_DOM')\n",
    "plt.ylabel('Frequency')\n",
    "\n",
    "plt.show()"
   ]
  },
  {
   "cell_type": "markdown",
   "metadata": {},
   "source": [
    "# The count of non-domestic EPCs in the SCU"
   ]
  },
  {
   "cell_type": "code",
   "execution_count": 11,
   "metadata": {},
   "outputs": [
    {
     "name": "stdout",
     "output_type": "stream",
     "text": [
      "Data Type of EPC_RATING_COUNT_NONDOM: int64\n",
      "Unique Values Count of EPC_RATING_COUNT_NONDOM: 34\n"
     ]
    }
   ],
   "source": [
    "data_type_nondom = df['EPC_RATING_COUNT_NONDOM'].dtype\n",
    "\n",
    "unique_values_nondom = df['EPC_RATING_COUNT_NONDOM'].nunique()\n",
    "\n",
    "print(\"Data Type of EPC_RATING_COUNT_NONDOM:\", data_type_nondom)\n",
    "print(\"Unique Values Count of EPC_RATING_COUNT_NONDOM:\", unique_values_nondom)"
   ]
  },
  {
   "cell_type": "code",
   "execution_count": 20,
   "metadata": {},
   "outputs": [
    {
     "name": "stdout",
     "output_type": "stream",
     "text": [
      "Data Type of AGG_RVEPC_CURRENT_ENERGY_EFFICIENCY_BY_COUNT: float64\n",
      "Unique Values Count of AGG_RVEPC_CURRENT_ENERGY_EFFICIENCY_BY_COUNT: 322\n"
     ]
    }
   ],
   "source": [
    "\n",
    "data_type_efficiency = df['AGG_RVEPC_CURRENT_ENERGY_EFFICIENCY_BY_COUNT'].dtype\n",
    "df1 = df.dropna(subset=['AGG_RVEPC_CURRENT_ENERGY_EFFICIENCY_BY_COUNT'])\n",
    "\n",
    "\n",
    "unique_values_efficiency = df1['AGG_RVEPC_CURRENT_ENERGY_EFFICIENCY_BY_COUNT'].nunique()\n",
    "\n",
    "\n",
    "print(\"Data Type of AGG_RVEPC_CURRENT_ENERGY_EFFICIENCY_BY_COUNT:\", data_type_efficiency)\n",
    "print(\"Unique Values Count of AGG_RVEPC_CURRENT_ENERGY_EFFICIENCY_BY_COUNT:\", unique_values_efficiency)"
   ]
  },
  {
   "cell_type": "code",
   "execution_count": 13,
   "metadata": {},
   "outputs": [
    {
     "name": "stdout",
     "output_type": "stream",
     "text": [
      "Data Type of AGG_RVEPC_CURRENT_ENERGY_RATING_BY_COUNT: object\n",
      "Unique Values Count of AGG_RVEPC_CURRENT_ENERGY_RATING_BY_COUNT: 7\n"
     ]
    }
   ],
   "source": [
    "\n",
    "data_type_rating = df['AGG_RVEPC_CURRENT_ENERGY_RATING_BY_COUNT'].dtype\n",
    "\n",
    "\n",
    "unique_values_rating = df['AGG_RVEPC_CURRENT_ENERGY_RATING_BY_COUNT'].nunique()\n",
    "\n",
    "\n",
    "print(\"Data Type of AGG_RVEPC_CURRENT_ENERGY_RATING_BY_COUNT:\", data_type_rating)\n",
    "print(\"Unique Values Count of AGG_RVEPC_CURRENT_ENERGY_RATING_BY_COUNT:\", unique_values_rating)"
   ]
  },
  {
   "cell_type": "code",
   "execution_count": 14,
   "metadata": {},
   "outputs": [
    {
     "name": "stdout",
     "output_type": "stream",
     "text": [
      "                                              AGG_RVEPC_CURRENT_ENERGY_EFFICIENCY_BY_COUNT  \\\n",
      "AGG_RVEPC_CURRENT_ENERGY_EFFICIENCY_BY_COUNT                                      1.000000   \n",
      "AGG_EPC_POTENTIAL_ENERGY_EFFICIENCY_BY_COUNT                                      0.601266   \n",
      "\n",
      "                                              AGG_EPC_POTENTIAL_ENERGY_EFFICIENCY_BY_COUNT  \n",
      "AGG_RVEPC_CURRENT_ENERGY_EFFICIENCY_BY_COUNT                                      0.601266  \n",
      "AGG_EPC_POTENTIAL_ENERGY_EFFICIENCY_BY_COUNT                                      1.000000  \n"
     ]
    }
   ],
   "source": [
    "correlation = df[['AGG_RVEPC_CURRENT_ENERGY_EFFICIENCY_BY_COUNT', 'AGG_EPC_POTENTIAL_ENERGY_EFFICIENCY_BY_COUNT']].corr()\n",
    "print(correlation)"
   ]
  },
  {
   "cell_type": "code",
   "execution_count": 17,
   "metadata": {},
   "outputs": [
    {
     "name": "stdout",
     "output_type": "stream",
     "text": [
      "Unique Values Count: 207\n",
      "Unique Values: [  nan   71.   68.   66.   72.   74.   73.   75.   62.   67.   60.   81.\n",
      "   78.   77.   80.   50.   84.   61.   59.   83.   82.   20.   85.   14.\n",
      "   63.   64.   57.   70.   65.   41.   44.   54.   38.   55.   45.   11.\n",
      "   58.   87.   76.   29.   79.   32.   46.   51.   95.   49.   31.    5.\n",
      "   52.   -4.   40.   33.   21.   69.  -66.   56.   48.   43.   34.   -1.\n",
      "   -9.   91.   88.   42.   22.  -10.   36.  -74.   27.   17.   18.   53.\n",
      "   86.   30.   37.   35. -209. -112.  -19.   23.   47.   15.   26.    1.\n",
      "   10.   89.   90.   92.   93.  100.   94.    9.  118.   96.   28.  -33.\n",
      "   97.   99.    4.   24.   25.   12.   98.   19.   13.    6.   39.   16.\n",
      "    0.    2.  101.    8.  107.    3.    7.  108.  103.  -21.   -8.  102.\n",
      "  105.  109.  104.  -23.  -24.  113.  -87.  112.  126.   -3.  -14.  110.\n",
      " -161.  -30.  -92.   -7. -132.  -11.  -18.   -5.  -49.  -29.  -20.  -42.\n",
      "  -35.  -78.  -13.  -17. -215.  106.  151.  -56.  -15.  114.  -41.  -60.\n",
      "  133.  -54.  123.  -59.  111.  -62.  -32.  -36.  -91.  -40.  -84.  -39.\n",
      "  -26.  124.  117.  120.  -28.  -22.  -58.  -81.  -16.   -6.  -86.  -34.\n",
      "  -70.  -47.  -76.  -71.  -51.  -72.  -12.  -27.   -2. -166. -144.  -63.\n",
      "  115.  -68. -141.  -48.  -57. -309. -104. -101.  -37. -194.  227.  -31.\n",
      "  -67. -261.  -45. -190.]\n"
     ]
    }
   ],
   "source": [
    "unique_values = df['AGG_EPC_POTENTIAL_ENERGY_EFFICIENCY_BY_COUNT'].nunique()\n",
    "print(\"Unique Values Count:\", unique_values)\n",
    "\n",
    "unique_values_list = df['AGG_EPC_POTENTIAL_ENERGY_EFFICIENCY_BY_COUNT'].unique()\n",
    "print(\"Unique Values:\", unique_values_list)"
   ]
  },
  {
   "cell_type": "code",
   "execution_count": 18,
   "metadata": {},
   "outputs": [
    {
     "data": {
      "image/png": "[encoded data removed]",
      "text/plain": [
       "<Figure size 640x480 with 1 Axes>"
      ]
     },
     "metadata": {},
     "output_type": "display_data"
    }
   ],
   "source": [
    "import matplotlib.pyplot as plt\n",
    "\n",
    "plt.hist(df['AGG_EPC_POTENTIAL_ENERGY_EFFICIENCY_BY_COUNT'].dropna(), bins=10, color='blue', edgecolor='black')\n",
    "plt.title('Distribution of AGG_EPC_POTENTIAL_ENERGY_EFFICIENCY_BY_COUNT')\n",
    "plt.xlabel('AGG_EPC_POTENTIAL_ENERGY_EFFICIENCY_BY_COUNT')\n",
    "plt.ylabel('Frequency')\n",
    "plt.show()"
   ]
  },
  {
   "cell_type": "code",
   "execution_count": 21,
   "metadata": {},
   "outputs": [
    {
     "data": {
      "image/png": "[encoded data removed]",
      "text/plain": [
       "<Figure size 640x480 with 1 Axes>"
      ]
     },
     "metadata": {},
     "output_type": "display_data"
    }
   ],
   "source": [
    "import matplotlib.pyplot as plt\n",
    "\n",
    "plt.hist(df1['AGG_EPC_CURRENT_ENERGY_EFFICIENCY_BY_COUNT'].dropna(), bins=10, color='blue', edgecolor='black')\n",
    "plt.title('Distribution of AGG_EPC_CURRENT_ENERGY_EFFICIENCY_BY_COUNT')\n",
    "plt.xlabel('AGG_EPC_CURRENT_ENERGY_EFFICIENCY_BY_COUNT')\n",
    "plt.ylabel('Frequency')\n",
    "plt.show()"
   ]
  }
 ],
 "metadata": {
  "kernelspec": {
   "display_name": "venv",
   "language": "python",
   "name": "python3"
  },
  "language_info": {
   "codemirror_mode": {
    "name": "ipython",
    "version": 3
   },
   "file_extension": ".py",
   "mimetype": "text/x-python",
   "name": "python",
   "nbconvert_exporter": "python",
   "pygments_lexer": "ipython3",
   "version": "3.12.8"
  }
 },
 "nbformat": 4,
 "nbformat_minor": 2
}

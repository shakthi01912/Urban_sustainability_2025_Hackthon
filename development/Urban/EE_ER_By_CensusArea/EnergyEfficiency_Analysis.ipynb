{
 "cells": [
  {
   "cell_type": "code",
   "execution_count": 1,
   "metadata": {},
   "outputs": [],
   "source": [
    "import pandas as pd\n",
    "import numpy as np\n",
    "import matplotlib.pyplot as plt\n",
    "import seaborn as sns"
   ]
  },
  {
   "cell_type": "code",
   "execution_count": 2,
   "metadata": {},
   "outputs": [
    {
     "name": "stderr",
     "output_type": "stream",
     "text": [
      "/var/folders/5n/l1swydn11bg6c9v7_60kdfl00000gn/T/ipykernel_21156/2164135893.py:1: DtypeWarning: Columns (22,23,26,28,32,34,36,38,40,42) have mixed types. Specify dtype option on import or set low_memory=False.\n",
      "  df = pd.read_csv('/Users/shakthimaha/Downloads/Dataset/LBSM_All_London.csv')\n"
     ]
    }
   ],
   "source": [
    "df = pd.read_csv('/Users/shakthimaha/Downloads/Dataset/LBSM_All_London.csv')"
   ]
  },
  {
   "cell_type": "code",
   "execution_count": 4,
   "metadata": {},
   "outputs": [
    {
     "data": {
      "text/plain": [
       "Index(['UPRN', 'SCU_ID', 'OS_TOPO_TOID', 'EASTING', 'NORTHING', 'LATITUDE',\n",
       "       'LONGITUDE', 'OA', 'LSOA', 'MSOA', 'OAC', 'WARD_CODE', 'WARD',\n",
       "       'ADMINISTRATIVE_AREA', 'ESTIMATED_FLOOR_COUNT',\n",
       "       'ESTIMATE_TOTAL_FLOOR_AREA_ALL', 'SCU_FOOTPRINT',\n",
       "       'MEAN_OBJECT_HEIGHT_M', 'BASEMENT_FLOOR', 'COUNT_D_UPRNS',\n",
       "       'COUNT_ND_UPRNS', 'MIX_CLASS', 'DOMINANT_ND_ACTIVITY_BY_C2_FS',\n",
       "       'DOMINANT_ND_ACTIVITY_BY_C2_COUNT', 'DEC_COUNT',\n",
       "       'AGG_DEC_CURRENT_OPERATIONAL_RATING_BY_COUNT',\n",
       "       'AGG_DEC_CURRENT_OPERATIONAL_RATING_BAND_BY_COUNT',\n",
       "       'AGG_DEC_CURRENT_OPERATIONAL_RATING_BY_FLOORAREA',\n",
       "       'AGG_DEC_CURRENT_OPERATIONAL_RATING_BAND_BY_FLOORAREA',\n",
       "       'EPC_RATING_COUNT_DOM', 'EPC_RATING_COUNT_NONDOM',\n",
       "       'AGG_EPC_CURRENT_ENERGY_EFFICIENCY_BY_COUNT',\n",
       "       'AGG_EPC_CURRENT_ENERGY_RATING_BY_COUNT',\n",
       "       'AGG_EPC_CURRENT_ENERGY_EFFICIENCY_BY_FLOORAREA',\n",
       "       'AGG_EPC_CURRENT_ENERGY_RATING_BY_FLOORAREA',\n",
       "       'AGG_EPC_POTENTIAL_ENERGY_EFFICIENCY_BY_COUNT',\n",
       "       'AGG_EPC_POTENTIAL_ENERGY_RATING_BY_COUNT',\n",
       "       'AGG_EPC_POTENTIAL_ENERGY_EFFICIENCY_BY_FLOORAREA',\n",
       "       'AGG_EPC_POTENTIAL_ENERGY_RATING_BY_FLOORAREA',\n",
       "       'AGG_RVEPC_CURRENT_ENERGY_EFFICIENCY_BY_COUNT',\n",
       "       'AGG_RVEPC_CURRENT_ENERGY_RATING_BY_COUNT',\n",
       "       'AGG_RVEPC_CURRENT_ENERGY_EFFICIENCY_BY_FLOORAREA',\n",
       "       'AGG_RVEPC_CURRENT_ENERGY_RATING_BY_FLOORAREA'],\n",
       "      dtype='object')"
      ]
     },
     "execution_count": 4,
     "metadata": {},
     "output_type": "execute_result"
    }
   ],
   "source": [
    "df.columns"
   ]
  },
  {
   "cell_type": "code",
   "execution_count": 9,
   "metadata": {},
   "outputs": [
    {
     "name": "stdout",
     "output_type": "stream",
     "text": [
      "                 Column  Unique Count  Null Percentage\n",
      "0                  UPRN       4710943         0.000000\n",
      "1                SCU_ID       2015843        10.859991\n",
      "2          OS_TOPO_TOID       2255359         0.000000\n",
      "3               EASTING        487647         0.000000\n",
      "4              NORTHING        465229         0.000000\n",
      "5              LATITUDE       1658787         0.000000\n",
      "6             LONGITUDE       2009465         0.000000\n",
      "7                    OA         25133         0.096753\n",
      "8                  LSOA          4917         0.096753\n",
      "9                  MSOA          1039         0.096753\n",
      "10                  OAC            68         0.096753\n",
      "11            WARD_CODE           762         0.096753\n",
      "12                 WARD           750         0.096753\n",
      "13  ADMINISTRATIVE_AREA            33         0.000000\n"
     ]
    }
   ],
   "source": [
    "columns = ['UPRN', 'SCU_ID', 'OS_TOPO_TOID', 'EASTING', 'NORTHING', \n",
    "           'LATITUDE', 'LONGITUDE', 'OA', 'LSOA', 'MSOA', 'OAC', \n",
    "           'WARD_CODE', 'WARD', 'ADMINISTRATIVE_AREA']\n",
    "\n",
    "column_stats = []\n",
    "\n",
    "total_rows = len(df)\n",
    "\n",
    "for column in columns:\n",
    "    unique_count = df[column].nunique() \n",
    "    null_count = total_rows - df[column].count()  \n",
    "    null_percentage = (null_count / total_rows) * 100 \n",
    "    column_stats.append([column, unique_count, null_percentage])\n",
    "\n",
    "column_stats_df = pd.DataFrame(column_stats, columns=['Column', 'Unique Count', 'Null Percentage'])\n",
    "\n",
    "print(column_stats_df)"
   ]
  },
  {
   "cell_type": "code",
   "execution_count": 13,
   "metadata": {},
   "outputs": [
    {
     "name": "stdout",
     "output_type": "stream",
     "text": [
      "DEC_COUNT                                                0.000000\n",
      "AGG_DEC_CURRENT_OPERATIONAL_RATING_BY_COUNT             99.624109\n",
      "AGG_DEC_CURRENT_OPERATIONAL_RATING_BAND_BY_COUNT        99.624109\n",
      "AGG_DEC_CURRENT_OPERATIONAL_RATING_BY_FLOORAREA         99.624109\n",
      "AGG_DEC_CURRENT_OPERATIONAL_RATING_BAND_BY_FLOORAREA    99.624109\n",
      "EPC_RATING_COUNT_DOM                                     0.000000\n",
      "EPC_RATING_COUNT_NONDOM                                  0.000000\n",
      "AGG_EPC_CURRENT_ENERGY_EFFICIENCY_BY_COUNT              46.276404\n",
      "AGG_EPC_CURRENT_ENERGY_RATING_BY_COUNT                  46.276404\n",
      "AGG_EPC_CURRENT_ENERGY_EFFICIENCY_BY_FLOORAREA          46.555435\n",
      "AGG_EPC_CURRENT_ENERGY_RATING_BY_FLOORAREA              46.555435\n",
      "AGG_EPC_POTENTIAL_ENERGY_EFFICIENCY_BY_COUNT            48.029959\n",
      "AGG_EPC_POTENTIAL_ENERGY_RATING_BY_COUNT                48.029959\n",
      "AGG_EPC_POTENTIAL_ENERGY_EFFICIENCY_BY_FLOORAREA        48.313406\n",
      "AGG_EPC_POTENTIAL_ENERGY_RATING_BY_FLOORAREA            48.313406\n",
      "AGG_RVEPC_CURRENT_ENERGY_EFFICIENCY_BY_COUNT            14.901178\n",
      "AGG_RVEPC_CURRENT_ENERGY_RATING_BY_COUNT                14.901178\n",
      "AGG_RVEPC_CURRENT_ENERGY_EFFICIENCY_BY_FLOORAREA        43.442640\n",
      "AGG_RVEPC_CURRENT_ENERGY_RATING_BY_FLOORAREA            43.442640\n",
      "dtype: float64\n"
     ]
    }
   ],
   "source": [
    "\n",
    "columns = [\n",
    "    'DEC_COUNT', 'AGG_DEC_CURRENT_OPERATIONAL_RATING_BY_COUNT',\n",
    "    'AGG_DEC_CURRENT_OPERATIONAL_RATING_BAND_BY_COUNT',\n",
    "    'AGG_DEC_CURRENT_OPERATIONAL_RATING_BY_FLOORAREA',\n",
    "    'AGG_DEC_CURRENT_OPERATIONAL_RATING_BAND_BY_FLOORAREA',\n",
    "    'EPC_RATING_COUNT_DOM', 'EPC_RATING_COUNT_NONDOM',\n",
    "    'AGG_EPC_CURRENT_ENERGY_EFFICIENCY_BY_COUNT',\n",
    "    'AGG_EPC_CURRENT_ENERGY_RATING_BY_COUNT',\n",
    "    'AGG_EPC_CURRENT_ENERGY_EFFICIENCY_BY_FLOORAREA',\n",
    "    'AGG_EPC_CURRENT_ENERGY_RATING_BY_FLOORAREA',\n",
    "    'AGG_EPC_POTENTIAL_ENERGY_EFFICIENCY_BY_COUNT',\n",
    "    'AGG_EPC_POTENTIAL_ENERGY_RATING_BY_COUNT',\n",
    "    'AGG_EPC_POTENTIAL_ENERGY_EFFICIENCY_BY_FLOORAREA',\n",
    "    'AGG_EPC_POTENTIAL_ENERGY_RATING_BY_FLOORAREA',\n",
    "    'AGG_RVEPC_CURRENT_ENERGY_EFFICIENCY_BY_COUNT',\n",
    "    'AGG_RVEPC_CURRENT_ENERGY_RATING_BY_COUNT',\n",
    "    'AGG_RVEPC_CURRENT_ENERGY_EFFICIENCY_BY_FLOORAREA',\n",
    "    'AGG_RVEPC_CURRENT_ENERGY_RATING_BY_FLOORAREA'\n",
    "]\n",
    "\n",
    "df_filtered = df[columns]\n",
    "\n",
    "null_percentage = df_filtered.isnull().mean() * 100\n",
    "\n",
    "print(null_percentage)"
   ]
  },
  {
   "cell_type": "markdown",
   "metadata": {},
   "source": [
    "# Display Energy Efficiency  \n",
    "## The count of DECs in the SCU"
   ]
  },
  {
   "cell_type": "code",
   "execution_count": 16,
   "metadata": {},
   "outputs": [
    {
     "name": "stdout",
     "output_type": "stream",
     "text": [
      "Data Type of DEC_COUNT: int64\n",
      "Unique Values Count of DEC_COUNT: 14\n"
     ]
    }
   ],
   "source": [
    "data_type_dec = df['DEC_COUNT'].dtype\n",
    "\n",
    "unique_values_dec = df['DEC_COUNT'].nunique()\n",
    "\n",
    "print(\"Data Type of DEC_COUNT:\", data_type_dec)\n",
    "print(\"Unique Values Count of DEC_COUNT:\", unique_values_dec)"
   ]
  },
  {
   "cell_type": "markdown",
   "metadata": {},
   "source": [
    "# The count of domestic EPCs in the SCU "
   ]
  },
  {
   "cell_type": "code",
   "execution_count": 17,
   "metadata": {},
   "outputs": [
    {
     "name": "stdout",
     "output_type": "stream",
     "text": [
      "Data Type of EPC_RATING_COUNT_DOM: int64\n",
      "Unique Values Count of EPC_RATING_COUNT_DOM: 179\n"
     ]
    }
   ],
   "source": [
    "data_type_dom = df['EPC_RATING_COUNT_DOM'].dtype\n",
    "\n",
    "unique_values_dom = df['EPC_RATING_COUNT_DOM'].nunique()\n",
    "\n",
    "print(\"Data Type of EPC_RATING_COUNT_DOM:\", data_type_dom)\n",
    "print(\"Unique Values Count of EPC_RATING_COUNT_DOM:\", unique_values_dom)"
   ]
  },
  {
   "cell_type": "markdown",
   "metadata": {},
   "source": [
    "# The count of non-domestic EPCs in the SCU"
   ]
  },
  {
   "cell_type": "code",
   "execution_count": 18,
   "metadata": {},
   "outputs": [
    {
     "name": "stdout",
     "output_type": "stream",
     "text": [
      "Data Type of EPC_RATING_COUNT_NONDOM: int64\n",
      "Unique Values Count of EPC_RATING_COUNT_NONDOM: 34\n"
     ]
    }
   ],
   "source": [
    "data_type_nondom = df['EPC_RATING_COUNT_NONDOM'].dtype\n",
    "\n",
    "unique_values_nondom = df['EPC_RATING_COUNT_NONDOM'].nunique()\n",
    "\n",
    "print(\"Data Type of EPC_RATING_COUNT_NONDOM:\", data_type_nondom)\n",
    "print(\"Unique Values Count of EPC_RATING_COUNT_NONDOM:\", unique_values_nondom)"
   ]
  }
 ],
 "metadata": {
  "kernelspec": {
   "display_name": "venv",
   "language": "python",
   "name": "python3"
  },
  "language_info": {
   "codemirror_mode": {
    "name": "ipython",
    "version": 3
   },
   "file_extension": ".py",
   "mimetype": "text/x-python",
   "name": "python",
   "nbconvert_exporter": "python",
   "pygments_lexer": "ipython3",
   "version": "3.12.8"
  }
 },
 "nbformat": 4,
 "nbformat_minor": 2
}

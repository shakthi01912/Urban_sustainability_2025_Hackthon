{
 "cells": [
  {
   "cell_type": "code",
   "execution_count": 1,
   "metadata": {},
   "outputs": [],
   "source": [
    "import pandas as pd\n",
    "import numpy as np\n",
    "import matplotlib.pyplot as plt\n",
    "import seaborn as sns"
   ]
  },
  {
   "cell_type": "code",
   "execution_count": 2,
   "metadata": {},
   "outputs": [
    {
     "name": "stderr",
     "output_type": "stream",
     "text": [
      "/var/folders/5n/l1swydn11bg6c9v7_60kdfl00000gn/T/ipykernel_5944/2164135893.py:1: DtypeWarning: Columns (22,23,26,28,32,34,36,38,40,42) have mixed types. Specify dtype option on import or set low_memory=False.\n",
      "  df = pd.read_csv('/Users/shakthimaha/Downloads/Dataset/LBSM_All_London.csv')\n"
     ]
    }
   ],
   "source": [
    "df = pd.read_csv('/Users/shakthimaha/Downloads/Dataset/LBSM_All_London.csv')"
   ]
  },
  {
   "cell_type": "code",
   "execution_count": 16,
   "metadata": {},
   "outputs": [
    {
     "data": {
      "text/html": [
       "<div>\n",
       "<style scoped>\n",
       "    .dataframe tbody tr th:only-of-type {\n",
       "        vertical-align: middle;\n",
       "    }\n",
       "\n",
       "    .dataframe tbody tr th {\n",
       "        vertical-align: top;\n",
       "    }\n",
       "\n",
       "    .dataframe thead th {\n",
       "        text-align: right;\n",
       "    }\n",
       "</style>\n",
       "<table border=\"1\" class=\"dataframe\">\n",
       "  <thead>\n",
       "    <tr style=\"text-align: right;\">\n",
       "      <th></th>\n",
       "      <th>Domestic_EPC_Count</th>\n",
       "      <th>NonDomestic_EPC_Count</th>\n",
       "      <th>Potential_Energy_Efficiency</th>\n",
       "      <th>Potential_Energy_Efficiency_Rating</th>\n",
       "      <th>Revised_Energy_Efficiency</th>\n",
       "      <th>Revised_Energy_Efficiency_Rating</th>\n",
       "      <th>Unique_Property_Reference_Number</th>\n",
       "      <th>Statistical_Unit_ID</th>\n",
       "      <th>Output_Area</th>\n",
       "      <th>Lower_Super_Output_Area</th>\n",
       "      <th>Middle_Super_Output_Area</th>\n",
       "      <th>Output_Area_Classification</th>\n",
       "      <th>Ward_Code</th>\n",
       "      <th>Ward_Name</th>\n",
       "      <th>Administrative_Area</th>\n",
       "    </tr>\n",
       "  </thead>\n",
       "  <tbody>\n",
       "    <tr>\n",
       "      <th>0</th>\n",
       "      <td>0</td>\n",
       "      <td>0</td>\n",
       "      <td>NaN</td>\n",
       "      <td>NaN</td>\n",
       "      <td>54.0</td>\n",
       "      <td>E</td>\n",
       "      <td>95510923</td>\n",
       "      <td>5.030100e+13</td>\n",
       "      <td>E00000010</td>\n",
       "      <td>E01000003</td>\n",
       "      <td>E02000001</td>\n",
       "      <td>2D3</td>\n",
       "      <td>E05009302</td>\n",
       "      <td>Cripplegate</td>\n",
       "      <td>CITY OF LONDON</td>\n",
       "    </tr>\n",
       "    <tr>\n",
       "      <th>1</th>\n",
       "      <td>0</td>\n",
       "      <td>0</td>\n",
       "      <td>NaN</td>\n",
       "      <td>NaN</td>\n",
       "      <td>54.0</td>\n",
       "      <td>E</td>\n",
       "      <td>100023615843</td>\n",
       "      <td>5.030100e+13</td>\n",
       "      <td>E00000010</td>\n",
       "      <td>E01000003</td>\n",
       "      <td>E02000001</td>\n",
       "      <td>2D3</td>\n",
       "      <td>E05009302</td>\n",
       "      <td>Cripplegate</td>\n",
       "      <td>CITY OF LONDON</td>\n",
       "    </tr>\n",
       "    <tr>\n",
       "      <th>2</th>\n",
       "      <td>38</td>\n",
       "      <td>0</td>\n",
       "      <td>71.0</td>\n",
       "      <td>C</td>\n",
       "      <td>63.0</td>\n",
       "      <td>D</td>\n",
       "      <td>200000071748</td>\n",
       "      <td>5.030100e+13</td>\n",
       "      <td>E00000012</td>\n",
       "      <td>E01000003</td>\n",
       "      <td>E02000001</td>\n",
       "      <td>3B3</td>\n",
       "      <td>E05009302</td>\n",
       "      <td>Cripplegate</td>\n",
       "      <td>CITY OF LONDON</td>\n",
       "    </tr>\n",
       "    <tr>\n",
       "      <th>3</th>\n",
       "      <td>38</td>\n",
       "      <td>0</td>\n",
       "      <td>71.0</td>\n",
       "      <td>C</td>\n",
       "      <td>63.0</td>\n",
       "      <td>D</td>\n",
       "      <td>200000071808</td>\n",
       "      <td>5.030100e+13</td>\n",
       "      <td>E00000012</td>\n",
       "      <td>E01000003</td>\n",
       "      <td>E02000001</td>\n",
       "      <td>3B3</td>\n",
       "      <td>E05009302</td>\n",
       "      <td>Cripplegate</td>\n",
       "      <td>CITY OF LONDON</td>\n",
       "    </tr>\n",
       "    <tr>\n",
       "      <th>4</th>\n",
       "      <td>38</td>\n",
       "      <td>0</td>\n",
       "      <td>71.0</td>\n",
       "      <td>C</td>\n",
       "      <td>63.0</td>\n",
       "      <td>D</td>\n",
       "      <td>200000071807</td>\n",
       "      <td>5.030100e+13</td>\n",
       "      <td>E00000012</td>\n",
       "      <td>E01000003</td>\n",
       "      <td>E02000001</td>\n",
       "      <td>3B3</td>\n",
       "      <td>E05009302</td>\n",
       "      <td>Cripplegate</td>\n",
       "      <td>CITY OF LONDON</td>\n",
       "    </tr>\n",
       "  </tbody>\n",
       "</table>\n",
       "</div>"
      ],
      "text/plain": [
       "   Domestic_EPC_Count  NonDomestic_EPC_Count  Potential_Energy_Efficiency  \\\n",
       "0                   0                      0                          NaN   \n",
       "1                   0                      0                          NaN   \n",
       "2                  38                      0                         71.0   \n",
       "3                  38                      0                         71.0   \n",
       "4                  38                      0                         71.0   \n",
       "\n",
       "  Potential_Energy_Efficiency_Rating  Revised_Energy_Efficiency  \\\n",
       "0                                NaN                       54.0   \n",
       "1                                NaN                       54.0   \n",
       "2                                  C                       63.0   \n",
       "3                                  C                       63.0   \n",
       "4                                  C                       63.0   \n",
       "\n",
       "  Revised_Energy_Efficiency_Rating  Unique_Property_Reference_Number  \\\n",
       "0                                E                          95510923   \n",
       "1                                E                      100023615843   \n",
       "2                                D                      200000071748   \n",
       "3                                D                      200000071808   \n",
       "4                                D                      200000071807   \n",
       "\n",
       "   Statistical_Unit_ID Output_Area Lower_Super_Output_Area  \\\n",
       "0         5.030100e+13   E00000010               E01000003   \n",
       "1         5.030100e+13   E00000010               E01000003   \n",
       "2         5.030100e+13   E00000012               E01000003   \n",
       "3         5.030100e+13   E00000012               E01000003   \n",
       "4         5.030100e+13   E00000012               E01000003   \n",
       "\n",
       "  Middle_Super_Output_Area Output_Area_Classification  Ward_Code    Ward_Name  \\\n",
       "0                E02000001                        2D3  E05009302  Cripplegate   \n",
       "1                E02000001                        2D3  E05009302  Cripplegate   \n",
       "2                E02000001                        3B3  E05009302  Cripplegate   \n",
       "3                E02000001                        3B3  E05009302  Cripplegate   \n",
       "4                E02000001                        3B3  E05009302  Cripplegate   \n",
       "\n",
       "  Administrative_Area  \n",
       "0      CITY OF LONDON  \n",
       "1      CITY OF LONDON  \n",
       "2      CITY OF LONDON  \n",
       "3      CITY OF LONDON  \n",
       "4      CITY OF LONDON  "
      ]
     },
     "execution_count": 16,
     "metadata": {},
     "output_type": "execute_result"
    }
   ],
   "source": [
    "columns_to_extract = [\n",
    "    \"EPC_RATING_COUNT_DOM\", \"EPC_RATING_COUNT_NONDOM\", \n",
    "    \"AGG_EPC_POTENTIAL_ENERGY_EFFICIENCY_BY_COUNT\", \n",
    "    \"AGG_EPC_POTENTIAL_ENERGY_RATING_BY_COUNT\",\n",
    "    \"AGG_RVEPC_CURRENT_ENERGY_EFFICIENCY_BY_COUNT\", \n",
    "    \"AGG_RVEPC_CURRENT_ENERGY_RATING_BY_COUNT\",\n",
    "    \"UPRN\", \"SCU_ID\", \"OA\", \"LSOA\", \"MSOA\", \"OAC\", \n",
    "    \"WARD_CODE\", \"WARD\", \"ADMINISTRATIVE_AREA\"\n",
    "]\n",
    "\n",
    "df_selected = df[columns_to_extract].copy()\n",
    "\n",
    "df_selected.rename(columns={\n",
    "    \"EPC_RATING_COUNT_DOM\": \"Domestic_EPC_Count\",\n",
    "    \"EPC_RATING_COUNT_NONDOM\": \"NonDomestic_EPC_Count\",\n",
    "    \"AGG_EPC_POTENTIAL_ENERGY_EFFICIENCY_BY_COUNT\": \"Potential_Energy_Efficiency\",\n",
    "    \"AGG_EPC_POTENTIAL_ENERGY_RATING_BY_COUNT\" : \"Potential_Energy_Efficiency_Rating\",\n",
    "    \"AGG_RVEPC_CURRENT_ENERGY_EFFICIENCY_BY_COUNT\": \"Revised_Energy_Efficiency\",\n",
    "    \"AGG_RVEPC_CURRENT_ENERGY_RATING_BY_COUNT\": \"Revised_Energy_Efficiency_Rating\",\n",
    "    \"UPRN\": \"Unique_Property_Reference_Number\",\n",
    "    \"SCU_ID\": \"Statistical_Unit_ID\",\n",
    "    \"OA\": \"Output_Area\",\n",
    "    \"LSOA\": \"Lower_Super_Output_Area\",\n",
    "    \"MSOA\": \"Middle_Super_Output_Area\",\n",
    "    \"OAC\": \"Output_Area_Classification\",\n",
    "    \"WARD_CODE\": \"Ward_Code\",\n",
    "    \"WARD\": \"Ward_Name\",\n",
    "    \"ADMINISTRATIVE_AREA\": \"Administrative_Area\"\n",
    "}, inplace=True)\n",
    "\n",
    "df_selected.head()"
   ]
  },
  {
   "cell_type": "code",
   "execution_count": 17,
   "metadata": {},
   "outputs": [],
   "source": [
    "df_selected = df_selected.drop_duplicates()"
   ]
  },
  {
   "cell_type": "code",
   "execution_count": 18,
   "metadata": {},
   "outputs": [
    {
     "name": "stdout",
     "output_type": "stream",
     "text": [
      "Domestic_EPC_Count                     0.000000\n",
      "NonDomestic_EPC_Count                  0.000000\n",
      "Potential_Energy_Efficiency           48.029959\n",
      "Potential_Energy_Efficiency_Rating    48.029959\n",
      "Revised_Energy_Efficiency             14.901178\n",
      "Revised_Energy_Efficiency_Rating      14.901178\n",
      "Unique_Property_Reference_Number       0.000000\n",
      "Statistical_Unit_ID                   10.859991\n",
      "Output_Area                            0.096753\n",
      "Lower_Super_Output_Area                0.096753\n",
      "Middle_Super_Output_Area               0.096753\n",
      "Output_Area_Classification             0.096753\n",
      "Ward_Code                              0.096753\n",
      "Ward_Name                              0.096753\n",
      "Administrative_Area                    0.000000\n",
      "dtype: float64\n"
     ]
    }
   ],
   "source": [
    "null_percentage = (df_selected.isnull().sum() / len(df_selected)) * 100\n",
    "print(null_percentage)"
   ]
  },
  {
   "cell_type": "code",
   "execution_count": 19,
   "metadata": {},
   "outputs": [
    {
     "data": {
      "image/png": "[encoded data removed]",
      "text/plain": [
       "<Figure size 1200x1000 with 4 Axes>"
      ]
     },
     "metadata": {},
     "output_type": "display_data"
    }
   ],
   "source": [
    "import matplotlib.pyplot as plt\n",
    "import seaborn as sns\n",
    "\n",
    "sns.set_style(\"whitegrid\")\n",
    "\n",
    "fig, axes = plt.subplots(2, 2, figsize=(12, 10))\n",
    "\n",
    "sns.histplot(df_selected['Domestic_EPC_Count'], bins=20, kde=True, ax=axes[0, 0], color='blue')\n",
    "axes[0, 0].set_title('Distribution of Domestic EPC Count')\n",
    "\n",
    "sns.histplot(df_selected['NonDomestic_EPC_Count'], bins=20, kde=True, ax=axes[0, 1], color='green')\n",
    "axes[0, 1].set_title('Distribution of Non-Domestic EPC Count')\n",
    "\n",
    "sns.histplot(df_selected['Potential_Energy_Efficiency'], bins=20, kde=True, ax=axes[1, 0], color='orange')\n",
    "axes[1, 0].set_title('Distribution of Potential Energy Efficiency')\n",
    "\n",
    "sns.histplot(df_selected['Revised_Energy_Efficiency'], bins=20, kde=True, ax=axes[1, 1], color='red')\n",
    "axes[1, 1].set_title('Distribution of Revised Energy Efficiency')\n",
    "\n",
    "plt.tight_layout()\n",
    "plt.show()"
   ]
  },
  {
   "cell_type": "code",
   "execution_count": 20,
   "metadata": {},
   "outputs": [
    {
     "name": "stderr",
     "output_type": "stream",
     "text": [
      "/var/folders/5n/l1swydn11bg6c9v7_60kdfl00000gn/T/ipykernel_5944/2063945088.py:1: FutureWarning: A value is trying to be set on a copy of a DataFrame or Series through chained assignment using an inplace method.\n",
      "The behavior will change in pandas 3.0. This inplace method will never work because the intermediate object on which we are setting values always behaves as a copy.\n",
      "\n",
      "For example, when doing 'df[col].method(value, inplace=True)', try using 'df.method({col: value}, inplace=True)' or df[col] = df[col].method(value) instead, to perform the operation inplace on the original object.\n",
      "\n",
      "\n",
      "  df_selected['Revised_Energy_Efficiency'].fillna(df_selected['Revised_Energy_Efficiency'].median(), inplace=True)\n"
     ]
    }
   ],
   "source": [
    "df_selected['Revised_Energy_Efficiency'].fillna(df_selected['Revised_Energy_Efficiency'].median(), inplace=True)"
   ]
  },
  {
   "cell_type": "code",
   "execution_count": 24,
   "metadata": {},
   "outputs": [
    {
     "data": {
      "text/plain": [
       "Revised_Energy_Efficiency_Rating\n",
       "<class 'str'>      4008957\n",
       "<class 'float'>     701986\n",
       "Name: count, dtype: int64"
      ]
     },
     "execution_count": 24,
     "metadata": {},
     "output_type": "execute_result"
    }
   ],
   "source": [
    "df_selected[\"Revised_Energy_Efficiency_Rating\"].apply(type).value_counts()"
   ]
  },
  {
   "cell_type": "code",
   "execution_count": null,
   "metadata": {},
   "outputs": [
    {
     "data": {
      "text/html": [
       "<div>\n",
       "<style scoped>\n",
       "    .dataframe tbody tr th:only-of-type {\n",
       "        vertical-align: middle;\n",
       "    }\n",
       "\n",
       "    .dataframe tbody tr th {\n",
       "        vertical-align: top;\n",
       "    }\n",
       "\n",
       "    .dataframe thead th {\n",
       "        text-align: right;\n",
       "    }\n",
       "</style>\n",
       "<table border=\"1\" class=\"dataframe\">\n",
       "  <thead>\n",
       "    <tr style=\"text-align: right;\">\n",
       "      <th></th>\n",
       "      <th>Revised_Energy_Efficiency</th>\n",
       "      <th>Revised_Energy_Efficiency_Rating</th>\n",
       "      <th>Unique_Property_Reference_Number</th>\n",
       "      <th>Statistical_Unit_ID</th>\n",
       "      <th>Output_Area</th>\n",
       "      <th>Lower_Super_Output_Area</th>\n",
       "      <th>Middle_Super_Output_Area</th>\n",
       "      <th>Output_Area_Classification</th>\n",
       "      <th>Ward_Code</th>\n",
       "      <th>Ward_Name</th>\n",
       "      <th>Administrative_Area</th>\n",
       "    </tr>\n",
       "  </thead>\n",
       "  <tbody>\n",
       "    <tr>\n",
       "      <th>0</th>\n",
       "      <td>54.0</td>\n",
       "      <td>E</td>\n",
       "      <td>95510923</td>\n",
       "      <td>5.030100e+13</td>\n",
       "      <td>E00000010</td>\n",
       "      <td>E01000003</td>\n",
       "      <td>E02000001</td>\n",
       "      <td>2D3</td>\n",
       "      <td>E05009302</td>\n",
       "      <td>Cripplegate</td>\n",
       "      <td>CITY OF LONDON</td>\n",
       "    </tr>\n",
       "    <tr>\n",
       "      <th>1</th>\n",
       "      <td>54.0</td>\n",
       "      <td>E</td>\n",
       "      <td>100023615843</td>\n",
       "      <td>5.030100e+13</td>\n",
       "      <td>E00000010</td>\n",
       "      <td>E01000003</td>\n",
       "      <td>E02000001</td>\n",
       "      <td>2D3</td>\n",
       "      <td>E05009302</td>\n",
       "      <td>Cripplegate</td>\n",
       "      <td>CITY OF LONDON</td>\n",
       "    </tr>\n",
       "    <tr>\n",
       "      <th>2</th>\n",
       "      <td>63.0</td>\n",
       "      <td>D</td>\n",
       "      <td>200000071748</td>\n",
       "      <td>5.030100e+13</td>\n",
       "      <td>E00000012</td>\n",
       "      <td>E01000003</td>\n",
       "      <td>E02000001</td>\n",
       "      <td>3B3</td>\n",
       "      <td>E05009302</td>\n",
       "      <td>Cripplegate</td>\n",
       "      <td>CITY OF LONDON</td>\n",
       "    </tr>\n",
       "    <tr>\n",
       "      <th>3</th>\n",
       "      <td>63.0</td>\n",
       "      <td>D</td>\n",
       "      <td>200000071808</td>\n",
       "      <td>5.030100e+13</td>\n",
       "      <td>E00000012</td>\n",
       "      <td>E01000003</td>\n",
       "      <td>E02000001</td>\n",
       "      <td>3B3</td>\n",
       "      <td>E05009302</td>\n",
       "      <td>Cripplegate</td>\n",
       "      <td>CITY OF LONDON</td>\n",
       "    </tr>\n",
       "    <tr>\n",
       "      <th>4</th>\n",
       "      <td>63.0</td>\n",
       "      <td>D</td>\n",
       "      <td>200000071807</td>\n",
       "      <td>5.030100e+13</td>\n",
       "      <td>E00000012</td>\n",
       "      <td>E01000003</td>\n",
       "      <td>E02000001</td>\n",
       "      <td>3B3</td>\n",
       "      <td>E05009302</td>\n",
       "      <td>Cripplegate</td>\n",
       "      <td>CITY OF LONDON</td>\n",
       "    </tr>\n",
       "  </tbody>\n",
       "</table>\n",
       "</div>"
      ],
      "text/plain": [
       "   Revised_Energy_Efficiency Revised_Energy_Efficiency_Rating  \\\n",
       "0                       54.0                                E   \n",
       "1                       54.0                                E   \n",
       "2                       63.0                                D   \n",
       "3                       63.0                                D   \n",
       "4                       63.0                                D   \n",
       "\n",
       "   Unique_Property_Reference_Number  Statistical_Unit_ID Output_Area  \\\n",
       "0                          95510923         5.030100e+13   E00000010   \n",
       "1                      100023615843         5.030100e+13   E00000010   \n",
       "2                      200000071748         5.030100e+13   E00000012   \n",
       "3                      200000071808         5.030100e+13   E00000012   \n",
       "4                      200000071807         5.030100e+13   E00000012   \n",
       "\n",
       "  Lower_Super_Output_Area Middle_Super_Output_Area Output_Area_Classification  \\\n",
       "0               E01000003                E02000001                        2D3   \n",
       "1               E01000003                E02000001                        2D3   \n",
       "2               E01000003                E02000001                        3B3   \n",
       "3               E01000003                E02000001                        3B3   \n",
       "4               E01000003                E02000001                        3B3   \n",
       "\n",
       "   Ward_Code    Ward_Name Administrative_Area  \n",
       "0  E05009302  Cripplegate      CITY OF LONDON  \n",
       "1  E05009302  Cripplegate      CITY OF LONDON  \n",
       "2  E05009302  Cripplegate      CITY OF LONDON  \n",
       "3  E05009302  Cripplegate      CITY OF LONDON  \n",
       "4  E05009302  Cripplegate      CITY OF LONDON  "
      ]
     },
     "execution_count": 26,
     "metadata": {},
     "output_type": "execute_result"
    }
   ],
   "source": [
    "columns_to_extract = [\n",
    "    \"AGG_RVEPC_CURRENT_ENERGY_EFFICIENCY_BY_COUNT\", \n",
    "    \"AGG_RVEPC_CURRENT_ENERGY_RATING_BY_COUNT\",\n",
    "    \n",
    "    \"UPRN\", \"SCU_ID\", \"OA\", \"LSOA\", \"MSOA\", \"OAC\", \n",
    "    \"WARD_CODE\", \"WARD\", \"ADMINISTRATIVE_AREA\"\n",
    "]\n",
    "\n",
    "df_RvEPC = df[columns_to_extract].copy()\n",
    "\n",
    "df_RvEPC.rename(columns={\n",
    "    \"AGG_RVEPC_CURRENT_ENERGY_EFFICIENCY_BY_COUNT\": \"Revised_Energy_Efficiency\",\n",
    "    \"AGG_RVEPC_CURRENT_ENERGY_RATING_BY_COUNT\": \"Revised_Energy_Efficiency_Rating\",\n",
    "    \"UPRN\": \"Unique_Property_Reference_Number\",\n",
    "    \"SCU_ID\": \"Statistical_Unit_ID\",\n",
    "    \"OA\": \"Output_Area\",\n",
    "    \"LSOA\": \"Lower_Super_Output_Area\",\n",
    "    \"MSOA\": \"Middle_Super_Output_Area\",\n",
    "    \"OAC\": \"Output_Area_Classification\",\n",
    "    \"WARD_CODE\": \"Ward_Code\",\n",
    "    \"WARD\": \"Ward_Name\",\n",
    "    \"ADMINISTRATIVE_AREA\": \"Administrative_Area\"\n",
    "}, inplace=True)\n",
    "\n",
    "df_RvEPC.head()"
   ]
  },
  {
   "cell_type": "code",
   "execution_count": 30,
   "metadata": {},
   "outputs": [
    {
     "data": {
      "text/plain": [
       "dtype('float64')"
      ]
     },
     "execution_count": 30,
     "metadata": {},
     "output_type": "execute_result"
    }
   ],
   "source": [
    "df_RvEPC[\"Revised_Energy_Efficiency\"].dtype"
   ]
  },
  {
   "cell_type": "code",
   "execution_count": 31,
   "metadata": {},
   "outputs": [
    {
     "data": {
      "text/plain": [
       "array([  54.,   63.,   nan,   64.,   70.,   72.,   73.,   77.,   59.,\n",
       "         79.,   50.,   78.,   75.,   57.,   61.,   66.,   68.,   38.,\n",
       "         47.,   37.,   30.,   19.,   51.,   71.,   32.,   58.,   40.,\n",
       "         25.,   52.,   46.,   36.,   28.,   67.,   39.,  -18.,    9.,\n",
       "         26.,   49.,   29.,   27.,   11.,   21.,   62.,   65.,   22.,\n",
       "         56.,   15.,   20.,   34.,   60.,   14.,   76.,   48.,   53.,\n",
       "         55.,   87.,   82.,   69.,   44.,   81.,   45.,   74.,   42.,\n",
       "         41.,   43.,   85.,   35.,   84.,    6.,  -25.,   24.,   -7.,\n",
       "         80.,   83.,  -32.,   -1.,  -19.,   18.,    3.,  -21.,  -57.,\n",
       "        -92.,   16.,   88.,    1.,   -8., -280., -447., -233.,   89.,\n",
       "         33.,   -6.,   12.,   -4.,  -44.,  -42.,    0.,  -83.,  -29.,\n",
       "         31.,   23.,   -3.,    5.,    7.,   17.,  -38., -237.,   -2.,\n",
       "         10.,  -30.,  -47.,   86.,    2.,  -52.,  -50., -108.,  -65.,\n",
       "         95.,   93.,   91.,   90.,   13.,    8.,  -20.,  -24.,  -31.,\n",
       "        -40.,  -27., -109., -110.,   94.,  -13., -181., -227., -197.,\n",
       "        -67.,  -77.,  -36.,   92.,    4.,  -60.,  -70.,  -17.,  -55.,\n",
       "         98.,   96.,  -56., -131.,  -71.,  -94.,  -45.,  -11.,  -89.,\n",
       "         99.,  -12., -111.,  102.,  -66.,  112.,   97.,  -49.,  -43.,\n",
       "        -39.,  -64.,  -16.,  -48., -157.,  -23.,  -28.,   -9.,  116.,\n",
       "        109.,  -61.,  -58.,  -81.,  114.,  -41.,  103.,  -68.,  104.,\n",
       "        101.,  -14.,  -22.,  100.,  -51.,  -37., -205., -143.,  -10.,\n",
       "        -26.,   -5.,  106., -238.,  -33.,  -75., -133.,  -79.,  -15.,\n",
       "        -84.,  -76.,  -35., -149., -106.,  -88.,  -53., -160.,  -95.,\n",
       "       -193., -194., -201., -169., -154., -176.,  -74., -134., -142.,\n",
       "        -46.,  -90.,  -86.,  118.,  -72., -113., -107.,  -98.,  -93.,\n",
       "        -87., -102.,  -62.,  -96., -105., -196., -120.,  -59.,  -85.,\n",
       "       -288., -122., -212., -116.,  -54.,  -34., -310.,  105.,  127.,\n",
       "       -163., -178., -217.,  107., -129., -144., -226., -221., -257.,\n",
       "       -263., -273., -277., -279., -274., -161., -292., -294., -216.,\n",
       "        124., -126., -172.,  -73., -132., -135., -155.,  -63.,  -78.,\n",
       "       -117., -112.,  -80., -200., -139., -118., -124., -141., -101.,\n",
       "       -350., -467.,  -99., -119., -214., -302.,  -91., -146., -100.,\n",
       "       -127., -164., -121., -153., -179., -103., -104., -253., -123.,\n",
       "       -249., -649., -639., -463., -187., -398., -479., -125., -188.,\n",
       "       -532., -145., -234., -148., -247., -165., -167., -309., -553.,\n",
       "       -140.,  224.,  -97., -242., -180., -368.,  -69., -240.])"
      ]
     },
     "execution_count": 31,
     "metadata": {},
     "output_type": "execute_result"
    }
   ],
   "source": [
    "df_RvEPC[\"Revised_Energy_Efficiency\"].unique()"
   ]
  },
  {
   "cell_type": "code",
   "execution_count": 32,
   "metadata": {},
   "outputs": [
    {
     "data": {
      "text/plain": [
       "array(['E', 'D', nan, 'C', 'F', 'G', 'B', 'A'], dtype=object)"
      ]
     },
     "execution_count": 32,
     "metadata": {},
     "output_type": "execute_result"
    }
   ],
   "source": [
    "df_RvEPC[\"Revised_Energy_Efficiency_Rating\"].unique()"
   ]
  },
  {
   "cell_type": "code",
   "execution_count": 33,
   "metadata": {},
   "outputs": [
    {
     "data": {
      "text/plain": [
       "Revised_Energy_Efficiency_Rating\n",
       "D    2056349\n",
       "C     908713\n",
       "E     744077\n",
       "B     199296\n",
       "F      75157\n",
       "G      23767\n",
       "A       1598\n",
       "Name: count, dtype: int64"
      ]
     },
     "execution_count": 33,
     "metadata": {},
     "output_type": "execute_result"
    }
   ],
   "source": [
    "df_RvEPC[\"Revised_Energy_Efficiency_Rating\"].value_counts()"
   ]
  },
  {
   "cell_type": "code",
   "execution_count": 39,
   "metadata": {},
   "outputs": [
    {
     "data": {
      "image/png": "[encoded data removed]",
      "text/plain": [
       "<Figure size 800x600 with 1 Axes>"
      ]
     },
     "metadata": {},
     "output_type": "display_data"
    }
   ],
   "source": [
    "import matplotlib.pyplot as plt\n",
    "\n",
    "ratings = ['D', 'C', 'E', 'B', 'F', 'G', 'A']\n",
    "counts = [2056349, 908713, 744077, 199296, 75157, 23767, 1598]\n",
    "\n",
    "plt.figure(figsize=(8,6))\n",
    "plt.bar(ratings, counts, color='skyblue')\n",
    "\n",
    "plt.xlabel('Energy Efficiency Rating')\n",
    "plt.ylabel('Count')\n",
    "plt.title('Distribution of Energy Efficiency Ratings')\n",
    "\n",
    "plt.ylim(0, max(counts) + 10000) \n",
    "\n",
    "plt.xticks(rotation=45)\n",
    "\n",
    "\n",
    "plt.show()"
   ]
  },
  {
   "cell_type": "code",
   "execution_count": 40,
   "metadata": {},
   "outputs": [
    {
     "name": "stdout",
     "output_type": "stream",
     "text": [
      "Number of NaN values: 701986\n"
     ]
    }
   ],
   "source": [
    "nan_count = df_RvEPC[\"Revised_Energy_Efficiency_Rating\"].isna().sum()\n",
    "print(f\"Number of NaN values: {nan_count}\")"
   ]
  },
  {
   "cell_type": "code",
   "execution_count": 41,
   "metadata": {},
   "outputs": [],
   "source": [
    "df_RvEPC_cleaned = df_RvEPC.dropna(subset=[\"Revised_Energy_Efficiency_Rating\"])"
   ]
  },
  {
   "cell_type": "code",
   "execution_count": 42,
   "metadata": {},
   "outputs": [
    {
     "data": {
      "text/plain": [
       "array(['E', 'D', 'C', 'F', 'G', 'B', 'A'], dtype=object)"
      ]
     },
     "execution_count": 42,
     "metadata": {},
     "output_type": "execute_result"
    }
   ],
   "source": [
    "df_RvEPC_cleaned[\"Revised_Energy_Efficiency_Rating\"].unique()"
   ]
  },
  {
   "cell_type": "code",
   "execution_count": 43,
   "metadata": {},
   "outputs": [],
   "source": [
    "df_RvEPC_cleaned.to_csv(\"Revised_Energy_Efficiency_Cleaned.csv\", index=False)"
   ]
  },
  {
   "cell_type": "code",
   "execution_count": 44,
   "metadata": {},
   "outputs": [
    {
     "name": "stdout",
     "output_type": "stream",
     "text": [
      "<class 'pandas.core.frame.DataFrame'>\n",
      "Index: 4008957 entries, 0 to 4199333\n",
      "Data columns (total 11 columns):\n",
      " #   Column                            Dtype  \n",
      "---  ------                            -----  \n",
      " 0   Revised_Energy_Efficiency         float64\n",
      " 1   Revised_Energy_Efficiency_Rating  object \n",
      " 2   Unique_Property_Reference_Number  int64  \n",
      " 3   Statistical_Unit_ID               float64\n",
      " 4   Output_Area                       object \n",
      " 5   Lower_Super_Output_Area           object \n",
      " 6   Middle_Super_Output_Area          object \n",
      " 7   Output_Area_Classification        object \n",
      " 8   Ward_Code                         object \n",
      " 9   Ward_Name                         object \n",
      " 10  Administrative_Area               object \n",
      "dtypes: float64(2), int64(1), object(8)\n",
      "memory usage: 367.0+ MB\n"
     ]
    }
   ],
   "source": [
    "df_RvEPC_cleaned.info()"
   ]
  },
  {
   "cell_type": "code",
   "execution_count": 46,
   "metadata": {},
   "outputs": [
    {
     "name": "stdout",
     "output_type": "stream",
     "text": [
      "  Revised_Energy_Efficiency_Rating Lower_Super_Output_Area\n",
      "0                                E               E01000003\n",
      "1                                E               E01000003\n",
      "2                                D               E01000003\n",
      "3                                D               E01000003\n",
      "4                                D               E01000003\n"
     ]
    }
   ],
   "source": [
    "\n",
    "df_RvEPC_cleaned = df_RvEPC_cleaned[['Revised_Energy_Efficiency_Rating', 'Lower_Super_Output_Area']]\n",
    "\n",
    "\n",
    "print(df_RvEPC_cleaned.head())  # Preview the cleaned DataFrame"
   ]
  },
  {
   "cell_type": "code",
   "execution_count": 47,
   "metadata": {},
   "outputs": [
    {
     "name": "stdout",
     "output_type": "stream",
     "text": [
      "<class 'pandas.core.frame.DataFrame'>\n",
      "Index: 4008957 entries, 0 to 4199333\n",
      "Data columns (total 2 columns):\n",
      " #   Column                            Dtype \n",
      "---  ------                            ----- \n",
      " 0   Revised_Energy_Efficiency_Rating  object\n",
      " 1   Lower_Super_Output_Area           object\n",
      "dtypes: object(2)\n",
      "memory usage: 91.8+ MB\n"
     ]
    }
   ],
   "source": [
    "df_RvEPC_cleaned.info()"
   ]
  },
  {
   "cell_type": "code",
   "execution_count": null,
   "metadata": {},
   "outputs": [
    {
     "name": "stdout",
     "output_type": "stream",
     "text": [
      "  Revised_Energy_Efficiency_Rating Lower_Super_Output_Area\n",
      "0                                D               E01000001\n",
      "1                                D               E01000002\n",
      "2                                D               E01000003\n",
      "3                                C               E01000005\n",
      "4                                D               E01000006\n"
     ]
    }
   ],
   "source": [
    "\n",
    "df_grouped = df_RvEPC_cleaned.groupby('Lower_Super_Output_Area', as_index=False).agg({\n",
    "    'Revised_Energy_Efficiency_Rating': lambda x: x.mode()[0],  # Get most frequent value\n",
    "    'Lower_Super_Output_Area': 'first'  # Keep the LSOA itself\n",
    "})\n",
    "\n",
    "print(df_grouped.head())"
   ]
  },
  {
   "cell_type": "code",
   "execution_count": null,
   "metadata": {},
   "outputs": [
    {
     "name": "stdout",
     "output_type": "stream",
     "text": [
      "<class 'pandas.core.frame.DataFrame'>\n",
      "RangeIndex: 4857 entries, 0 to 4856\n",
      "Data columns (total 2 columns):\n",
      " #   Column                            Non-Null Count  Dtype \n",
      "---  ------                            --------------  ----- \n",
      " 0   Revised_Energy_Efficiency_Rating  4857 non-null   object\n",
      " 1   Lower_Super_Output_Area           4857 non-null   object\n",
      "dtypes: object(2)\n",
      "memory usage: 76.0+ KB\n"
     ]
    }
   ],
   "source": [
    "df_grouped.info()\n"
   ]
  },
  {
   "cell_type": "code",
   "execution_count": 50,
   "metadata": {},
   "outputs": [],
   "source": [
    "df_grouped.to_csv(\"rvEPC_and_LSOA.csv\", index=False)"
   ]
  },
  {
   "cell_type": "code",
   "execution_count": null,
   "metadata": {},
   "outputs": [
    {
     "name": "stdout",
     "output_type": "stream",
     "text": [
      "    LSOA11CD     LSOA11NM   MSOA11CD    MSOA11NM    LAD11CD LAD11NM  \\\n",
      "0  E01004076  Sutton 011A  E02000850  Sutton 011  E09000029  Sutton   \n",
      "1  E01004077  Sutton 011B  E02000850  Sutton 011  E09000029  Sutton   \n",
      "2  E01004078  Sutton 011C  E02000850  Sutton 011  E09000029  Sutton   \n",
      "3  E01004079  Sutton 011D  E02000850  Sutton 011  E09000029  Sutton   \n",
      "4  E01004080  Sutton 011E  E02000850  Sutton 011  E09000029  Sutton   \n",
      "\n",
      "     RGN11CD RGN11NM  USUALRES  HHOLDRES  COMESTRES  POPDEN  HHOLDS  \\\n",
      "0  E12000007  London      1487      1487          0     4.3     616   \n",
      "1  E12000007  London      1560      1558          2    59.1     629   \n",
      "2  E12000007  London      1617      1617          0    50.1     686   \n",
      "3  E12000007  London      1399      1399          0    43.7     489   \n",
      "4  E12000007  London      1332      1326          6    45.1     506   \n",
      "\n",
      "   AVHHOLDSZ                                           geometry  \n",
      "0        2.4  POLYGON ((529979.688 167267.094, 530194.764 16...  \n",
      "1        2.5  POLYGON ((530001.242 165257.911, 530139.334 16...  \n",
      "2        2.4  POLYGON ((530625.063 165427.25, 530724.807 165...  \n",
      "3        2.9  POLYGON ((529604.191 165003.162, 529609.396 16...  \n",
      "4        2.6  POLYGON ((530722 165167.984, 530796.665 164844...  \n",
      "Index(['LSOA11CD', 'LSOA11NM', 'MSOA11CD', 'MSOA11NM', 'LAD11CD', 'LAD11NM',\n",
      "       'RGN11CD', 'RGN11NM', 'USUALRES', 'HHOLDRES', 'COMESTRES', 'POPDEN',\n",
      "       'HHOLDS', 'AVHHOLDSZ', 'geometry'],\n",
      "      dtype='object')\n"
     ]
    }
   ],
   "source": [
    "import geopandas as gpd\n",
    "import os\n",
    "\n",
    "\n",
    "folder_path = \"/Users/shakthimaha/Downloads/Dataset/2011_london_boundaries/LSOA_2011_BGC_London\"\n",
    "\n",
    "\n",
    "shapefiles = [f for f in os.listdir(folder_path) if f.endswith(\".shp\")]\n",
    "\n",
    "gdfs = [gpd.read_file(os.path.join(folder_path, shp)) for shp in shapefiles]\n",
    "merged_gdf = gpd.pd.concat(gdfs, ignore_index=True)\n",
    "\n",
    "print(merged_gdf.head())\n",
    "print(merged_gdf.columns)"
   ]
  },
  {
   "cell_type": "code",
   "execution_count": 52,
   "metadata": {},
   "outputs": [
    {
     "name": "stdout",
     "output_type": "stream",
     "text": [
      "<class 'geopandas.geodataframe.GeoDataFrame'>\n",
      "RangeIndex: 4835 entries, 0 to 4834\n",
      "Data columns (total 15 columns):\n",
      " #   Column     Non-Null Count  Dtype   \n",
      "---  ------     --------------  -----   \n",
      " 0   LSOA11CD   4835 non-null   object  \n",
      " 1   LSOA11NM   4835 non-null   object  \n",
      " 2   MSOA11CD   4835 non-null   object  \n",
      " 3   MSOA11NM   4835 non-null   object  \n",
      " 4   LAD11CD    4835 non-null   object  \n",
      " 5   LAD11NM    4835 non-null   object  \n",
      " 6   RGN11CD    4835 non-null   object  \n",
      " 7   RGN11NM    4835 non-null   object  \n",
      " 8   USUALRES   4835 non-null   int32   \n",
      " 9   HHOLDRES   4835 non-null   int32   \n",
      " 10  COMESTRES  4835 non-null   int32   \n",
      " 11  POPDEN     4835 non-null   float64 \n",
      " 12  HHOLDS     4835 non-null   int32   \n",
      " 13  AVHHOLDSZ  4835 non-null   float64 \n",
      " 14  geometry   4835 non-null   geometry\n",
      "dtypes: float64(2), geometry(1), int32(4), object(8)\n",
      "memory usage: 491.2+ KB\n"
     ]
    }
   ],
   "source": [
    "merged_gdf.info()"
   ]
  },
  {
   "cell_type": "code",
   "execution_count": 57,
   "metadata": {},
   "outputs": [
    {
     "name": "stdout",
     "output_type": "stream",
     "text": [
      "Index(['LSOA11CD', 'LSOA11NM', 'MSOA11CD', 'MSOA11NM', 'LAD11CD', 'LAD11NM',\n",
      "       'RGN11CD', 'RGN11NM', 'USUALRES', 'HHOLDRES', 'COMESTRES', 'POPDEN',\n",
      "       'HHOLDS', 'AVHHOLDSZ', 'geometry'],\n",
      "      dtype='object')\n",
      "    LSOA11CD     LSOA11NM   MSOA11CD    MSOA11NM    LAD11CD LAD11NM  \\\n",
      "0  E01004076  Sutton 011A  E02000850  Sutton 011  E09000029  Sutton   \n",
      "1  E01004077  Sutton 011B  E02000850  Sutton 011  E09000029  Sutton   \n",
      "2  E01004078  Sutton 011C  E02000850  Sutton 011  E09000029  Sutton   \n",
      "3  E01004079  Sutton 011D  E02000850  Sutton 011  E09000029  Sutton   \n",
      "4  E01004080  Sutton 011E  E02000850  Sutton 011  E09000029  Sutton   \n",
      "\n",
      "     RGN11CD RGN11NM  USUALRES  HHOLDRES  COMESTRES  POPDEN  HHOLDS  \\\n",
      "0  E12000007  London      1487      1487          0     4.3     616   \n",
      "1  E12000007  London      1560      1558          2    59.1     629   \n",
      "2  E12000007  London      1617      1617          0    50.1     686   \n",
      "3  E12000007  London      1399      1399          0    43.7     489   \n",
      "4  E12000007  London      1332      1326          6    45.1     506   \n",
      "\n",
      "   AVHHOLDSZ                                           geometry  \n",
      "0        2.4  POLYGON ((529979.688 167267.094, 530194.764 16...  \n",
      "1        2.5  POLYGON ((530001.242 165257.911, 530139.334 16...  \n",
      "2        2.4  POLYGON ((530625.063 165427.25, 530724.807 165...  \n",
      "3        2.9  POLYGON ((529604.191 165003.162, 529609.396 16...  \n",
      "4        2.6  POLYGON ((530722 165167.984, 530796.665 164844...  \n"
     ]
    }
   ],
   "source": [
    "print(merged_gdf.columns)  # List column names\n",
    "print(merged_gdf.head())   # Check first few rows"
   ]
  },
  {
   "cell_type": "code",
   "execution_count": 58,
   "metadata": {},
   "outputs": [
    {
     "name": "stdout",
     "output_type": "stream",
     "text": [
      "0    E01004076\n",
      "1    E01004077\n",
      "2    E01004078\n",
      "3    E01004079\n",
      "4    E01004080\n",
      "Name: LSOA11CD, dtype: object\n",
      "0    E01000001\n",
      "1    E01000002\n",
      "2    E01000003\n",
      "3    E01000005\n",
      "4    E01000006\n",
      "Name: Lower_Super_Output_Area, dtype: object\n"
     ]
    }
   ],
   "source": [
    "print(merged_gdf[\"LSOA11CD\"].head())  # From shapefile\n",
    "print(df_grouped[\"Lower_Super_Output_Area\"].head())  # From CSV/Excel"
   ]
  },
  {
   "cell_type": "code",
   "execution_count": 59,
   "metadata": {},
   "outputs": [
    {
     "name": "stdout",
     "output_type": "stream",
     "text": [
      "Matching LSOA codes: 4835/4857\n"
     ]
    }
   ],
   "source": [
    "matching_count = merged_gdf[\"LSOA11CD\"].isin(df_grouped[\"Lower_Super_Output_Area\"]).sum()\n",
    "print(f\"Matching LSOA codes: {matching_count}/{len(df_grouped)}\")"
   ]
  },
  {
   "cell_type": "code",
   "execution_count": 60,
   "metadata": {},
   "outputs": [
    {
     "name": "stdout",
     "output_type": "stream",
     "text": [
      "     Revised_Energy_Efficiency_Rating Lower_Super_Output_Area\n",
      "4642                                D               E01015971\n",
      "4643                                D               E01021744\n",
      "4644                                D               E01021752\n",
      "4645                                B               E01023548\n",
      "4646                                E               E01023839\n",
      "4647                                D               E01023840\n",
      "4648                                D               E01023849\n",
      "4649                                F               E01024151\n",
      "4650                                D               E01024153\n",
      "4651                                D               E01024421\n",
      "4652                                E               E01024439\n",
      "4653                                E               E01024440\n",
      "4654                                F               E01028671\n",
      "4655                                D               E01030323\n",
      "4656                                D               E01030389\n",
      "4657                                D               E01030408\n",
      "4658                                D               E01030565\n",
      "4659                                C               E01030747\n",
      "4660                                D               E01030857\n",
      "4661                                E               E01030860\n",
      "4686                                D               E01032624\n",
      "4754                                D               E01033262\n"
     ]
    }
   ],
   "source": [
    "missing_lsoas = df_grouped[~df_grouped[\"Lower_Super_Output_Area\"].isin(merged_gdf[\"LSOA11CD\"])]\n",
    "print(missing_lsoas)"
   ]
  },
  {
   "cell_type": "code",
   "execution_count": 61,
   "metadata": {},
   "outputs": [
    {
     "name": "stdout",
     "output_type": "stream",
     "text": [
      "Empty GeoDataFrame\n",
      "Columns: [LSOA11CD, LSOA11NM, MSOA11CD, MSOA11NM, LAD11CD, LAD11NM, RGN11CD, RGN11NM, USUALRES, HHOLDRES, COMESTRES, POPDEN, HHOLDS, AVHHOLDSZ, geometry]\n",
      "Index: []\n"
     ]
    }
   ],
   "source": [
    "missing_in_shapefile = merged_gdf[merged_gdf[\"LSOA11CD\"].isin(missing_lsoas[\"Lower_Super_Output_Area\"])]\n",
    "print(missing_in_shapefile)"
   ]
  },
  {
   "cell_type": "code",
   "execution_count": 62,
   "metadata": {},
   "outputs": [],
   "source": [
    "df_grouped[\"Lower_Super_Output_Area\"] = df_grouped[\"Lower_Super_Output_Area\"].str.strip()\n",
    "merged_gdf[\"LSOA11CD\"] = merged_gdf[\"LSOA11CD\"].str.strip()"
   ]
  },
  {
   "cell_type": "code",
   "execution_count": 63,
   "metadata": {},
   "outputs": [],
   "source": [
    "df_grouped = df_grouped[df_grouped[\"Lower_Super_Output_Area\"].isin(merged_gdf[\"LSOA11CD\"])]"
   ]
  },
  {
   "cell_type": "code",
   "execution_count": 64,
   "metadata": {},
   "outputs": [],
   "source": [
    "merged_gdf = merged_gdf.merge(\n",
    "    df_grouped, \n",
    "    left_on=\"LSOA11CD\", \n",
    "    right_on=\"Lower_Super_Output_Area\", \n",
    "    how=\"left\"\n",
    ")"
   ]
  },
  {
   "cell_type": "code",
   "execution_count": null,
   "metadata": {},
   "outputs": [],
   "source": [
    "# Define mapping for categorical ratings\n",
    "rating_map = {\n",
    "    \"A\": 1,\n",
    "    \"B\": 2,\n",
    "    \"C\": 3,\n",
    "    \"D\": 4,\n",
    "    \"E\": 5,\n",
    "    \"F\": 6,\n",
    "    \"G\": 7\n",
    "}\n",
    "\n",
    "# Apply mapping to the dataset\n",
    "merged_gdf[\"Rating_Numeric\"] = merged_gdf[\"Revised_Energy_Efficiency_Rating\"].map(rating_map)"
   ]
  },
  {
   "cell_type": "code",
   "execution_count": 69,
   "metadata": {},
   "outputs": [
    {
     "name": "stderr",
     "output_type": "stream",
     "text": [
      "/var/folders/5n/l1swydn11bg6c9v7_60kdfl00000gn/T/ipykernel_5944/4149561873.py:5: FutureWarning: A value is trying to be set on a copy of a DataFrame or Series through chained assignment using an inplace method.\n",
      "The behavior will change in pandas 3.0. This inplace method will never work because the intermediate object on which we are setting values always behaves as a copy.\n",
      "\n",
      "For example, when doing 'df[col].method(value, inplace=True)', try using 'df.method({col: value}, inplace=True)' or df[col] = df[col].method(value) instead, to perform the operation inplace on the original object.\n",
      "\n",
      "\n",
      "  merged_gdf[\"Rating_Numeric\"].fillna(0, inplace=True)\n"
     ]
    }
   ],
   "source": [
    "# Convert Rating_Numeric to numeric (force conversion and handle errors)\n",
    "merged_gdf[\"Rating_Numeric\"] = pd.to_numeric(merged_gdf[\"Rating_Numeric\"], errors=\"coerce\")\n",
    "\n",
    "# Replace NaN values with a default number (e.g., 0 or another placeholder)\n",
    "merged_gdf[\"Rating_Numeric\"].fillna(0, inplace=True)"
   ]
  },
  {
   "cell_type": "code",
   "execution_count": 70,
   "metadata": {},
   "outputs": [],
   "source": [
    "folium.Choropleth(\n",
    "    geo_data=geojson_data,\n",
    "    name=\"Energy Efficiency\",\n",
    "    data=merged_gdf,\n",
    "    columns=[\"LSOA11CD\", \"Rating_Numeric\"],  # Using the numeric column\n",
    "    key_on=\"feature.properties.LSOA11CD\",\n",
    "    fill_color=\"YlGnBu\",\n",
    "    fill_opacity=0.7,\n",
    "    line_opacity=0.2,\n",
    "    legend_name=\"Energy Efficiency Rating\"\n",
    ").add_to(m)\n",
    "\n",
    "# Save or display the map\n",
    "m.save(\"energy_efficiency_map.html\")"
   ]
  },
  {
   "cell_type": "code",
   "execution_count": 71,
   "metadata": {},
   "outputs": [],
   "source": [
    "import folium\n",
    "\n",
    "# Create a map centered on London\n",
    "m = folium.Map(location=[51.5074, -0.1278], zoom_start=10, tiles='CartoDB positron')  # CartoDB positron for white background"
   ]
  },
  {
   "cell_type": "code",
   "execution_count": 72,
   "metadata": {},
   "outputs": [
    {
     "data": {
      "text/plain": [
       "<folium.features.GeoJson at 0x12594c4d0>"
      ]
     },
     "execution_count": 72,
     "metadata": {},
     "output_type": "execute_result"
    }
   ],
   "source": [
    "# Function to style GeoJSON features\n",
    "def style_function(feature):\n",
    "    return {\n",
    "        'fillColor': 'blue',  # Color of the areas\n",
    "        'color': 'black',     # Border color\n",
    "        'weight': 1,          # Border thickness\n",
    "        'fillOpacity': 0.6    # Opacity of the area fill\n",
    "    }\n",
    "\n",
    "# Add GeoJSON to the map with the custom style\n",
    "folium.GeoJson(\n",
    "    geojson_data,  # The merged GeoJSON data\n",
    "    name=\"Energy Efficiency Areas\",\n",
    "    style_function=style_function\n",
    ").add_to(m)"
   ]
  },
  {
   "cell_type": "code",
   "execution_count": 73,
   "metadata": {},
   "outputs": [
    {
     "data": {
      "text/plain": [
       "<folium.features.GeoJson at 0x125883950>"
      ]
     },
     "execution_count": 73,
     "metadata": {},
     "output_type": "execute_result"
    }
   ],
   "source": [
    "# Style function based on energy rating\n",
    "def style_function(feature):\n",
    "    rating = feature['properties']['Rating_Numeric']  # Get the rating from the feature\n",
    "    color = 'green' if rating > 4 else ('yellow' if rating > 2 else 'red')\n",
    "    \n",
    "    return {\n",
    "        'fillColor': color,  # Color based on the rating\n",
    "        'color': 'black',     # Border color\n",
    "        'weight': 1,          # Border thickness\n",
    "        'fillOpacity': 0.7    # Opacity of the fill\n",
    "    }\n",
    "\n",
    "# Add styled GeoJSON to the map\n",
    "folium.GeoJson(\n",
    "    geojson_data,\n",
    "    name=\"Energy Efficiency Areas\",\n",
    "    style_function=style_function\n",
    ").add_to(m)"
   ]
  },
  {
   "cell_type": "code",
   "execution_count": 74,
   "metadata": {},
   "outputs": [
    {
     "data": {
      "text/plain": [
       "<folium.features.GeoJson at 0x16875f1d0>"
      ]
     },
     "execution_count": 74,
     "metadata": {},
     "output_type": "execute_result"
    }
   ],
   "source": [
    "# Style function based on energy rating\n",
    "def style_function(feature):\n",
    "    rating = feature['properties']['Rating_Numeric']  # Get the rating from the feature\n",
    "    color = 'green' if rating > 4 else ('yellow' if rating > 2 else 'red')\n",
    "    \n",
    "    return {\n",
    "        'fillColor': color,  # Color based on the rating\n",
    "        'color': 'black',     # Border color\n",
    "        'weight': 1,          # Border thickness\n",
    "        'fillOpacity': 0.7    # Opacity of the fill\n",
    "    }\n",
    "\n",
    "# Add styled GeoJSON to the map\n",
    "folium.GeoJson(\n",
    "    geojson_data,\n",
    "    name=\"Energy Efficiency Areas\",\n",
    "    style_function=style_function\n",
    ").add_to(m)"
   ]
  },
  {
   "cell_type": "code",
   "execution_count": 75,
   "metadata": {},
   "outputs": [],
   "source": [
    "# Save or display the map\n",
    "m.save(\"focused_energy_efficiency_map.html\")"
   ]
  }
 ],
 "metadata": {
  "kernelspec": {
   "display_name": "venv",
   "language": "python",
   "name": "python3"
  },
  "language_info": {
   "codemirror_mode": {
    "name": "ipython",
    "version": 3
   },
   "file_extension": ".py",
   "mimetype": "text/x-python",
   "name": "python",
   "nbconvert_exporter": "python",
   "pygments_lexer": "ipython3",
   "version": "3.12.8"
  }
 },
 "nbformat": 4,
 "nbformat_minor": 2
}

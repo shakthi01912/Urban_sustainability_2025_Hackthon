{
 "cells": [
  {
   "cell_type": "code",
   "execution_count": 27,
   "metadata": {},
   "outputs": [],
   "source": [
    "import pandas as pd\n",
    "import numpy as np\n",
    "import matplotlib.pyplot as plt\n",
    "import seaborn as sns\n",
    "from sklearn.decomposition import PCA\n",
    "from sklearn.preprocessing import StandardScaler, LabelEncoder"
   ]
  },
  {
   "cell_type": "code",
   "execution_count": 28,
   "metadata": {},
   "outputs": [],
   "source": [
    "df = pd.read_csv(\"/Users/shakthimaha/Downloads/zcored_data.csv\")"
   ]
  },
  {
   "cell_type": "code",
   "execution_count": 29,
   "metadata": {},
   "outputs": [
    {
     "name": "stdout",
     "output_type": "stream",
     "text": [
      "<class 'pandas.core.frame.DataFrame'>\n",
      "RangeIndex: 4642 entries, 0 to 4641\n",
      "Data columns (total 17 columns):\n",
      " #   Column                                    Non-Null Count  Dtype  \n",
      "---  ------                                    --------------  -----  \n",
      " 0   LSOA11CD                                  4642 non-null   object \n",
      " 1   LSOA11NM                                  4642 non-null   object \n",
      " 2   geometry                                  4642 non-null   object \n",
      " 3   Fuel_Poverty_2011                         4642 non-null   float64\n",
      " 4   Mean_Elec_Consumption                     4642 non-null   float64\n",
      " 5   Mean_Gas_Consumption                      4642 non-null   float64\n",
      " 6   Avg_Build_Year                            4642 non-null   float64\n",
      " 7   Median_Annual_household_income            4642 non-null   float64\n",
      " 8   Density_of_Households                     4642 non-null   float64\n",
      " 9   households_with_resident_percentage       4642 non-null   float64\n",
      " 10  households_no_resident_percentage         4642 non-null   float64\n",
      " 11  whole_house_detached_percentage           4642 non-null   float64\n",
      " 12  whole_house_semi_detached_percentage      4642 non-null   float64\n",
      " 13  whole_house_terraced_percentage           4642 non-null   float64\n",
      " 14  flat_maisonette_apartment_percentage      4642 non-null   float64\n",
      " 15  Revised_Energy_Efficiency_Rating_Numeric  4642 non-null   float64\n",
      " 16  Revised_Energy_Efficiency                 4642 non-null   float64\n",
      "dtypes: float64(14), object(3)\n",
      "memory usage: 616.6+ KB\n",
      "None\n",
      "    LSOA11CD                   LSOA11NM  \\\n",
      "0  E01000001        City of London 001A   \n",
      "1  E01000002        City of London 001B   \n",
      "2  E01000003        City of London 001C   \n",
      "3  E01000005        City of London 001E   \n",
      "4  E01000006  Barking and Dagenham 016A   \n",
      "\n",
      "                                            geometry  Fuel_Poverty_2011  \\\n",
      "0  POLYGON ((-0.097262816705372 51.52157881522085...          -2.061354   \n",
      "1  POLYGON ((-0.0881031757855782 51.5194123775888...          -2.137367   \n",
      "2  POLYGON ((-0.0967598383726936 51.5232512920432...          -1.833316   \n",
      "3  POLYGON ((-0.0732048670708826 51.5100037359235...          -2.327399   \n",
      "4  POLYGON ((0.0911789815733874 51.53908634564686...          -0.199038   \n",
      "\n",
      "   Mean_Elec_Consumption  Mean_Gas_Consumption  Avg_Build_Year  \\\n",
      "0               0.575512             -0.444242        1.422347   \n",
      "1               0.547981             -0.463418        1.820753   \n",
      "2              -1.374403             -1.455614        1.472148   \n",
      "3              -0.690915             -1.721728        1.272945   \n",
      "4               0.491722              0.368362        0.177328   \n",
      "\n",
      "   Median_Annual_household_income  Density_of_Households  \\\n",
      "0                        1.985309               1.349017   \n",
      "1                        1.881211               0.107511   \n",
      "2                       -0.114175               3.917581   \n",
      "3                       -1.024331              -0.424591   \n",
      "4                        0.302392              -0.064258   \n",
      "\n",
      "   households_with_resident_percentage  households_no_resident_percentage  \\\n",
      "0                            -3.293992                           3.293914   \n",
      "1                            -3.809723                           3.809638   \n",
      "2                            -1.521163                           1.521112   \n",
      "3                            -2.713793                           2.713724   \n",
      "4                             0.154965                          -0.154991   \n",
      "\n",
      "   whole_house_detached_percentage  whole_house_semi_detached_percentage  \\\n",
      "0                        -0.648704                             -1.051604   \n",
      "1                        -0.639334                             -1.056668   \n",
      "2                        -0.648704                             -1.061732   \n",
      "3                        -0.629964                             -1.051604   \n",
      "4                        -0.114627                             -0.281920   \n",
      "\n",
      "   whole_house_terraced_percentage  flat_maisonette_apartment_percentage  \\\n",
      "0                        -1.277249                              1.775749   \n",
      "1                        -1.136746                              1.685931   \n",
      "2                        -1.309672                              1.803385   \n",
      "3                        -1.325884                              1.799931   \n",
      "4                         1.549026                             -0.756427   \n",
      "\n",
      "   Revised_Energy_Efficiency_Rating_Numeric  Revised_Energy_Efficiency  \n",
      "0                                  2.943529                  -0.533243  \n",
      "1                                  3.366188                   0.254384  \n",
      "2                                  2.928980                  -0.227704  \n",
      "3                                  3.412412                   1.383197  \n",
      "4                                  2.840149                  -0.392546  \n"
     ]
    }
   ],
   "source": [
    "# Check basic info\n",
    "print(df.info())\n",
    "print(df.head())"
   ]
  },
  {
   "cell_type": "code",
   "execution_count": 30,
   "metadata": {},
   "outputs": [],
   "source": [
    "# Define independent (X) and dependent (Y) variables\n",
    "X = df.drop(columns=['Fuel_Poverty_2011'])  # Features\n",
    "Y = df['Fuel_Poverty_2011']  # Target variable"
   ]
  },
  {
   "cell_type": "code",
   "execution_count": 31,
   "metadata": {},
   "outputs": [
    {
     "name": "stdout",
     "output_type": "stream",
     "text": [
      "Missing values in each column:\n",
      " LSOA11CD                                    0\n",
      "LSOA11NM                                    0\n",
      "geometry                                    0\n",
      "Mean_Elec_Consumption                       0\n",
      "Mean_Gas_Consumption                        0\n",
      "Avg_Build_Year                              0\n",
      "Median_Annual_household_income              0\n",
      "Density_of_Households                       0\n",
      "households_with_resident_percentage         0\n",
      "households_no_resident_percentage           0\n",
      "whole_house_detached_percentage             0\n",
      "whole_house_semi_detached_percentage        0\n",
      "whole_house_terraced_percentage             0\n",
      "flat_maisonette_apartment_percentage        0\n",
      "Revised_Energy_Efficiency_Rating_Numeric    0\n",
      "Revised_Energy_Efficiency                   0\n",
      "dtype: int64\n"
     ]
    }
   ],
   "source": [
    "# Check for missing values\n",
    "print(\"Missing values in each column:\\n\", X.isnull().sum())\n"
   ]
  },
  {
   "cell_type": "code",
   "execution_count": 32,
   "metadata": {},
   "outputs": [],
   "source": [
    "# Convert categorical variables (if any)\n",
    "for col in X.select_dtypes(include=['object']).columns:\n",
    "    X[col] = LabelEncoder().fit_transform(X[col])"
   ]
  },
  {
   "cell_type": "code",
   "execution_count": 33,
   "metadata": {},
   "outputs": [],
   "source": [
    "# Standardize the features\n",
    "scaler = StandardScaler()\n",
    "X_scaled = scaler.fit_transform(X)"
   ]
  },
  {
   "cell_type": "code",
   "execution_count": 34,
   "metadata": {},
   "outputs": [],
   "source": [
    "# Apply PCA\n",
    "pca = PCA(n_components=0.95)  # Keep 95% variance\n",
    "X_pca = pca.fit_transform(X_scaled)"
   ]
  },
  {
   "cell_type": "code",
   "execution_count": 35,
   "metadata": {},
   "outputs": [
    {
     "data": {
      "image/png": "[encoded data removed]",
      "text/plain": [
       "<Figure size 640x480 with 1 Axes>"
      ]
     },
     "metadata": {},
     "output_type": "display_data"
    }
   ],
   "source": [
    "# Explained variance plot\n",
    "explained_variance = np.cumsum(pca.explained_variance_ratio_)\n",
    "plt.plot(range(1, len(explained_variance) + 1), explained_variance, marker='o', linestyle='--')\n",
    "plt.xlabel(\"Number of Components\")\n",
    "plt.ylabel(\"Cumulative Explained Variance\")\n",
    "plt.title(\"PCA Explained Variance\")\n",
    "plt.grid()\n",
    "plt.show()"
   ]
  },
  {
   "cell_type": "code",
   "execution_count": 36,
   "metadata": {},
   "outputs": [
    {
     "name": "stdout",
     "output_type": "stream",
     "text": [
      "Original Features: 16\n",
      "Reduced Features after PCA: 9\n"
     ]
    }
   ],
   "source": [
    "# Print the number of reduced features\n",
    "print(f\"Original Features: {X.shape[1]}\")\n",
    "print(f\"Reduced Features after PCA: {X_pca.shape[1]}\")"
   ]
  },
  {
   "cell_type": "code",
   "execution_count": 37,
   "metadata": {},
   "outputs": [
    {
     "name": "stdout",
     "output_type": "stream",
     "text": [
      "      Mean_Elec_Consumption  Mean_Gas_Consumption  Avg_Build_Year  \\\n",
      "mean          -3.231362e-12          3.877635e-12    1.551057e-11   \n",
      "std            1.000108e+00          1.000108e+00    1.000108e+00   \n",
      "\n",
      "      Median_Annual_household_income  Density_of_Households  \\\n",
      "mean                    7.324425e-12           6.678183e-12   \n",
      "std                     1.000108e+00           1.000108e+00   \n",
      "\n",
      "      households_with_resident_percentage  households_no_resident_percentage  \\\n",
      "mean                         6.462724e-13                       1.292551e-12   \n",
      "std                          1.000108e+00                       1.000108e+00   \n",
      "\n",
      "      whole_house_detached_percentage  whole_house_semi_detached_percentage  \\\n",
      "mean                    -3.231368e-12                          1.938811e-12   \n",
      "std                      1.000108e+00                          1.000108e+00   \n",
      "\n",
      "      whole_house_terraced_percentage  flat_maisonette_apartment_percentage  \\\n",
      "mean                     8.617037e-13                          2.154221e-13   \n",
      "std                      1.000108e+00                          1.000108e+00   \n",
      "\n",
      "      Revised_Energy_Efficiency_Rating_Numeric  Revised_Energy_Efficiency  \n",
      "mean                                  3.016427               4.954782e-12  \n",
      "std                                   0.338938               1.000108e+00  \n"
     ]
    }
   ],
   "source": [
    "# Select relevant columns\n",
    "columns_to_check = [\n",
    "    \"Mean_Elec_Consumption\", \"Mean_Gas_Consumption\", \"Avg_Build_Year\",\n",
    "    \"Median_Annual_household_income\", \"Density_of_Households\",\n",
    "    \"households_with_resident_percentage\", \"households_no_resident_percentage\",\n",
    "    \"whole_house_detached_percentage\", \"whole_house_semi_detached_percentage\",\n",
    "    \"whole_house_terraced_percentage\", \"flat_maisonette_apartment_percentage\",\n",
    "    \"Revised_Energy_Efficiency_Rating_Numeric\", \"Revised_Energy_Efficiency\"\n",
    "]\n",
    "\n",
    "# Check mean and standard deviation\n",
    "mean_std = df[columns_to_check].describe().loc[['mean', 'std']]\n",
    "print(mean_std)"
   ]
  }
 ],
 "metadata": {
  "kernelspec": {
   "display_name": "venv",
   "language": "python",
   "name": "python3"
  },
  "language_info": {
   "codemirror_mode": {
    "name": "ipython",
    "version": 3
   },
   "file_extension": ".py",
   "mimetype": "text/x-python",
   "name": "python",
   "nbconvert_exporter": "python",
   "pygments_lexer": "ipython3",
   "version": "3.12.8"
  }
 },
 "nbformat": 4,
 "nbformat_minor": 2
}
